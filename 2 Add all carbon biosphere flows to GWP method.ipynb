{
 "cells": [
  {
   "cell_type": "markdown",
   "metadata": {},
   "source": [
    "In this notebook we add carbon biosphere flows to the IPCC 2013 method so that we can have negative CO2 emissions from biomass CCS"
   ]
  },
  {
   "cell_type": "markdown",
   "metadata": {},
   "source": [
    "import useful libraries and set current project:"
   ]
  },
  {
   "cell_type": "code",
   "execution_count": 1,
   "metadata": {},
   "outputs": [],
   "source": [
    "%run initialize_notebook.ipynb"
   ]
  },
  {
   "cell_type": "code",
   "execution_count": 2,
   "metadata": {},
   "outputs": [],
   "source": [
    "ipcc = Method(('IPCC 2013', 'climate change', 'GWP 100a'))\n",
    "gwp_data = ipcc.load()"
   ]
  },
  {
   "cell_type": "markdown",
   "metadata": {},
   "source": [
    "find non-fossil CO2 biosphere flows:"
   ]
  },
  {
   "cell_type": "code",
   "execution_count": 3,
   "metadata": {},
   "outputs": [
    {
     "data": {
      "text/plain": [
       "['Carbon dioxide, non-fossil' (kilogram, None, ('air',)),\n",
       " 'Carbon dioxide, non-fossil' (kilogram, None, ('air', 'urban air close to ground')),\n",
       " 'Carbon dioxide, non-fossil' (kilogram, None, ('air', 'non-urban air or from high stacks')),\n",
       " 'Carbon dioxide, non-fossil' (kilogram, None, ('air', 'low population density, long-term')),\n",
       " 'Carbon dioxide, non-fossil' (kilogram, None, ('air', 'lower stratosphere + upper troposphere'))]"
      ]
     },
     "execution_count": 3,
     "metadata": {},
     "output_type": "execute_result"
    }
   ],
   "source": [
    "non_fossil = [x for x in get_many(Database(\"biosphere3\"), equals(\"name\", \"Carbon dioxide, non-fossil\"))]\n",
    "non_fossil"
   ]
  },
  {
   "cell_type": "code",
   "execution_count": 4,
   "metadata": {},
   "outputs": [],
   "source": [
    "gwp_data.extend([(x.key, 1.) for x in non_fossil])"
   ]
  },
  {
   "cell_type": "markdown",
   "metadata": {},
   "source": [
    "Find CO2 in air biosphere flow"
   ]
  },
  {
   "cell_type": "code",
   "execution_count": 5,
   "metadata": {},
   "outputs": [],
   "source": [
    "co2_in_air = get_one(Database(\"biosphere3\"), equals(\"name\", 'Carbon dioxide, in air'))"
   ]
  },
  {
   "cell_type": "code",
   "execution_count": 6,
   "metadata": {},
   "outputs": [
    {
     "data": {
      "text/plain": [
       "'Carbon dioxide, in air' (kilogram, None, ('natural resource', 'in air'))"
      ]
     },
     "execution_count": 6,
     "metadata": {},
     "output_type": "execute_result"
    }
   ],
   "source": [
    "co2_in_air"
   ]
  },
  {
   "cell_type": "code",
   "execution_count": 7,
   "metadata": {},
   "outputs": [],
   "source": [
    "gwp_data.append((co2_in_air.key, -1.))"
   ]
  },
  {
   "cell_type": "code",
   "execution_count": 8,
   "metadata": {},
   "outputs": [
    {
     "data": {
      "text/plain": [
       "Carbon dioxide, fossil                                     1.00\n",
       "Carbon dioxide, from soil or biomass stock                 1.00\n",
       "Carbon dioxide, to soil or biomass stock                  -1.00\n",
       "Carbon monoxide, fossil                                    4.06\n",
       "Carbon monoxide, from soil or biomass stock                4.06\n",
       "Carbon monoxide, non-fossil                                2.49\n",
       "Chloroform                                                16.40\n",
       "Dinitrogen monoxide                                      264.80\n",
       "Ethane, 1,1,1,2-tetrafluoro-, HFC-134a                  1301.27\n",
       "Ethane, 1,1,1-trichloro-, HCFC-140                       160.10\n",
       "Ethane, 1,1,1-trifluoro-, HFC-143a                      4804.44\n",
       "Ethane, 1,1,2-trichloro-1,2,2-trifluoro-, CFC-113       5823.73\n",
       "Ethane, 1,1-dichloro-1-fluoro-, HCFC-141b                782.04\n",
       "Ethane, 1,1-difluoro-, HFC-152a                          137.56\n",
       "Ethane, 1,2-dichloro-                                      0.90\n",
       "Ethane, 1,2-dichloro-1,1,2,2-tetrafluoro-, CFC-114      8592.20\n",
       "Ethane, 1-chloro-1,1-difluoro-, HCFC-142b               1982.04\n",
       "Ethane, 2,2-dichloro-1,1,1-trifluoro-, HCFC-123           79.37\n",
       "Ethane, 2-chloro-1,1,1,2-tetrafluoro-, HCFC-124          526.55\n",
       "Ethane, chloropentafluoro-, CFC-115                     7665.36\n",
       "Ethane, hexafluoro-, HFC-116                           11123.49\n",
       "Ethane, pentafluoro-, HFC-125                           3169.26\n",
       "Methane                                                   29.70\n",
       "Methane, bromo-, Halon 1001                                2.35\n",
       "Methane, bromochlorodifluoro-, Halon 1211               1746.48\n",
       "Methane, bromotrifluoro-, Halon 1301                    6291.63\n",
       "Methane, chlorodifluoro-, HCFC-22                       1764.63\n",
       "Methane, chlorotrifluoro-, CFC-13                      13893.35\n",
       "Methane, dichloro-, HCC-30                                 8.92\n",
       "Methane, dichlorodifluoro-, CFC-12                     10239.23\n",
       "Methane, dichlorofluoro-, HCFC-21                        147.66\n",
       "Methane, difluoro-, HFC-32                               676.81\n",
       "Methane, fossil                                           29.70\n",
       "Methane, from soil or biomass stock                       29.70\n",
       "Methane, monochloro-, R-40                                12.18\n",
       "Methane, non-fossil                                       28.50\n",
       "Methane, tetrachloro-, R-10                             1728.47\n",
       "Methane, tetrafluoro-, R-14                             6625.78\n",
       "Methane, trichlorofluoro-, CFC-11                       4662.94\n",
       "Methane, trifluoro-, HFC-23                            12397.60\n",
       "Nitric oxide                                             -10.80\n",
       "Nitrogen fluoride                                      16070.00\n",
       "Perfluoropentane                                        8546.70\n",
       "Sulfur hexafluoride                                    23506.82\n",
       "VOC, volatile organic compounds, unspecified origin        3.98\n",
       "Carbon dioxide, non-fossil                                 1.00\n",
       "Carbon dioxide, in air                                    -1.00\n",
       "dtype: float64"
      ]
     },
     "execution_count": 8,
     "metadata": {},
     "output_type": "execute_result"
    }
   ],
   "source": [
    "round(pd.Series({get_activity(x)['name']: y for x, y in gwp_data}),2)"
   ]
  },
  {
   "cell_type": "code",
   "execution_count": 9,
   "metadata": {},
   "outputs": [],
   "source": [
    "method = Method(('IPCC 2013', 'climate change', 'GWP 100a', 'Complete'))\n",
    "method.register()\n",
    "method.write(gwp_data)\n",
    "method.process()"
   ]
  },
  {
   "cell_type": "code",
   "execution_count": null,
   "metadata": {
    "collapsed": true
   },
   "outputs": [],
   "source": []
  },
  {
   "cell_type": "code",
   "execution_count": null,
   "metadata": {
    "collapsed": true
   },
   "outputs": [],
   "source": []
  }
 ],
 "metadata": {
  "kernelspec": {
   "display_name": "Python 3",
   "language": "python",
   "name": "python3"
  },
  "language_info": {
   "codemirror_mode": {
    "name": "ipython",
    "version": 3
   },
   "file_extension": ".py",
   "mimetype": "text/x-python",
   "name": "python",
   "nbconvert_exporter": "python",
   "pygments_lexer": "ipython3",
   "version": "3.6.6"
  },
  "toc": {
   "colors": {
    "hover_highlight": "#DAA520",
    "running_highlight": "#FF0000",
    "selected_highlight": "#FFD700"
   },
   "moveMenuLeft": true,
   "nav_menu": {
    "height": "12px",
    "width": "252px"
   },
   "navigate_menu": true,
   "number_sections": true,
   "sideBar": true,
   "threshold": 4,
   "toc_cell": false,
   "toc_section_display": "block",
   "toc_window_display": false,
   "widenNotebook": false
  }
 },
 "nbformat": 4,
 "nbformat_minor": 2
}
