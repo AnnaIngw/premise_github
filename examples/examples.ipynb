{
 "cells": [
  {
   "cell_type": "markdown",
   "metadata": {},
   "source": [
    "# Use examples of [premise](https://github.com/romainsacchi/premise)\n",
    "\n",
    "Author: [romainsacchi](https://github.com/romainsacchi)\n",
    "\n",
    "This notebook shows examples on how to use `premise` to create life cycle invneotries databases for prospective environmental impact assessment.\n",
    "\n",
    "This library extract useful information from IAM model output files (such as those of REMIND or IMAGE) and aligns inventories in the ecoinvent database accordingly.\n",
    "\n",
    "With version 0.2.0, the following transformation are available:\n",
    "\n",
    "* `update_electricity_to_iam_data()`: create regional electricity markets and adjust efficiency of power plants\n",
    "* `update_cement_to_iam_data()`: creates regional markets for clinker production and adjust clinker production efficiency\n",
    "* `update_steel_to_iam_data()`: creates regional markets for steel and adjust steel production efficiency\n",
    "* `update_cars()`: updates car inventories and fleet average car transport activities\n",
    "* `update_trucks()`: updates truck inventories and fleet average trucks transport activities\n",
    "* `update_solar_PV()`: updates efficeincy of solar PV modules\n",
    "\n",
    "Additional documentation on the moethodology is available [here](https://premise.readthedocs.io/en/latest/introduction.html).\n",
    "\n",
    "## Requirements\n",
    "\n",
    "* Pyhton 3.7 or above\n",
    "* a user license for ecoinvent v.3"
   ]
  },
  {
   "cell_type": "markdown",
   "metadata": {},
   "source": [
    "# Use case with [brightway2](https://brightway.dev/)\n",
    "\n",
    "`brightway2` is an open source LCA framework for Python.\n",
    "To use `premise` from `brightway2`, it requires that you have a open `brightway2` project with abiosphere as well as an\n",
    "ecoinvent v.3 database registered in that project."
   ]
  },
  {
   "cell_type": "code",
   "execution_count": null,
   "metadata": {},
   "outputs": [],
   "source": [
    "from premise import *\n",
    "import brightway2 as bw"
   ]
  },
  {
   "cell_type": "code",
   "execution_count": null,
   "metadata": {},
   "outputs": [],
   "source": [
    "bw.projects.set_current(\"import_36_for_carculator\")"
   ]
  },
  {
   "cell_type": "code",
   "execution_count": null,
   "metadata": {},
   "outputs": [],
   "source": [
    "del bw.databases[\"ecoinvent_image_SSP2-Base_2028\"]\n",
    "del bw.databases[\"ecoinvent_remind_SSP2-Base_2032\"]"
   ]
  },
  {
   "cell_type": "code",
   "execution_count": null,
   "metadata": {},
   "outputs": [],
   "source": [
    "bw.databases"
   ]
  },
  {
   "cell_type": "markdown",
   "metadata": {},
   "source": [
    "### List of available scenarios\n",
    "\n",
    "Some scenarios come installed with the library.\n",
    "They are stored in `data/iam_ouput_files` from the root directory.\n",
    "They are all within the SSP2 pathway (middle of the road).\n",
    "\n",
    "With REMIND:\n",
    "* \"SSP2-Base\"\n",
    "* \"SSP2-NPi\"\n",
    "* \"SSP2-NDC\"\n",
    "* \"SSP2-PkBudg1300\"\n",
    "* \"SSP2-PkBudg1100\"\n",
    "* \"SSP2-PkBudg900\"\n",
    "\n",
    "With IMAGE:\n",
    "* \"SSP2-Base\"\n"
   ]
  },
  {
   "cell_type": "markdown",
   "metadata": {},
   "source": [
    "### Database creation from default scenarios\n",
    "\n",
    "To create a scenario using REMIND's SSP2 Base pathway, from ecoinvent 3.6 for the year 2028, one would execute the following cell. This leads to the extraction of the database, some cleanup as well as importing a few additional inventories."
   ]
  },
  {
   "cell_type": "code",
   "execution_count": null,
   "metadata": {},
   "outputs": [],
   "source": [
    "ndb = NewDatabase(\n",
    "            scenarios=[\n",
    "                {\"model\":\"remind\", \"pathway\":\"SSP2-Base\", \"year\":2028}\n",
    "            ],\n",
    "            source_db=\"ecoinvent 3.6 cutoff\", # <-- name of the database in the BW2 project. Must be a string.\n",
    "            source_version=\"3.6\", # <-- version of ecoinvent. Can be \"3.5\", \"3.6\", \"3.7\" or \"3.7.1\". Must be a string.\n",
    "    )"
   ]
  },
  {
   "cell_type": "markdown",
   "metadata": {},
   "source": [
    "or here with ecoinvent 3.7.1"
   ]
  },
  {
   "cell_type": "code",
   "execution_count": null,
   "metadata": {},
   "outputs": [],
   "source": [
    "ndb = NewDatabase(\n",
    "        scenarios=[\n",
    "                {\"model\":\"remind\", \"pathway\":\"SSP2-Base\", \"year\":2028}\n",
    "            ],\n",
    "        source_db=\"ecoinvent 3.7 cutoff\", # <-- this is NEW.\n",
    "        source_version=\"3.7.1\", # <-- this is NEW\n",
    "    )"
   ]
  },
  {
   "cell_type": "markdown",
   "metadata": {},
   "source": [
    "If you want to create multiple databases at once, just populate the `scenarios` list."
   ]
  },
  {
   "cell_type": "code",
   "execution_count": null,
   "metadata": {},
   "outputs": [],
   "source": [
    "ndb = NewDatabase(\n",
    "            scenarios=[\n",
    "                {\"model\":\"remind\", \"pathway\":\"SSP2-Base\", \"year\":2028},\n",
    "                {\"model\":\"remind\", \"pathway\":\"SSP2-NPi\", \"year\":2032}\n",
    "            ],\n",
    "            source_db=\"ecoinvent 3.5 cutoff\", # <-- name of the database. Must be a string.\n",
    "            source_version=\"3.5\", # <-- version of ecoinvent. Can be \"3.5\", \"3.6\", \"3.7\" or \"3.7.1\"\n",
    "                 )"
   ]
  },
  {
   "cell_type": "markdown",
   "metadata": {},
   "source": [
    "When the database is loaded and the additional inventories imported, you can apply a transformation function.\n",
    "For example here, we adjust the efficiency of the solar PVs to the two scenarios we have loaded.\n",
    "We go more in details later."
   ]
  },
  {
   "cell_type": "code",
   "execution_count": null,
   "metadata": {},
   "outputs": [],
   "source": [
    "ndb.update_solar_PV()"
   ]
  },
  {
   "cell_type": "markdown",
   "metadata": {},
   "source": [
    "And then, we register these two databases back into brightway2."
   ]
  },
  {
   "cell_type": "code",
   "execution_count": null,
   "metadata": {},
   "outputs": [],
   "source": [
    "ndb.write_db_to_brightway()"
   ]
  },
  {
   "cell_type": "markdown",
   "metadata": {},
   "source": [
    "### Database creation from non-default scenarios\n",
    "\n",
    "If you have some specific IAM scenarios (one that is not included in `premise`) you would like to build a database from, you can specify the directory to those.\n",
    "\n",
    "**Important remark**: your scenario file must begin with \"remind_\" or \"image_\"."
   ]
  },
  {
   "cell_type": "code",
   "execution_count": null,
   "metadata": {},
   "outputs": [],
   "source": [
    "ndb = NewDatabase(\n",
    "    scenarios = [{\"model\":\"remind\", \"pathway\":\"my_special_scenario\", \"year\":2028, \"filepath\":r\"C:\\Users\\sacchi_r\\Downloads\\REMIND\"}],        \n",
    "    source_db=\"ecoinvent 3.6 cutoff\", # <-- name of the database\n",
    "    source_version=3.6, # <-- version of ecoinvent\n",
    "                 )"
   ]
  },
  {
   "cell_type": "markdown",
   "metadata": {},
   "source": [
    "# Use case with ecospold2\n",
    "\n",
    "The source database does not have to be from a brightway2 project.\n",
    "It can be directly extracted from the bunch of ecospold2 files one gets when downloaded from the [ecoinvent website](https://ecoinvent.org).\n",
    "\n",
    "For this, one needs to specify the argument `source_db = \"ecospold\"` as well as `source_file_path`, which is the directory leading to the ecospold files.\n",
    "\n",
    "For example, here we combine the use of a specific (non-default) IAM scenario file with the use of ecospold2 files as data source (ecoinvent 3.5 in this case)."
   ]
  },
  {
   "cell_type": "code",
   "execution_count": null,
   "metadata": {},
   "outputs": [],
   "source": [
    "ndb = NewDatabase(\n",
    "        scenarios = [\n",
    "            {\"model\":\"remind\", \"pathway\":\"my_special_scenario\", \"year\":2028, \"filepath\":r\"C:\\Users\\sacchi_r\\Downloads\\REMIND\"}\n",
    "        ],        \n",
    "        source_type=\"ecospold\", # <--- this is NEW\n",
    "        source_file_path=r\"C:\\Users\\sacchi_r\\Dropbox\\Public\\ecoinvent 3.5_cutoff_ecoSpold02\\datasets\", # <-- this is NEW\n",
    "        source_version=3.5,\n",
    "    )"
   ]
  },
  {
   "cell_type": "markdown",
   "metadata": {},
   "source": [
    "# Transformation functions\n",
    "\n",
    "These functions modify the extracted database:\n",
    "\n",
    "* **update_electricity_to_iam_data()**: alignment of regional electricity production mixes as well as efficiencies for a number of\n",
    "  electricity production technologies, including Carbon Capture and Storage technologies.\n",
    "* **update_cement_to_iam_data()**: adjustment of technologies for cement production (dry, semi-dry, wet, with pre-heater or not),\n",
    "  fuel efficiency of kilns, fuel mix of kilns (including biomass and waste fuels) and clinker-to-cement ratio.\n",
    "* **update_steel_to_iam_data()**: adjustment of process efficiency, fuel mix and share of secondary steel in steel markets.\n",
    "* **update_solar_PV()**: adjustment of solar PV panels efficiency to the year considered.\n",
    "\n",
    "They can be applied *separately*, *consecutively* or *altogether* (using instead **.update_all()**).\n",
    "They will apply to all the scenario-specific databases listed in `scenarios`."
   ]
  },
  {
   "cell_type": "code",
   "execution_count": null,
   "metadata": {},
   "outputs": [],
   "source": [
    "ndb.update_all()"
   ]
  },
  {
   "cell_type": "markdown",
   "metadata": {},
   "source": [
    "#### Additional options for database creation with cars and truck inventories\n",
    "\n",
    "Two additional functions are available:\n",
    "* **update_cars()**: creates updated inventories for fleet average passenger cars and links back to activities that consume\n",
    "transport.\n",
    "* **update_trucks()**: creates updated inventories for fleet average lorry trucks and links back to activities that consume\n",
    "transport.\n",
    "\n",
    "\n",
    "By default, inventories for passenger cars and trucks are not added upon the creation of the database.\n",
    "But you can add them by adding the following keys to the scenario dictionary: `passenger cars` and `trucks`.\n",
    "This will create inventories for passenger cars and trucks for each region of the IAM model.\n",
    "\n",
    "For example, here we create car inventories in the first scenario, and both cars and trucks inventories in the\n",
    "second scenario. Leaving an empty dicitonary indicates that we do not apply any filter in terms of regions and that we do not provide a fleet composition file (a default one is then used)."
   ]
  },
  {
   "cell_type": "code",
   "execution_count": 1,
   "metadata": {},
   "outputs": [],
   "source": [
    "from premise import *\n",
    "import brightway2 as bw\n",
    "bw.projects.set_current(\"import_36_for_carculator\")"
   ]
  },
  {
   "cell_type": "code",
   "execution_count": 2,
   "metadata": {},
   "outputs": [
    {
     "data": {
      "text/plain": [
       "Databases dictionary with 6 object(s):\n",
       "\tadditional_biosphere\n",
       "\tbiosphere3\n",
       "\tcarculator db\n",
       "\tecoinvent 3.5 cutoff\n",
       "\tecoinvent 3.6 cutoff\n",
       "\tecoinvent 3.7 cutoff"
      ]
     },
     "execution_count": 2,
     "metadata": {},
     "output_type": "execute_result"
    }
   ],
   "source": [
    "bw.databases"
   ]
  },
  {
   "cell_type": "code",
   "execution_count": null,
   "metadata": {},
   "outputs": [],
   "source": [
    "del bw.databases[\"ecoinvent_remind_SSP2-Base_2032\"]"
   ]
  },
  {
   "cell_type": "code",
   "execution_count": 3,
   "metadata": {},
   "outputs": [
    {
     "name": "stdout",
     "output_type": "stream",
     "text": [
      "\n",
      "////////////////////// EXTRACTING SOURCE DATABASE ///////////////////////\n",
      "Getting activity data\n"
     ]
    },
    {
     "name": "stderr",
     "output_type": "stream",
     "text": [
      "100%|█████████████████████████████████| 19128/19128 [00:00<00:00, 60037.09it/s]\n"
     ]
    },
    {
     "name": "stdout",
     "output_type": "stream",
     "text": [
      "Adding exchange data to activities\n"
     ]
    },
    {
     "name": "stderr",
     "output_type": "stream",
     "text": [
      "100%|███████████████████████████████| 621717/621717 [00:44<00:00, 13959.28it/s]\n"
     ]
    },
    {
     "name": "stdout",
     "output_type": "stream",
     "text": [
      "Filling out exchange data\n"
     ]
    },
    {
     "name": "stderr",
     "output_type": "stream",
     "text": [
      "100%|██████████████████████████████████| 19128/19128 [00:03<00:00, 5013.36it/s]\n"
     ]
    },
    {
     "name": "stdout",
     "output_type": "stream",
     "text": [
      "Set missing location of datasets to global scope.\n",
      "Set missing location of production exchanges to scope of dataset.\n",
      "Correct missing location of technosphere exchanges.\n",
      "Remove empty exchanges.\n",
      "\n",
      "/////////////////// IMPORTING ADDITIONAL INVENTORIES ////////////////////\n",
      "Importing necessary inventories...\n",
      "\n",
      "Done!\n",
      "\n"
     ]
    }
   ],
   "source": [
    "ndb = NewDatabase(\n",
    "            scenarios=[\n",
    "                {\"model\":\"image\", \"pathway\":\"SSP2-Base\", \"year\":2028,},\n",
    "                #{\"model\":\"remind\", \"pathway\":\"SSP2-Base\", \"year\":2032}\n",
    "            ],\n",
    "            source_db=\"ecoinvent 3.7 cutoff\", # <-- name of the database. Must be a string.\n",
    "            source_version=\"3.7\", # <-- version of ecoinvent. Can be \"3.5\", \"3.6\", \"3.7\" or \"3.7.1\"\n",
    "                 )"
   ]
  },
  {
   "cell_type": "code",
   "execution_count": 4,
   "metadata": {},
   "outputs": [
    {
     "name": "stdout",
     "output_type": "stream",
     "text": [
      "\n",
      "/////////////////// SOLAR PV ////////////////////\n",
      "Update efficiency of solar PVs.\n",
      "\n"
     ]
    }
   ],
   "source": [
    "ndb.update_solar_PV()"
   ]
  },
  {
   "cell_type": "code",
   "execution_count": null,
   "metadata": {
    "scrolled": true
   },
   "outputs": [],
   "source": [
    "ndb.update_all()"
   ]
  },
  {
   "cell_type": "code",
   "execution_count": 5,
   "metadata": {},
   "outputs": [],
   "source": [
    "from premise import utils"
   ]
  },
  {
   "cell_type": "code",
   "execution_count": 6,
   "metadata": {},
   "outputs": [
    {
     "name": "stdout",
     "output_type": "stream",
     "text": [
      "[('photovoltaic slanted-roof installation, 3kWp, ribbon-Si, panel, mounted, on roof', 'photovoltaic slanted-roof installation, 3kWp, ribbon-Si, panel, mounted, on roof', 'unit', 'CH'), ('photovoltaic slanted-roof installation, 3kWp, single-Si, panel, mounted, on roof', 'photovoltaic slanted-roof installation, 3kWp, single-Si, panel, mounted, on roof', 'unit', 'CH'), ('photovoltaic slanted-roof installation, 3kWp, a-Si, laminated, integrated, on roof', 'photovoltaic slanted-roof installation, 3kWp, a-Si, laminated, integrated, on roof', 'unit', 'RoW'), ('photovoltaic slanted-roof installation, 3kWp, multi-Si, laminated, integrated, on roof', 'photovoltaic slanted-roof installation, 3kWp, multi-Si, laminated, integrated, on roof', 'unit', 'CH'), ('photovoltaic slanted-roof installation, 3kWp, a-Si, panel, mounted, on roof', 'photovoltaic slanted-roof installation, 3kWp, a-Si, panel, mounted, on roof', 'unit', 'RoW'), ('photovoltaic flat-roof installation, 3kWp, multi-Si, on roof', 'photovoltaic flat-roof installation, 3kWp, multi-Si, on roof', 'unit', 'CH'), ('photovoltaic facade installation, 3kWp, multi-Si, panel, mounted, at building', 'photovoltaic facade installation, 3kWp, multi-Si, panel, mounted, at building', 'unit', 'CH'), ('photovoltaic slanted-roof installation, 3kWp, CIS, panel, mounted, on roof', 'photovoltaic slanted-roof installation, 3kWp, CIS, panel, mounted, on roof', 'unit', 'CH'), ('photovoltaic slanted-roof installation, 3kWp, CdTe, laminated, integrated, on roof', 'photovoltaic slanted-roof installation, 3kWp, CdTe, laminated, integrated, on roof', 'unit', 'RoW'), ('photovoltaic slanted-roof installation, 3kWp, ribbon-Si, laminated, integrated, on roof', 'photovoltaic slanted-roof installation, 3kWp, ribbon-Si, laminated, integrated, on roof', 'unit', 'CH'), ('photovoltaic slanted-roof installation, 3kWp, single-Si, laminated, integrated, on roof', 'photovoltaic slanted-roof installation, 3kWp, single-Si, laminated, integrated, on roof', 'unit', 'CH'), ('photovoltaic slanted-roof installation, 3kWp, a-Si, laminated, integrated, on roof', 'photovoltaic slanted-roof installation, 3kWp, a-Si, laminated, integrated, on roof', 'unit', 'CH'), ('photovoltaic slanted-roof installation, 3kWp, a-Si, panel, mounted, on roof', 'photovoltaic slanted-roof installation, 3kWp, a-Si, panel, mounted, on roof', 'unit', 'CH'), ('photovoltaic slanted-roof installation, 3kWp, CdTe, laminated, integrated, on roof', 'photovoltaic slanted-roof installation, 3kWp, CdTe, laminated, integrated, on roof', 'unit', 'CH'), ('photovoltaic plant construction, 570kWp, multi-Si, on open ground', 'photovoltaic plant, 570kWp, multi-Si, on open ground', 'unit', 'GLO'), ('photovoltaic facade installation, 3kWp, multi-Si, laminated, integrated, at building', 'photovoltaic facade installation, 3kWp, multi-Si, laminated, integrated, at building', 'unit', 'RoW'), ('photovoltaic slanted-roof installation, 3kWp, multi-Si, panel, mounted, on roof', 'photovoltaic slanted-roof installation, 3kWp, multi-Si, panel, mounted, on roof', 'unit', 'RoW'), ('photovoltaic flat-roof installation, 3kWp, single-Si, on roof', 'photovoltaic flat-roof installation, 3kWp, single-Si, on roof', 'unit', 'RoW'), ('photovoltaic facade installation, 3kWp, single-Si, laminated, integrated, at building', 'photovoltaic facade installation, 3kWp, single-Si, laminated, integrated, at building', 'unit', 'RoW'), ('photovoltaic facade installation, 3kWp, multi-Si, laminated, integrated, at building', 'photovoltaic facade installation, 3kWp, multi-Si, laminated, integrated, at building', 'unit', 'CH'), ('photovoltaic facade installation, 3kWp, single-Si, panel, mounted, at building', 'photovoltaic facade installation, 3kWp, single-Si, panel, mounted, at building', 'unit', 'RoW'), ('photovoltaic slanted-roof installation, 3kWp, multi-Si, panel, mounted, on roof', 'photovoltaic slanted-roof installation, 3kWp, multi-Si, panel, mounted, on roof', 'unit', 'CH'), ('photovoltaic facade installation, 3kWp, single-Si, panel, mounted, at building', 'photovoltaic facade installation, 3kWp, single-Si, panel, mounted, at building', 'unit', 'CH'), ('photovoltaic slanted-roof installation, 3kWp, ribbon-Si, panel, mounted, on roof', 'photovoltaic slanted-roof installation, 3kWp, ribbon-Si, panel, mounted, on roof', 'unit', 'RoW'), ('photovoltaic facade installation, 3kWp, single-Si, laminated, integrated, at building', 'photovoltaic facade installation, 3kWp, single-Si, laminated, integrated, at building', 'unit', 'CH'), ('photovoltaic flat-roof installation, 3kWp, multi-Si, on roof', 'photovoltaic flat-roof installation, 3kWp, multi-Si, on roof', 'unit', 'RoW'), ('photovoltaic slanted-roof installation, 3kWp, single-Si, panel, mounted, on roof', 'photovoltaic slanted-roof installation, 3kWp, single-Si, panel, mounted, on roof', 'unit', 'RoW'), ('photovoltaic flat-roof installation, 3kWp, single-Si, on roof', 'photovoltaic flat-roof installation, 3kWp, single-Si, on roof', 'unit', 'CH'), ('photovoltaic slanted-roof installation, 3kWp, multi-Si, laminated, integrated, on roof', 'photovoltaic slanted-roof installation, 3kWp, multi-Si, laminated, integrated, on roof', 'unit', 'RoW'), ('photovoltaic slanted-roof installation, 3kWp, CIS, panel, mounted, on roof', 'photovoltaic slanted-roof installation, 3kWp, CIS, panel, mounted, on roof', 'unit', 'RoW'), ('photovoltaic facade installation, 3kWp, multi-Si, panel, mounted, at building', 'photovoltaic facade installation, 3kWp, multi-Si, panel, mounted, at building', 'unit', 'RoW'), ('photovoltaic slanted-roof installation, 3kWp, ribbon-Si, laminated, integrated, on roof', 'photovoltaic slanted-roof installation, 3kWp, ribbon-Si, laminated, integrated, on roof', 'unit', 'RoW'), ('photovoltaic slanted-roof installation, 3kWp, single-Si, laminated, integrated, on roof', 'photovoltaic slanted-roof installation, 3kWp, single-Si, laminated, integrated, on roof', 'unit', 'RoW')]\n",
      "\n",
      "(('photovoltaic slanted-roof installation, 3kWp, a-Si, laminated, integrated, on roof', 'photovoltaic slanted-roof installation, 3kWp, a-Si, laminated, integrated, on roof', 'unit', 'RoW'), ('market for photovoltaic module, building-integrated, for slanted-roof installation', 'photovoltaic module, building-integrated, for slanted-roof installation', 'square meter', 'GLO'))\n",
      "modified tech market for photovoltaic module, building-integrated, for slanted-roof installation\n",
      "modified tech market for photovoltaic laminate, a-Si\n",
      "modified tech market for photovoltaic laminate, CdTe\n",
      "modified tech market for photovoltaic module, building-integrated, for slanted-roof installation\n",
      "modified tech market for photovoltaic panel, multi-Si wafer\n",
      "modified tech market for photovoltaic mounting system, for flat-roof installation\n",
      "modified tech market for photovoltaic mounting system, for slanted-roof installation\n",
      "modified tech market for photovoltaic panel, a-Si\n",
      "modified tech market for photovoltaic panel, ribbon-Si\n",
      "modified tech market for photovoltaic mounting system, for slanted-roof installation\n",
      "modified tech market for photovoltaic mounting system, for slanted-roof installation\n",
      "modified tech market for photovoltaic panel, a-Si\n",
      "modified tech market for photovoltaic module, building-integrated, for facade installation\n",
      "modified tech market for photovoltaic laminate, single-Si wafer\n",
      "modified tech market for photovoltaic module, building-integrated, for slanted-roof installation\n",
      "modified tech market for photovoltaic laminate, CdTe\n",
      "modified tech market for photovoltaic mounting system, for slanted-roof installation\n",
      "modified tech market for photovoltaic panel, CIS\n",
      "modified tech market for photovoltaic laminate, multi-Si wafer\n",
      "modified tech market for photovoltaic module, building-integrated, for facade installation\n",
      "modified tech market for photovoltaic mounting system, for slanted-roof installation\n",
      "modified tech market for photovoltaic panel, single-Si wafer\n",
      "modified tech market for photovoltaic module, building-integrated, for slanted-roof installation\n",
      "modified tech market for photovoltaic laminate, multi-Si wafer\n",
      "modified tech market for photovoltaic mounting system, for slanted-roof installation\n",
      "modified tech market for photovoltaic panel, single-Si wafer\n",
      "modified tech market for photovoltaic panel, multi-Si wafer\n",
      "modified tech market for photovoltaic mounting system, for facade installation\n",
      "modified tech market for photovoltaic laminate, a-Si\n",
      "modified tech market for photovoltaic module, building-integrated, for slanted-roof installation\n",
      "modified tech market for photovoltaic panel, multi-Si wafer\n",
      "modified tech market for photovoltaic mounting system, for 570kWp open ground module\n",
      "modified tech market for photovoltaic module, building-integrated, for slanted-roof installation\n",
      "modified tech market for photovoltaic laminate, single-Si wafer\n",
      "modified tech market for photovoltaic mounting system, for facade installation\n",
      "modified tech market for photovoltaic panel, multi-Si wafer\n",
      "modified tech market for photovoltaic panel, CIS\n",
      "modified tech market for photovoltaic mounting system, for slanted-roof installation\n",
      "modified tech market for photovoltaic module, building-integrated, for facade installation\n",
      "modified tech market for photovoltaic laminate, single-Si wafer\n",
      "modified tech market for photovoltaic module, building-integrated, for slanted-roof installation\n",
      "modified tech market for photovoltaic laminate, multi-Si wafer\n",
      "modified tech market for photovoltaic panel, multi-Si wafer\n",
      "modified tech market for photovoltaic mounting system, for flat-roof installation\n",
      "modified tech market for photovoltaic panel, single-Si wafer\n",
      "modified tech market for photovoltaic mounting system, for flat-roof installation\n",
      "modified tech market for photovoltaic laminate, single-Si wafer\n",
      "modified tech market for photovoltaic module, building-integrated, for slanted-roof installation\n",
      "modified tech market for photovoltaic mounting system, for facade installation\n",
      "modified tech market for photovoltaic panel, single-Si wafer\n",
      "modified tech market for photovoltaic mounting system, for slanted-roof installation\n",
      "modified tech market for photovoltaic panel, ribbon-Si\n",
      "modified tech market for photovoltaic mounting system, for slanted-roof installation\n",
      "modified tech market for photovoltaic panel, multi-Si wafer\n",
      "modified tech market for photovoltaic laminate, ribbon-Si\n",
      "modified tech market for photovoltaic module, building-integrated, for slanted-roof installation\n",
      "modified tech market for photovoltaic panel, single-Si wafer\n",
      "modified tech market for photovoltaic mounting system, for flat-roof installation\n",
      "modified tech market for photovoltaic module, building-integrated, for facade installation\n",
      "modified tech market for photovoltaic laminate, multi-Si wafer\n",
      "modified tech market for photovoltaic mounting system, for slanted-roof installation\n",
      "modified tech market for photovoltaic panel, multi-Si wafer\n",
      "modified tech market for photovoltaic module, building-integrated, for slanted-roof installation\n",
      "modified tech market for photovoltaic laminate, ribbon-Si\n",
      "modified tech market for photovoltaic panel, single-Si wafer\n",
      "modified tech market for photovoltaic mounting system, for facade installation\n"
     ]
    }
   ],
   "source": [
    "scenarios = utils.add_modified_tags(ndb.db, ndb.scenarios)"
   ]
  },
  {
   "cell_type": "code",
   "execution_count": 7,
   "metadata": {},
   "outputs": [],
   "source": [
    "for ds in scenarios[0][\"database\"]:\n",
    "    if \"modified\" in ds:\n",
    "        print(ds[\"name\"])\n",
    "        \n",
    "    for exc in ds[\"exchanges\"]:\n",
    "        if \"modified\" in exc:\n",
    "            print(exc[\"name\"])"
   ]
  },
  {
   "cell_type": "code",
   "execution_count": null,
   "metadata": {},
   "outputs": [],
   "source": [
    "for ds in scenarios[0][\"database\"]:\n",
    "    for exc in ds[\"exchanges\"]:\n",
    "        if exc[\"type\"]==\"biosphere\":\n",
    "            print(exc)"
   ]
  },
  {
   "cell_type": "code",
   "execution_count": null,
   "metadata": {},
   "outputs": [],
   "source": []
  },
  {
   "cell_type": "code",
   "execution_count": null,
   "metadata": {},
   "outputs": [],
   "source": [
    "from premise import export\n",
    "exp = export.Export(ndb.db)"
   ]
  },
  {
   "cell_type": "code",
   "execution_count": null,
   "metadata": {},
   "outputs": [],
   "source": [
    "ind_B = export.create_index_of_B_matrix()\n",
    "ind_B"
   ]
  },
  {
   "cell_type": "code",
   "execution_count": null,
   "metadata": {},
   "outputs": [],
   "source": []
  },
  {
   "cell_type": "code",
   "execution_count": null,
   "metadata": {},
   "outputs": [],
   "source": []
  },
  {
   "cell_type": "code",
   "execution_count": null,
   "metadata": {},
   "outputs": [],
   "source": [
    "for ds in scenarios[1][\"database\"]:\n",
    "    for exc in ds[\"exchanges\"]:\n",
    "        if \"modified\" in exc:\n",
    "            if exc[\"type\"]==\"technosphere\":\n",
    "                print(exc[\"name\"])"
   ]
  },
  {
   "cell_type": "code",
   "execution_count": null,
   "metadata": {},
   "outputs": [],
   "source": [
    "for x, y in d[1].items():\n",
    "    if x not in d[0]:\n",
    "        print(x)\n",
    "    if d[1][x] != d[0][x]:\n",
    "        print(x)"
   ]
  },
  {
   "cell_type": "code",
   "execution_count": null,
   "metadata": {},
   "outputs": [],
   "source": [
    "ndb.update_trucks()"
   ]
  },
  {
   "cell_type": "code",
   "execution_count": null,
   "metadata": {},
   "outputs": [],
   "source": [
    "ndb.scenarios[0]"
   ]
  },
  {
   "cell_type": "markdown",
   "metadata": {},
   "source": [
    "If you want to limit the inventories of passenger cars and trucks to specific regions, you need to pass a dictionary instead, like so:"
   ]
  },
  {
   "cell_type": "code",
   "execution_count": null,
   "metadata": {},
   "outputs": [],
   "source": [
    "ndb = NewDatabase(\n",
    "            model=\"remind\", # <-- name of the IAM model\n",
    "            scenario=\"SSP2-Base\", # <-- name of the scenario\n",
    "            year=2028, # <-- year\n",
    "            source_db=\"ecoinvent 3.6 cutoff\", # <-- name of the database\n",
    "            source_version=3.6, # <-- version of ecoinvent\n",
    "            add_passenger_cars = {\"region\":[\"EUR\", \"USA\"]}, # <-- only for EU and US\n",
    "            add_trucks = {\"region\": [\"CHA\"]} # <-- only for China\n",
    "                 )"
   ]
  },
  {
   "cell_type": "markdown",
   "metadata": {},
   "source": [
    "### Fleet files\n",
    "\n",
    "A last word about passenger cars: it is possible to pass a fleet composition file to generate fleet average inventories and limit those to specific regions (here, the European region).\n",
    "\n",
    "**Important remark**: fleet avergae invenotries generation from fleet compoistion files works only with REMIND at the moment."
   ]
  },
  {
   "cell_type": "code",
   "execution_count": null,
   "metadata": {
    "scrolled": true
   },
   "outputs": [],
   "source": [
    "ndb = NewDatabase(\n",
    "            model=\"remind\",\n",
    "            scenario=\"SSP2-Base\", \n",
    "            year=2028,\n",
    "            source_db=\"ecoinvent 3.6 cutoff\",\n",
    "            source_version=3.6, \n",
    "            add_passenger_cars={\n",
    "                \"fleet file\": r\"C:\\Users\\sacchi_r\\Downloads\\REMIND\\Budg1100_ConvSyn_vintcomp.csv\", # <-- this is NEW\n",
    "                \"region\": [\"EUR\"]\n",
    "        },\n",
    "     )"
   ]
  },
  {
   "cell_type": "markdown",
   "metadata": {},
   "source": [
    "# Export"
   ]
  },
  {
   "cell_type": "markdown",
   "metadata": {},
   "source": [
    "### As a Brightway2 database"
   ]
  },
  {
   "cell_type": "markdown",
   "metadata": {},
   "source": [
    "Export the modified database to brightway2"
   ]
  },
  {
   "cell_type": "code",
   "execution_count": null,
   "metadata": {},
   "outputs": [],
   "source": [
    "ndb.write_db_to_brightway()"
   ]
  },
  {
   "cell_type": "markdown",
   "metadata": {},
   "source": [
    "### As a sparse matrix representation"
   ]
  },
  {
   "cell_type": "markdown",
   "metadata": {},
   "source": [
    "Or export it as a sparse matrix representation.\n",
    "\n",
    "This will export four files:\n",
    "\n",
    "* \"A_matrix.csv\": matrix coordinates and values of shape (index of activity; index of product; value) for the technosphere\n",
    "* \"A_matrix_index.csv\": labels for indices for A matrix of shape (name of activity, reference product, unit, location, index)\n",
    "* \"B_matrix.csv\": matrix coordinates and values of shape (index of activity; index of biosphere flow; value) for the biosphere\n",
    "* \"B_matrix_index.csv\": labels for indices for B matrix of shape (name of biosphere flow, main compartment, sub-compartmnet, unit, index)\n",
    "\n",
    "As a convenience, you can specifiy a directory where to store the exported matrices.\n",
    "If the directory does not exist, it will be created.\n",
    "If you leave it unspecified, they will be stored in **data/matrices** in the root folder of the library."
   ]
  },
  {
   "cell_type": "code",
   "execution_count": null,
   "metadata": {},
   "outputs": [],
   "source": [
    "ndb.write_db_to_matrices(filepath=r\"C:/Users/sacchi_r/Downloads/exported_matrices\")"
   ]
  },
  {
   "cell_type": "markdown",
   "metadata": {},
   "source": [
    "### As a SimaPro CSV file"
   ]
  },
  {
   "cell_type": "code",
   "execution_count": null,
   "metadata": {},
   "outputs": [],
   "source": [
    "ndb.write_db_to_simapro(filepath=r\"C:/Users/sacchi_r/Downloads/exported_simapro_file\")"
   ]
  },
  {
   "cell_type": "code",
   "execution_count": null,
   "metadata": {},
   "outputs": [],
   "source": []
  }
 ],
 "metadata": {
  "kernelspec": {
   "display_name": "Python 3",
   "language": "python",
   "name": "python3"
  },
  "language_info": {
   "codemirror_mode": {
    "name": "ipython",
    "version": 3
   },
   "file_extension": ".py",
   "mimetype": "text/x-python",
   "name": "python",
   "nbconvert_exporter": "python",
   "pygments_lexer": "ipython3",
   "version": "3.9.1"
  }
 },
 "nbformat": 4,
 "nbformat_minor": 2
}
