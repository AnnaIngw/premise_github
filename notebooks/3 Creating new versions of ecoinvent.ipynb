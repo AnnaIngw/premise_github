{
 "cells": [
  {
   "cell_type": "markdown",
   "metadata": {
    "toc": "true"
   },
   "source": [
    "# Table of Contents\n",
    " <p><div class=\"lev1 toc-item\"><a href=\"#Modify-ecoinvent\" data-toc-modified-id=\"Modify-ecoinvent-1\"><span class=\"toc-item-num\">1&nbsp;&nbsp;</span>Modify ecoinvent</a></div><div class=\"lev1 toc-item\"><a href=\"#Prepare-additional-datasets\" data-toc-modified-id=\"Prepare-additional-datasets-2\"><span class=\"toc-item-num\">2&nbsp;&nbsp;</span>Prepare additional datasets</a></div><div class=\"lev2 toc-item\"><a href=\"#import-from-excel\" data-toc-modified-id=\"import-from-excel-21\"><span class=\"toc-item-num\">2.1&nbsp;&nbsp;</span>import from excel</a></div><div class=\"lev1 toc-item\"><a href=\"#Import-new-datasets-and-ecoinvent-into-Wurst-format\" data-toc-modified-id=\"Import-new-datasets-and-ecoinvent-into-Wurst-format-3\"><span class=\"toc-item-num\">3&nbsp;&nbsp;</span>Import new datasets and ecoinvent into Wurst format</a></div><div class=\"lev1 toc-item\"><a href=\"#Define-REMIND-scenarios-and-years-to-be-used:\" data-toc-modified-id=\"Define-REMIND-scenarios-and-years-to-be-used:-4\"><span class=\"toc-item-num\">4&nbsp;&nbsp;</span>Define REMIND scenarios and years to be used:</a></div><div class=\"lev1 toc-item\"><a href=\"#Modify-all-electricity-generation-and-market-datasets:\" data-toc-modified-id=\"Modify-all-electricity-generation-and-market-datasets:-5\"><span class=\"toc-item-num\">5&nbsp;&nbsp;</span>Modify all electricity generation and market datasets:</a></div>"
   ]
  },
  {
   "cell_type": "markdown",
   "metadata": {},
   "source": [
    "# Modify ecoinvent\n",
    "\n",
    "In this notebook we actually run the functions that we've been creating so that we can modify ecoinvent!\n",
    "\n",
    "We create 3 new versions of ecoinvent.\n",
    "\n",
    "1. ecoinvent 2012, which has updates based on image results from 2012\n",
    "2. ecoinvent 2040 BAU, which is a 2040 version of ecoinvent based on the image BAU scenario\n",
    "3. ecoinvent 2040 450, which is a 2040 version of ecoinvent based on the image 450 ppm scenario\n"
   ]
  },
  {
   "cell_type": "code",
   "execution_count": 1,
   "metadata": {},
   "outputs": [
    {
     "data": {
      "text/html": [
       "<style>.container { width:100% !important; }</style>"
      ],
      "text/plain": [
       "<IPython.core.display.HTML object>"
      ]
     },
     "execution_count": 1,
     "metadata": {},
     "output_type": "execute_result"
    }
   ],
   "source": [
    "from IPython.core.display import HTML\n",
    "HTML(\"<style>.container { width:100% !important; }</style>\")"
   ]
  },
  {
   "cell_type": "code",
   "execution_count": 2,
   "metadata": {},
   "outputs": [],
   "source": [
    "%matplotlib inline"
   ]
  },
  {
   "cell_type": "markdown",
   "metadata": {},
   "source": [
    "Import useful libraries and set project:"
   ]
  },
  {
   "cell_type": "code",
   "execution_count": 3,
   "metadata": {
    "scrolled": false
   },
   "outputs": [],
   "source": [
    "%run initialize_notebook.ipynb"
   ]
  },
  {
   "cell_type": "markdown",
   "metadata": {},
   "source": [
    "Import functions that are written on top of Wurst:"
   ]
  },
  {
   "cell_type": "code",
   "execution_count": 5,
   "metadata": {
    "scrolled": true
   },
   "outputs": [
    {
     "name": "stdout",
     "output_type": "stream",
     "text": [
      "Geomatcher: Used 'AU' for 'AUS'\n",
      "Geomatcher: Used 'CA' for 'CAN'\n",
      "Geomatcher: Used 'HM' for 'HMD'\n",
      "Geomatcher: Used 'NZ' for 'NZL'\n",
      "Geomatcher: Used 'PM' for 'SPM'\n",
      "Geomatcher: Used 'CN' for 'CHN'\n",
      "Geomatcher: Used 'HK' for 'HKG'\n",
      "Geomatcher: Used 'MO' for 'MAC'\n",
      "Geomatcher: Used 'TW' for 'TWN'\n",
      "Geomatcher: Used 'AX' for 'ALA'\n",
      "Geomatcher: Used 'AT' for 'AUT'\n",
      "Geomatcher: Used 'BE' for 'BEL'\n",
      "Geomatcher: Used 'BG' for 'BGR'\n",
      "Geomatcher: Used 'CY' for 'CYP'\n",
      "Geomatcher: Used 'CZ' for 'CZE'\n",
      "Geomatcher: Used 'DE' for 'DEU'\n",
      "Geomatcher: Used 'DK' for 'DNK'\n",
      "Geomatcher: Used 'ES' for 'ESP'\n",
      "Geomatcher: Used 'EE' for 'EST'\n",
      "Geomatcher: Used 'FI' for 'FIN'\n",
      "Geomatcher: Used 'FR' for 'FRA'\n",
      "Geomatcher: Used 'FO' for 'FRO'\n",
      "Geomatcher: Used 'GB' for 'GBR'\n",
      "Geomatcher: Used 'GI' for 'GIB'\n",
      "Geomatcher: Used 'GR' for 'GRC'\n",
      "Geomatcher: Used 'HR' for 'HRV'\n",
      "Geomatcher: Used 'HU' for 'HUN'\n",
      "Geomatcher: Used 'IM' for 'IMN'\n",
      "Geomatcher: Used 'IE' for 'IRL'\n",
      "Geomatcher: Used 'IT' for 'ITA'\n",
      "Geomatcher: Used 'LT' for 'LTU'\n",
      "Geomatcher: Used 'LU' for 'LUX'\n",
      "Geomatcher: Used 'LV' for 'LVA'\n",
      "Geomatcher: Used 'MT' for 'MLT'\n",
      "Geomatcher: Used 'NL' for 'NLD'\n",
      "Geomatcher: Used 'PL' for 'POL'\n",
      "Geomatcher: Used 'PT' for 'PRT'\n",
      "Geomatcher: Used 'RO' for 'ROU'\n",
      "Geomatcher: Used 'SK' for 'SVK'\n",
      "Geomatcher: Used 'SI' for 'SVN'\n",
      "Geomatcher: Used 'SE' for 'SWE'\n",
      "Geomatcher: Used 'IN' for 'IND'\n",
      "Geomatcher: Used 'JP' for 'JPN'\n",
      "Geomatcher: Used 'AW' for 'ABW'\n",
      "Geomatcher: Used 'AI' for 'AIA'\n",
      "Geomatcher: Used 'AR' for 'ARG'\n",
      "Geomatcher: Used 'AQ' for 'ATA'\n",
      "Geomatcher: Used 'AG' for 'ATG'\n",
      "Geomatcher: Used 'BQ' for 'BES'\n",
      "Geomatcher: Used 'BS' for 'BHS'\n",
      "Geomatcher: Used 'BZ' for 'BLZ'\n",
      "Geomatcher: Used 'BM' for 'BMU'\n",
      "Geomatcher: Used 'BO' for 'BOL'\n",
      "Geomatcher: Used 'BR' for 'BRA'\n",
      "Geomatcher: Used 'BB' for 'BRB'\n",
      "Geomatcher: Used 'BV' for 'BVT'\n",
      "Geomatcher: Used 'CL' for 'CHL'\n",
      "Geomatcher: Used 'CO' for 'COL'\n",
      "Geomatcher: Used 'CR' for 'CRI'\n",
      "Geomatcher: Used 'CU' for 'CUB'\n",
      "Geomatcher: Used 'CW' for 'CUW'\n",
      "Geomatcher: Used 'KY' for 'CYM'\n",
      "Geomatcher: Used 'DM' for 'DMA'\n",
      "Geomatcher: Used 'DO' for 'DOM'\n",
      "Geomatcher: Used 'EC' for 'ECU'\n",
      "Geomatcher: Used 'FK' for 'FLK'\n",
      "Geomatcher: Used 'GP' for 'GLP'\n",
      "Geomatcher: Used 'GD' for 'GRD'\n",
      "Geomatcher: Used 'GT' for 'GTM'\n",
      "Geomatcher: Used 'GF' for 'GUF'\n",
      "Geomatcher: Used 'GY' for 'GUY'\n",
      "Geomatcher: Used 'HN' for 'HND'\n",
      "Geomatcher: Used 'HT' for 'HTI'\n",
      "Geomatcher: Used 'JM' for 'JAM'\n",
      "Geomatcher: Used 'KN' for 'KNA'\n",
      "Geomatcher: Used 'LC' for 'LCA'\n",
      "Geomatcher: Used 'MX' for 'MEX'\n",
      "Geomatcher: Used 'MS' for 'MSR'\n",
      "Geomatcher: Used 'MQ' for 'MTQ'\n",
      "Geomatcher: Used 'NI' for 'NIC'\n",
      "Geomatcher: Used 'PA' for 'PAN'\n",
      "Geomatcher: Used 'PE' for 'PER'\n",
      "Geomatcher: Used 'PR' for 'PRI'\n",
      "Geomatcher: Used 'PY' for 'PRY'\n",
      "Geomatcher: Used 'GS' for 'SGS'\n",
      "Geomatcher: Used 'SV' for 'SLV'\n",
      "Geomatcher: Used 'SR' for 'SUR'\n",
      "Geomatcher: Used 'SX' for 'SXM'\n",
      "Geomatcher: Used 'TC' for 'TCA'\n",
      "Geomatcher: Used 'TT' for 'TTO'\n",
      "Geomatcher: Used 'UY' for 'URY'\n",
      "Geomatcher: Used 'VC' for 'VCT'\n",
      "Geomatcher: Used 'VE' for 'VEN'\n",
      "Geomatcher: Used 'VG' for 'VGB'\n",
      "Geomatcher: Used 'VI' for 'VIR'\n",
      "Geomatcher: Used 'AE' for 'ARE'\n",
      "Geomatcher: Used 'BH' for 'BHR'\n",
      "Geomatcher: Used 'DZ' for 'DZA'\n",
      "Geomatcher: Used 'EG' for 'EGY'\n",
      "Geomatcher: Used 'EH' for 'ESH'\n",
      "Geomatcher: Used 'IR' for 'IRN'\n",
      "Geomatcher: Used 'IQ' for 'IRQ'\n",
      "Geomatcher: Used 'IL' for 'ISR'\n",
      "Geomatcher: Used 'JO' for 'JOR'\n",
      "Geomatcher: Used 'KW' for 'KWT'\n",
      "Geomatcher: Used 'LB' for 'LBN'\n",
      "Geomatcher: Used 'LY' for 'LBY'\n",
      "Geomatcher: Used 'MA' for 'MAR'\n",
      "Geomatcher: Used 'OM' for 'OMN'\n",
      "Geomatcher: Used 'PS' for 'PSE'\n",
      "Geomatcher: Used 'QA' for 'QAT'\n",
      "Geomatcher: Used 'SA' for 'SAU'\n",
      "Geomatcher: Used 'SD' for 'SDN'\n",
      "Geomatcher: Used 'SY' for 'SYR'\n",
      "Geomatcher: Used 'TN' for 'TUN'\n",
      "Geomatcher: Used 'YE' for 'YEM'\n",
      "Geomatcher: Used 'AL' for 'ALB'\n",
      "Geomatcher: Used 'AD' for 'AND'\n",
      "Geomatcher: Used 'BA' for 'BIH'\n",
      "Geomatcher: Used 'CH' for 'CHE'\n",
      "Geomatcher: Used 'GL' for 'GRL'\n",
      "Geomatcher: Used 'IS' for 'ISL'\n",
      "Geomatcher: Used 'LI' for 'LIE'\n",
      "Geomatcher: Used 'MC' for 'MCO'\n",
      "Geomatcher: Used 'MK' for 'MKD'\n",
      "Geomatcher: Used 'ME' for 'MNE'\n",
      "Geomatcher: Used 'NO' for 'NOR'\n",
      "Geomatcher: Used 'SJ' for 'SJM'\n",
      "Geomatcher: Used 'SM' for 'SMR'\n",
      "Geomatcher: Used 'RS' for 'SRB'\n",
      "Geomatcher: Used 'TR' for 'TUR'\n",
      "Geomatcher: Used 'VA' for 'VAT'\n",
      "Geomatcher: Used 'AF' for 'AFG'\n",
      "Geomatcher: Used 'AS' for 'ASM'\n",
      "Geomatcher: Used 'TF' for 'ATF'\n",
      "Geomatcher: Used 'BD' for 'BGD'\n",
      "Geomatcher: Used 'BN' for 'BRN'\n",
      "Geomatcher: Used 'BT' for 'BTN'\n",
      "Geomatcher: Used 'CK' for 'COK'\n",
      "Geomatcher: Used 'FJ' for 'FJI'\n",
      "Geomatcher: Used 'FM' for 'FSM'\n",
      "Geomatcher: Used 'GU' for 'GUM'\n",
      "Geomatcher: Used 'ID' for 'IDN'\n",
      "Geomatcher: Used 'IO' for 'IOT'\n",
      "Geomatcher: Used 'KH' for 'KHM'\n",
      "Geomatcher: Used 'KI' for 'KIR'\n",
      "Geomatcher: Used 'KR' for 'KOR'\n",
      "Geomatcher: Used 'LA' for 'LAO'\n",
      "Geomatcher: Used 'LK' for 'LKA'\n",
      "Geomatcher: Used 'MV' for 'MDV'\n",
      "Geomatcher: Used 'MH' for 'MHL'\n",
      "Geomatcher: Used 'MM' for 'MMR'\n",
      "Geomatcher: Used 'MN' for 'MNG'\n",
      "Geomatcher: Used 'MP' for 'MNP'\n",
      "Geomatcher: Used 'MY' for 'MYS'\n",
      "Geomatcher: Used 'NC' for 'NCL'\n",
      "Geomatcher: Used 'NF' for 'NFK'\n",
      "Geomatcher: Used 'NU' for 'NIU'\n",
      "Geomatcher: Used 'NP' for 'NPL'\n",
      "Geomatcher: Used 'NR' for 'NRU'\n",
      "Geomatcher: Used 'PK' for 'PAK'\n",
      "Geomatcher: Used 'PN' for 'PCN'\n",
      "Geomatcher: Used 'PH' for 'PHL'\n",
      "Geomatcher: Used 'PW' for 'PLW'\n",
      "Geomatcher: Used 'PG' for 'PNG'\n",
      "Geomatcher: Used 'KP' for 'PRK'\n",
      "Geomatcher: Used 'PF' for 'PYF'\n",
      "Geomatcher: Used 'SG' for 'SGP'\n",
      "Geomatcher: Used 'SB' for 'SLB'\n",
      "Geomatcher: Used 'TH' for 'THA'\n",
      "Geomatcher: Used 'TK' for 'TKL'\n",
      "Geomatcher: Used 'TL' for 'TLS'\n",
      "Geomatcher: Used 'TO' for 'TON'\n",
      "Geomatcher: Used 'TV' for 'TUV'\n",
      "Geomatcher: Used 'UM' for 'UMI'\n",
      "Geomatcher: Used 'VN' for 'VNM'\n",
      "Geomatcher: Used 'VU' for 'VUT'\n",
      "Geomatcher: Used 'WF' for 'WLF'\n",
      "Geomatcher: Used 'WS' for 'WSM'\n",
      "Geomatcher: Used 'AM' for 'ARM'\n",
      "Geomatcher: Used 'AZ' for 'AZE'\n",
      "Geomatcher: Used 'BY' for 'BLR'\n",
      "Geomatcher: Used 'GE' for 'GEO'\n",
      "Geomatcher: Used 'KZ' for 'KAZ'\n",
      "Geomatcher: Used 'KG' for 'KGZ'\n",
      "Geomatcher: Used 'MD' for 'MDA'\n",
      "Geomatcher: Used 'RU' for 'RUS'\n",
      "Geomatcher: Used 'TJ' for 'TJK'\n",
      "Geomatcher: Used 'TM' for 'TKM'\n",
      "Geomatcher: Used 'UA' for 'UKR'\n",
      "Geomatcher: Used 'UZ' for 'UZB'\n",
      "Geomatcher: Used 'AO' for 'AGO'\n",
      "Geomatcher: Used 'BI' for 'BDI'\n",
      "Geomatcher: Used 'BJ' for 'BEN'\n",
      "Geomatcher: Used 'BF' for 'BFA'\n",
      "Geomatcher: Used 'BW' for 'BWA'\n",
      "Geomatcher: Used 'CF' for 'CAF'\n",
      "Geomatcher: Used 'CI' for 'CIV'\n",
      "Geomatcher: Used 'CM' for 'CMR'\n",
      "Geomatcher: Used 'CD' for 'COD'\n",
      "Geomatcher: Used 'CG' for 'COG'\n",
      "Geomatcher: Used 'KM' for 'COM'\n",
      "Geomatcher: Used 'CV' for 'CPV'\n",
      "Geomatcher: Used 'DJ' for 'DJI'\n",
      "Geomatcher: Used 'ER' for 'ERI'\n",
      "Geomatcher: Used 'ET' for 'ETH'\n",
      "Geomatcher: Used 'GA' for 'GAB'\n",
      "Geomatcher: Used 'GH' for 'GHA'\n",
      "Geomatcher: Used 'GN' for 'GIN'\n",
      "Geomatcher: Used 'GM' for 'GMB'\n",
      "Geomatcher: Used 'GW' for 'GNB'\n",
      "Geomatcher: Used 'GQ' for 'GNQ'\n",
      "Geomatcher: Used 'KE' for 'KEN'\n",
      "Geomatcher: Used 'LR' for 'LBR'\n",
      "Geomatcher: Used 'LS' for 'LSO'\n",
      "Geomatcher: Used 'MG' for 'MDG'\n",
      "Geomatcher: Used 'ML' for 'MLI'\n",
      "Geomatcher: Used 'MZ' for 'MOZ'\n",
      "Geomatcher: Used 'MR' for 'MRT'\n",
      "Geomatcher: Used 'MU' for 'MUS'\n",
      "Geomatcher: Used 'MW' for 'MWI'\n",
      "Geomatcher: Used 'YT' for 'MYT'\n",
      "Geomatcher: Used 'NA' for 'NAM'\n",
      "Geomatcher: Used 'NE' for 'NER'\n",
      "Geomatcher: Used 'NG' for 'NGA'\n",
      "Geomatcher: Used 'RE' for 'REU'\n",
      "Geomatcher: Used 'RW' for 'RWA'\n",
      "Geomatcher: Used 'SN' for 'SEN'\n",
      "Geomatcher: Used 'SH' for 'SHN'\n",
      "Geomatcher: Used 'SL' for 'SLE'\n",
      "Geomatcher: Used 'SO' for 'SOM'\n",
      "Geomatcher: Used 'SS' for 'SSD'\n",
      "Geomatcher: Used 'ST' for 'STP'\n",
      "Geomatcher: Used 'SZ' for 'SWZ'\n",
      "Geomatcher: Used 'SC' for 'SYC'\n",
      "Geomatcher: Used 'TD' for 'TCD'\n",
      "Geomatcher: Used 'TG' for 'TGO'\n",
      "Geomatcher: Used 'TZ' for 'TZA'\n",
      "Geomatcher: Used 'UG' for 'UGA'\n",
      "Geomatcher: Used 'ZA' for 'ZAF'\n",
      "Geomatcher: Used 'ZM' for 'ZMB'\n",
      "Geomatcher: Used 'ZW' for 'ZWE'\n",
      "Geomatcher: Used 'US' for 'USA'\n"
     ]
    }
   ],
   "source": [
    "%run REMIND_Functions_to_modify_ecoinvent.ipynb"
   ]
  },
  {
   "cell_type": "markdown",
   "metadata": {},
   "source": [
    "# Prepare additional datasets"
   ]
  },
  {
   "cell_type": "markdown",
   "metadata": {},
   "source": [
    "We import some additional datasets for processes such as CSP and carbon capture and storage electricity. These have been prepared in Simapro and exported. We have cleaned up the datasets and stored them in excel using Brightway input output functionality. We read them from excel here:"
   ]
  },
  {
   "cell_type": "markdown",
   "metadata": {},
   "source": [
    "## import from excel"
   ]
  },
  {
   "cell_type": "code",
   "execution_count": 6,
   "metadata": {},
   "outputs": [
    {
     "name": "stdout",
     "output_type": "stream",
     "text": [
      "Extracted 1 worksheets in 0.38 seconds\n",
      "Applying strategy: csv_restore_tuples\n",
      "Applying strategy: csv_restore_booleans\n",
      "Applying strategy: csv_numerize\n",
      "Applying strategy: csv_drop_unknown\n",
      "Applying strategy: csv_add_missing_exchanges_section\n",
      "Applying strategy: normalize_units\n",
      "Applying strategy: normalize_biosphere_categories\n",
      "Applying strategy: normalize_biosphere_names\n",
      "Applying strategy: strip_biosphere_exc_locations\n",
      "Applying strategy: set_code_by_activity_hash\n",
      "Applying strategy: link_iterable_by_fields\n",
      "Applying strategy: assign_only_product_as_production\n",
      "Applying strategy: link_technosphere_by_activity_hash\n",
      "Applying strategy: drop_falsey_uncertainty_fields_but_keep_zeros\n",
      "Applying strategy: convert_uncertainty_types_to_integers\n",
      "Applying strategy: convert_activity_parameters_to_list\n",
      "Applied 16 strategies in 0.28 seconds\n",
      "Applying strategy: link_iterable_by_fields\n",
      "Applying strategy: link_iterable_by_fields\n",
      "Applying strategy: link_iterable_by_fields\n"
     ]
    },
    {
     "name": "stderr",
     "output_type": "stream",
     "text": [
      "Writing activities to SQLite3 database:\n",
      "0% [##############################] 100% | ETA: 00:00:00\n",
      "Total time elapsed: 00:00:00\n"
     ]
    },
    {
     "name": "stdout",
     "output_type": "stream",
     "text": [
      "Title: Writing activities to SQLite3 database:\n",
      "  Started: 11/08/2018 11:08:23\n",
      "  Finished: 11/08/2018 11:08:23\n",
      "  Total time elapsed: 00:00:00\n",
      "  CPU %: 63.20\n",
      "  Memory %: 1.83\n",
      "Created database: Carma CCS\n",
      "0.004134829852195358\n"
     ]
    }
   ],
   "source": [
    "for k, fp in {'Carma CCS': 'lci-Carma-CCS.xlsx'}.items():\n",
    "   \n",
    "    if k not in databases:\n",
    "        \n",
    "        sp = ExcelImporter(fp)\n",
    "        sp.apply_strategies()\n",
    "        sp.match_database(fields=[\"name\", \"unit\", \"location\"]) \n",
    "        sp.match_database('ecoinvent_3.5',  fields=[\"reference product\", \"name\", \"unit\", \"location\"]) \n",
    "        sp.match_database('ecoinvent_3.5',  fields=[ \"name\", \"unit\", \"location\"])\n",
    "        sp.write_database()\n",
    "        del sp\n",
    "        \n",
    "        lca = LCA({Database(k).random(): 1}, method=lcia_methods['CC'])\n",
    "        lca.lci()\n",
    "        lca.lcia()\n",
    "        print(lca.score)"
   ]
  },
  {
   "cell_type": "markdown",
   "metadata": {},
   "source": [
    "# Import new datasets and ecoinvent into Wurst format"
   ]
  },
  {
   "cell_type": "markdown",
   "metadata": {},
   "source": [
    "We are using the constructive geometries library (by Chris Mutel), which is still in it's infancy. There are some naming inconsistencies still, which we correct for in the following cell:"
   ]
  },
  {
   "cell_type": "markdown",
   "metadata": {},
   "source": [
    "# Define REMIND scenarios and years to be used:"
   ]
  },
  {
   "cell_type": "markdown",
   "metadata": {},
   "source": [
    "Here we set the scenarios and years for which we want to use when creating a new version of ecoinvent:"
   ]
  },
  {
   "cell_type": "code",
   "execution_count": 7,
   "metadata": {},
   "outputs": [],
   "source": [
    "database_dict = collections.defaultdict(dict)\n",
    "\n",
    "for year in [2030, 2050]:\n",
    "    for scenario in ['BAU','RCP26','RCP37']:\n",
    "        if year == 2015 and scenario != 'BAU':\n",
    "            continue\n",
    "        db_name = 'ecoinvent_Remind_' + scenario + '_' + str(year)\n",
    "        database_dict[db_name] = {'year' : year , 'scenario' : scenario}\n"
   ]
  },
  {
   "cell_type": "code",
   "execution_count": 9,
   "metadata": {},
   "outputs": [
    {
     "data": {
      "text/plain": [
       "defaultdict(dict,\n",
       "            {'ecoinvent_Remind_BAU_2030': {'year': 2030, 'scenario': 'BAU'},\n",
       "             'ecoinvent_Remind_RCP26_2030': {'year': 2030,\n",
       "              'scenario': 'RCP26'},\n",
       "             'ecoinvent_Remind_RCP37_2030': {'year': 2030,\n",
       "              'scenario': 'RCP37'},\n",
       "             'ecoinvent_Remind_BAU_2050': {'year': 2050, 'scenario': 'BAU'},\n",
       "             'ecoinvent_Remind_RCP26_2050': {'year': 2050,\n",
       "              'scenario': 'RCP26'},\n",
       "             'ecoinvent_Remind_RCP37_2050': {'year': 2050,\n",
       "              'scenario': 'RCP37'}})"
      ]
     },
     "execution_count": 9,
     "metadata": {},
     "output_type": "execute_result"
    }
   ],
   "source": [
    "database_dict"
   ]
  },
  {
   "cell_type": "code",
   "execution_count": 8,
   "metadata": {},
   "outputs": [
    {
     "data": {
      "text/plain": [
       "Databases dictionary with 3 object(s):\n",
       "\tCarma CCS\n",
       "\tbiosphere3\n",
       "\tecoinvent_3.5"
      ]
     },
     "execution_count": 8,
     "metadata": {},
     "output_type": "execute_result"
    }
   ],
   "source": [
    "databases"
   ]
  },
  {
   "cell_type": "markdown",
   "metadata": {},
   "source": [
    "# Modify all electricity generation and market datasets:"
   ]
  },
  {
   "cell_type": "markdown",
   "metadata": {},
   "source": [
    "This cell uses the Wurst functionality as well as the functions that we wrote in the notebook \"_Functions_to_modify_ecoinvent.ipynb\" to make the changes to ecoinvent:"
   ]
  },
  {
   "cell_type": "code",
   "execution_count": 10,
   "metadata": {
    "scrolled": false
   },
   "outputs": [
    {
     "name": "stdout",
     "output_type": "stream",
     "text": [
      "Getting activity data\n"
     ]
    },
    {
     "name": "stderr",
     "output_type": "stream",
     "text": [
      "100%|██████████| 16168/16168 [00:00<00:00, 49828.98it/s]\n",
      "  0%|          | 1180/547514 [00:00<00:46, 11794.78it/s]"
     ]
    },
    {
     "name": "stdout",
     "output_type": "stream",
     "text": [
      "Adding exchange data to activities\n"
     ]
    },
    {
     "name": "stderr",
     "output_type": "stream",
     "text": [
      "100%|██████████| 547514/547514 [00:31<00:00, 17524.73it/s]\n"
     ]
    },
    {
     "name": "stdout",
     "output_type": "stream",
     "text": [
      "Filling out exchange data\n"
     ]
    },
    {
     "name": "stderr",
     "output_type": "stream",
     "text": [
      "100%|██████████| 16168/16168 [00:03<00:00, 5333.72it/s]\n"
     ]
    },
    {
     "name": "stdout",
     "output_type": "stream",
     "text": [
      "ecoinvent_Remind_BAU_2030\n",
      "Changing ecoinvent electricity generation datasets\n",
      "Changing  Coal PC\n",
      "Changing  Coal CHP\n",
      "Changing  Gas OC\n",
      "Changing  Gas CC\n",
      "Changing  Gas CHP\n",
      "Changing  Oil\n",
      "Changing  Biomass CHP\n",
      "Changing electricity Markets\n",
      "Excluding hydrogen from electricity markets.\n",
      "Hydrogen had a maximum share of 0.0 %\n",
      "Saving changes to excel\n",
      "16168 datasets\n",
      "566838 exchanges\n",
      "0 unlinked exchanges\n",
      "  \n"
     ]
    },
    {
     "name": "stderr",
     "output_type": "stream",
     "text": [
      "Writing activities to SQLite3 database:\n",
      "0% [##############################] 100% | ETA: 00:00:00\n",
      "Total time elapsed: 00:02:08\n"
     ]
    },
    {
     "name": "stdout",
     "output_type": "stream",
     "text": [
      "Title: Writing activities to SQLite3 database:\n",
      "  Started: 11/08/2018 11:37:21\n",
      "  Finished: 11/08/2018 11:39:29\n",
      "  Total time elapsed: 00:02:08\n",
      "  CPU %: 59.30\n",
      "  Memory %: 22.12\n",
      "Created database: ecoinvent_Remind_BAU_2030\n"
     ]
    },
    {
     "name": "stderr",
     "output_type": "stream",
     "text": [
      "\r",
      "0% [#     ] 100% | ETA: 00:30:21"
     ]
    },
    {
     "name": "stdout",
     "output_type": "stream",
     "text": [
      "-0.008770438776694145\n",
      "Getting activity data\n"
     ]
    },
    {
     "name": "stderr",
     "output_type": "stream",
     "text": [
      "100%|██████████| 16168/16168 [00:00<00:00, 101234.29it/s]\n",
      "  1%|          | 3112/547514 [00:00<00:17, 31109.94it/s]"
     ]
    },
    {
     "name": "stdout",
     "output_type": "stream",
     "text": [
      "Adding exchange data to activities\n"
     ]
    },
    {
     "name": "stderr",
     "output_type": "stream",
     "text": [
      "100%|██████████| 547514/547514 [00:30<00:00, 18043.38it/s]\n"
     ]
    },
    {
     "name": "stdout",
     "output_type": "stream",
     "text": [
      "Filling out exchange data\n"
     ]
    },
    {
     "name": "stderr",
     "output_type": "stream",
     "text": [
      "100%|██████████| 16168/16168 [00:03<00:00, 5094.93it/s]\n"
     ]
    },
    {
     "name": "stdout",
     "output_type": "stream",
     "text": [
      "ecoinvent_Remind_RCP26_2030\n",
      "Changing ecoinvent electricity generation datasets\n",
      "Changing  Coal PC\n",
      "Changing  Coal CHP\n",
      "Changing  Gas OC\n",
      "Changing  Gas CC\n",
      "Changing  Gas CHP\n",
      "Changing  Oil\n",
      "Changing  Biomass CHP\n",
      "Changing electricity Markets\n",
      "Excluding hydrogen from electricity markets.\n",
      "Hydrogen had a maximum share of 0.0 %\n",
      "Saving changes to excel\n",
      "16168 datasets\n",
      "567972 exchanges\n",
      "0 unlinked exchanges\n",
      "  \n"
     ]
    },
    {
     "name": "stderr",
     "output_type": "stream",
     "text": [
      "Writing activities to SQLite3 database:\n",
      "0% [##############################] 100% | ETA: 00:00:00\n",
      "Total time elapsed: 00:02:08\n"
     ]
    },
    {
     "name": "stdout",
     "output_type": "stream",
     "text": [
      "Title: Writing activities to SQLite3 database:\n",
      "  Started: 11/08/2018 11:44:18\n",
      "  Finished: 11/08/2018 11:46:26\n",
      "  Total time elapsed: 00:02:08\n",
      "  CPU %: 59.60\n",
      "  Memory %: 22.45\n",
      "Created database: ecoinvent_Remind_RCP26_2030\n",
      "0.9504024876499155\n",
      "Getting activity data\n"
     ]
    },
    {
     "name": "stderr",
     "output_type": "stream",
     "text": [
      "100%|██████████| 16168/16168 [00:00<00:00, 100268.23it/s]\n",
      "  0%|          | 0/547514 [00:00<?, ?it/s]"
     ]
    },
    {
     "name": "stdout",
     "output_type": "stream",
     "text": [
      "Adding exchange data to activities\n"
     ]
    },
    {
     "name": "stderr",
     "output_type": "stream",
     "text": [
      "100%|██████████| 547514/547514 [00:26<00:00, 20289.19it/s]\n"
     ]
    },
    {
     "name": "stdout",
     "output_type": "stream",
     "text": [
      "Filling out exchange data\n"
     ]
    },
    {
     "name": "stderr",
     "output_type": "stream",
     "text": [
      "100%|██████████| 16168/16168 [00:02<00:00, 6610.46it/s]\n"
     ]
    },
    {
     "name": "stdout",
     "output_type": "stream",
     "text": [
      "ecoinvent_Remind_RCP37_2030\n",
      "Changing ecoinvent electricity generation datasets\n",
      "Changing  Coal PC\n",
      "Changing  Coal CHP\n",
      "Changing  Gas OC\n",
      "Changing  Gas CC\n",
      "Changing  Gas CHP\n",
      "Changing  Oil\n",
      "Changing  Biomass CHP\n",
      "Changing electricity Markets\n",
      "Excluding hydrogen from electricity markets.\n",
      "Hydrogen had a maximum share of 0.0 %\n",
      "Saving changes to excel\n",
      "16168 datasets\n",
      "567972 exchanges\n",
      "0 unlinked exchanges\n",
      "  \n"
     ]
    },
    {
     "name": "stderr",
     "output_type": "stream",
     "text": [
      "Writing activities to SQLite3 database:\n",
      "0% [##############################] 100% | ETA: 00:00:00\n",
      "Total time elapsed: 00:02:06\n"
     ]
    },
    {
     "name": "stdout",
     "output_type": "stream",
     "text": [
      "Title: Writing activities to SQLite3 database:\n",
      "  Started: 11/08/2018 11:50:51\n",
      "  Finished: 11/08/2018 11:52:57\n",
      "  Total time elapsed: 00:02:06\n",
      "  CPU %: 60.10\n",
      "  Memory %: 22.53\n",
      "Created database: ecoinvent_Remind_RCP37_2030\n"
     ]
    },
    {
     "name": "stderr",
     "output_type": "stream",
     "text": [
      "\r",
      "0% [###   ] 100% | ETA: 00:19:39"
     ]
    },
    {
     "name": "stdout",
     "output_type": "stream",
     "text": [
      "0.13464899676012093\n",
      "Getting activity data\n"
     ]
    },
    {
     "name": "stderr",
     "output_type": "stream",
     "text": [
      "100%|██████████| 16168/16168 [00:00<00:00, 60756.95it/s]\n",
      "  1%|          | 3103/547514 [00:00<00:17, 31029.73it/s]"
     ]
    },
    {
     "name": "stdout",
     "output_type": "stream",
     "text": [
      "Adding exchange data to activities\n"
     ]
    },
    {
     "name": "stderr",
     "output_type": "stream",
     "text": [
      "100%|██████████| 547514/547514 [00:29<00:00, 18664.17it/s]\n"
     ]
    },
    {
     "name": "stdout",
     "output_type": "stream",
     "text": [
      "Filling out exchange data\n"
     ]
    },
    {
     "name": "stderr",
     "output_type": "stream",
     "text": [
      "100%|██████████| 16168/16168 [00:02<00:00, 6052.05it/s]\n"
     ]
    },
    {
     "name": "stdout",
     "output_type": "stream",
     "text": [
      "ecoinvent_Remind_BAU_2050\n",
      "Changing ecoinvent electricity generation datasets\n",
      "Changing  Coal PC\n",
      "Changing  Coal CHP\n",
      "Changing  Gas OC\n",
      "Changing  Gas CC\n",
      "Changing  Gas CHP\n",
      "Changing  Oil\n",
      "Changing  Biomass CHP\n",
      "Changing electricity Markets\n",
      "Excluding hydrogen from electricity markets.\n",
      "Hydrogen had a maximum share of 0.0 %\n",
      "Saving changes to excel\n",
      "16168 datasets\n",
      "566838 exchanges\n",
      "0 unlinked exchanges\n",
      "  \n"
     ]
    },
    {
     "name": "stderr",
     "output_type": "stream",
     "text": [
      "Writing activities to SQLite3 database:\n",
      "0% [##############################] 100% | ETA: 00:00:00\n",
      "Total time elapsed: 00:02:03\n"
     ]
    },
    {
     "name": "stdout",
     "output_type": "stream",
     "text": [
      "Title: Writing activities to SQLite3 database:\n",
      "  Started: 11/08/2018 11:57:05\n",
      "  Finished: 11/08/2018 11:59:09\n",
      "  Total time elapsed: 00:02:03\n",
      "  CPU %: 60.10\n",
      "  Memory %: 22.57\n",
      "Created database: ecoinvent_Remind_BAU_2050\n"
     ]
    },
    {
     "name": "stderr",
     "output_type": "stream",
     "text": [
      "\r",
      "0% [####  ] 100% | ETA: 00:12:51"
     ]
    },
    {
     "name": "stdout",
     "output_type": "stream",
     "text": [
      "0.0024826125966348604\n",
      "Getting activity data\n"
     ]
    },
    {
     "name": "stderr",
     "output_type": "stream",
     "text": [
      "100%|██████████| 16168/16168 [00:00<00:00, 96977.85it/s]\n",
      "  0%|          | 2556/547514 [00:00<00:21, 25552.59it/s]"
     ]
    },
    {
     "name": "stdout",
     "output_type": "stream",
     "text": [
      "Adding exchange data to activities\n"
     ]
    },
    {
     "name": "stderr",
     "output_type": "stream",
     "text": [
      "100%|██████████| 547514/547514 [00:31<00:00, 17301.15it/s]\n"
     ]
    },
    {
     "name": "stdout",
     "output_type": "stream",
     "text": [
      "Filling out exchange data\n"
     ]
    },
    {
     "name": "stderr",
     "output_type": "stream",
     "text": [
      "100%|██████████| 16168/16168 [00:03<00:00, 5188.79it/s]\n"
     ]
    },
    {
     "name": "stdout",
     "output_type": "stream",
     "text": [
      "ecoinvent_Remind_RCP26_2050\n",
      "Changing ecoinvent electricity generation datasets\n",
      "Changing  Coal PC\n",
      "Changing  Coal CHP\n",
      "Changing  Gas OC\n",
      "Changing  Gas CC\n",
      "Changing  Gas CHP\n",
      "Changing  Oil\n",
      "Changing  Biomass CHP\n",
      "Changing electricity Markets\n",
      "Excluding hydrogen from electricity markets.\n",
      "Hydrogen had a maximum share of 0.56 %\n",
      "Saving changes to excel\n",
      "16168 datasets\n",
      "568377 exchanges\n",
      "0 unlinked exchanges\n",
      "  \n"
     ]
    },
    {
     "name": "stderr",
     "output_type": "stream",
     "text": [
      "Writing activities to SQLite3 database:\n",
      "0% [##############################] 100% | ETA: 00:00:00\n",
      "Total time elapsed: 00:01:51\n"
     ]
    },
    {
     "name": "stdout",
     "output_type": "stream",
     "text": [
      "Title: Writing activities to SQLite3 database:\n",
      "  Started: 11/08/2018 12:04:19\n",
      "  Finished: 11/08/2018 12:06:10\n",
      "  Total time elapsed: 00:01:51\n",
      "  CPU %: 52.00\n",
      "  Memory %: 22.50\n",
      "Created database: ecoinvent_Remind_RCP26_2050\n",
      "0.17283691150055353\n",
      "Getting activity data\n"
     ]
    },
    {
     "name": "stderr",
     "output_type": "stream",
     "text": [
      "100%|██████████| 16168/16168 [00:00<00:00, 101802.52it/s]\n",
      "  1%|          | 3034/547514 [00:00<00:17, 30337.71it/s]"
     ]
    },
    {
     "name": "stdout",
     "output_type": "stream",
     "text": [
      "Adding exchange data to activities\n"
     ]
    },
    {
     "name": "stderr",
     "output_type": "stream",
     "text": [
      "100%|██████████| 547514/547514 [00:27<00:00, 20049.34it/s]\n"
     ]
    },
    {
     "name": "stdout",
     "output_type": "stream",
     "text": [
      "Filling out exchange data\n"
     ]
    },
    {
     "name": "stderr",
     "output_type": "stream",
     "text": [
      "100%|██████████| 16168/16168 [00:02<00:00, 6637.98it/s]\n"
     ]
    },
    {
     "name": "stdout",
     "output_type": "stream",
     "text": [
      "ecoinvent_Remind_RCP37_2050\n",
      "Changing ecoinvent electricity generation datasets\n",
      "Changing  Coal PC\n",
      "Changing  Coal CHP\n",
      "Changing  Gas OC\n",
      "Changing  Gas CC\n",
      "Changing  Gas CHP\n",
      "Changing  Oil\n",
      "Changing  Biomass CHP\n",
      "Changing electricity Markets\n",
      "Excluding hydrogen from electricity markets.\n",
      "Hydrogen had a maximum share of 0.0 %\n",
      "Saving changes to excel\n",
      "16168 datasets\n",
      "568377 exchanges\n",
      "0 unlinked exchanges\n",
      "  \n"
     ]
    },
    {
     "name": "stderr",
     "output_type": "stream",
     "text": [
      "Writing activities to SQLite3 database:\n",
      "0% [##############################] 100% | ETA: 00:00:00\n",
      "Total time elapsed: 00:01:52\n"
     ]
    },
    {
     "name": "stdout",
     "output_type": "stream",
     "text": [
      "Title: Writing activities to SQLite3 database:\n",
      "  Started: 11/08/2018 12:11:04\n",
      "  Finished: 11/08/2018 12:12:56\n",
      "  Total time elapsed: 00:01:52\n",
      "  CPU %: 56.80\n",
      "  Memory %: 22.70\n",
      "Created database: ecoinvent_Remind_RCP37_2050\n"
     ]
    },
    {
     "name": "stderr",
     "output_type": "stream",
     "text": [
      "0% [######] 100% | ETA: 00:00:00"
     ]
    },
    {
     "name": "stdout",
     "output_type": "stream",
     "text": [
      "0.8611866367971789\n"
     ]
    },
    {
     "name": "stderr",
     "output_type": "stream",
     "text": [
      "\n",
      "Total time elapsed: 00:39:47\n"
     ]
    }
   ],
   "source": [
    "for key in pyprind.prog_bar(database_dict.keys()):\n",
    "    \n",
    "    \n",
    "    db = extract_brightway2_databases(['Carma CCS','ecoinvent_3.5'])\n",
    "    default_global_location(db)\n",
    "    fix_unset_technosphere_and_production_exchange_locations(db)\n",
    "    #set_global_location_for_additional_datasets(db)\n",
    "    remove_nones(db)\n",
    "    rename_locations(db, fix_names)\n",
    "    #add_new_locations_to_added_datasets(input_db)\n",
    "    #regionalize_added_datasets(input_db)\n",
    "    \n",
    "    year = database_dict[key]['year']\n",
    "    scenario = database_dict[key]['scenario']\n",
    "    remind_data = get_remind_data(scenario)\n",
    "    print(key)\n",
    "       \n",
    "    #Electricity generation datasets:\n",
    "    print('Changing ecoinvent electricity generation datasets')\n",
    "    technology_changes = update_electricity_datasets_with_remind_data(db, remind_data, year, agg_func=np.average, update_efficiency = True, update_emissions = False)\n",
    "    \n",
    "    # Electricity markets:\n",
    "    print('Changing electricity Markets')\n",
    "    market_changes = update_electricity_markets(db, year, remind_data)\n",
    "    \n",
    "    #Electricity generation datasets from project Carma\n",
    "    #print('Changing Carma electricity datasets')\n",
    "    #modify_all_carma_electricity_datasets(db, year, scenario)\n",
    "    \n",
    "    print('Saving changes to excel')\n",
    "    tech_df = pd.DataFrame.from_dict(technology_changes)\n",
    "    tech_df.index = pd.MultiIndex.from_tuples(tech_df.index)\n",
    "    tech_df=tech_df.T\n",
    "    tech_df = tech_df.set_index([('meta data','remind technology'),('meta data','name'),('meta data','location')], drop=True).sort_index()\n",
    "    market_df = pd.DataFrame.from_dict(market_changes).T\n",
    "    market_df = market_df.set_index([('meta data','name'),('meta data','location')], drop=True).sort_index().T\n",
    "\n",
    "    writer = pd.ExcelWriter('electricity changes '+ str(year) + ' '+ scenario + '.xlsx')\n",
    "    market_df.to_excel(writer, sheet_name = 'markets')\n",
    "    for tech in tech_df.index.levels[0]:\n",
    "        tech_df.loc[tech].dropna(how='all', axis=1).swaplevel(i=0,j=1, axis=1).T.to_excel(writer, sheet_name = tech)\n",
    "    writer.save()\n",
    "    del tech_df\n",
    "    del market_df\n",
    "    del writer\n",
    "    \n",
    "    \n",
    "    rename_locations(db, fix_names_back)\n",
    "    if key in databases:\n",
    "        del databases[key]\n",
    "\n",
    "    write_brightway2_database(db, key)\n",
    "    del db\n",
    "    \n",
    "        \n",
    "    lca = LCA({Database(key).random(): 1}, method=lcia_methods['CC'])\n",
    "    lca.lci()\n",
    "    lca.lcia()\n",
    "    print(lca.score)\n"
   ]
  },
  {
   "cell_type": "code",
   "execution_count": 11,
   "metadata": {},
   "outputs": [
    {
     "data": {
      "text/plain": [
       "Databases dictionary with 9 object(s):\n",
       "\tCarma CCS\n",
       "\tbiosphere3\n",
       "\tecoinvent_3.5\n",
       "\tecoinvent_Remind_BAU_2030\n",
       "\tecoinvent_Remind_BAU_2050\n",
       "\tecoinvent_Remind_RCP26_2030\n",
       "\tecoinvent_Remind_RCP26_2050\n",
       "\tecoinvent_Remind_RCP37_2030\n",
       "\tecoinvent_Remind_RCP37_2050"
      ]
     },
     "execution_count": 11,
     "metadata": {},
     "output_type": "execute_result"
    }
   ],
   "source": [
    "databases"
   ]
  },
  {
   "cell_type": "code",
   "execution_count": null,
   "metadata": {},
   "outputs": [],
   "source": []
  }
 ],
 "metadata": {
  "kernelspec": {
   "display_name": "Python 3",
   "language": "python",
   "name": "python3"
  },
  "language_info": {
   "codemirror_mode": {
    "name": "ipython",
    "version": 3
   },
   "file_extension": ".py",
   "mimetype": "text/x-python",
   "name": "python",
   "nbconvert_exporter": "python",
   "pygments_lexer": "ipython3",
   "version": "3.6.6"
  },
  "toc": {
   "colors": {
    "hover_highlight": "#DAA520",
    "running_highlight": "#FF0000",
    "selected_highlight": "#FFD700"
   },
   "moveMenuLeft": true,
   "nav_menu": {
    "height": "85px",
    "width": "252px"
   },
   "navigate_menu": true,
   "number_sections": true,
   "sideBar": true,
   "threshold": 4,
   "toc_cell": true,
   "toc_section_display": "block",
   "toc_window_display": false,
   "widenNotebook": false
  }
 },
 "nbformat": 4,
 "nbformat_minor": 2
}
