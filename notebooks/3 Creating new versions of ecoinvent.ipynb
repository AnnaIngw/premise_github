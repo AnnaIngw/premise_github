{
 "cells": [
  {
   "cell_type": "markdown",
   "metadata": {
    "toc": "true"
   },
   "source": [
    "# Table of Contents\n",
    " <p><div class=\"lev1 toc-item\"><a href=\"#Modify-ecoinvent\" data-toc-modified-id=\"Modify-ecoinvent-1\"><span class=\"toc-item-num\">1&nbsp;&nbsp;</span>Modify ecoinvent</a></div><div class=\"lev1 toc-item\"><a href=\"#Prepare-additional-datasets\" data-toc-modified-id=\"Prepare-additional-datasets-2\"><span class=\"toc-item-num\">2&nbsp;&nbsp;</span>Prepare additional datasets</a></div><div class=\"lev2 toc-item\"><a href=\"#import-from-excel\" data-toc-modified-id=\"import-from-excel-21\"><span class=\"toc-item-num\">2.1&nbsp;&nbsp;</span>import from excel</a></div><div class=\"lev1 toc-item\"><a href=\"#Define-REMIND-scenarios-and-years-to-be-used:\" data-toc-modified-id=\"Define-REMIND-scenarios-and-years-to-be-used:-3\"><span class=\"toc-item-num\">3&nbsp;&nbsp;</span>Define REMIND scenarios and years to be used:</a></div><div class=\"lev1 toc-item\"><a href=\"#Modify-all-electricity-generation-and-market-datasets:\" data-toc-modified-id=\"Modify-all-electricity-generation-and-market-datasets:-4\"><span class=\"toc-item-num\">4&nbsp;&nbsp;</span>Modify all electricity generation and market datasets:</a></div><div class=\"lev1 toc-item\"><a href=\"#create-current-version-of-ecoinvent-with-additional-technologies-added-in:\" data-toc-modified-id=\"create-current-version-of-ecoinvent-with-additional-technologies-added-in:-5\"><span class=\"toc-item-num\">5&nbsp;&nbsp;</span>create current version of ecoinvent with additional technologies added in:</a></div>"
   ]
  },
  {
   "cell_type": "markdown",
   "metadata": {},
   "source": [
    "# Modify ecoinvent\n",
    "\n",
    "In this notebook we actually run the functions that we've been creating so that we can modify ecoinvent!\n",
    "\n",
    "We create 3 new versions of ecoinvent.\n",
    "\n",
    "1. ecoinvent 2012, which has updates based on image results from 2012\n",
    "2. ecoinvent 2040 BAU, which is a 2040 version of ecoinvent based on the image BAU scenario\n",
    "3. ecoinvent 2040 450, which is a 2040 version of ecoinvent based on the image 450 ppm scenario\n"
   ]
  },
  {
   "cell_type": "code",
   "execution_count": null,
   "metadata": {},
   "outputs": [],
   "source": [
    "from IPython.core.display import HTML\n",
    "HTML(\"<style>.container { width:100% !important; }</style>\")"
   ]
  },
  {
   "cell_type": "code",
   "execution_count": null,
   "metadata": {},
   "outputs": [],
   "source": [
    "%matplotlib inline"
   ]
  },
  {
   "cell_type": "markdown",
   "metadata": {},
   "source": [
    "Import useful libraries and set project:"
   ]
  },
  {
   "cell_type": "code",
   "execution_count": null,
   "metadata": {
    "scrolled": false
   },
   "outputs": [],
   "source": [
    "%run initialize_notebook.ipynb"
   ]
  },
  {
   "cell_type": "markdown",
   "metadata": {},
   "source": [
    "Import functions that are written on top of Wurst:"
   ]
  },
  {
   "cell_type": "code",
   "execution_count": null,
   "metadata": {
    "scrolled": true
   },
   "outputs": [],
   "source": [
    "import helpers.eimod as eimod\n",
    "import helpers.ei2rmnd as ei2rmnd"
   ]
  },
  {
   "cell_type": "markdown",
   "metadata": {},
   "source": [
    "# Prepare additional datasets"
   ]
  },
  {
   "cell_type": "markdown",
   "metadata": {},
   "source": [
    "We import some additional datasets for carbon capture and storage electricity. These have been prepared in Simapro and exported. We have cleaned up the datasets and stored them in excel using Brightway input output functionality. We read them from excel here:"
   ]
  },
  {
   "cell_type": "markdown",
   "metadata": {},
   "source": [
    "## import from excel"
   ]
  },
  {
   "cell_type": "code",
   "execution_count": null,
   "metadata": {},
   "outputs": [],
   "source": [
    "import_karma()"
   ]
  },
  {
   "cell_type": "markdown",
   "metadata": {},
   "source": [
    "# Define REMIND scenarios and years to be used:"
   ]
  },
  {
   "cell_type": "markdown",
   "metadata": {},
   "source": [
    "Here we set the scenarios and years for which we want to use when creating a new version of ecoinvent:"
   ]
  },
  {
   "cell_type": "code",
   "execution_count": null,
   "metadata": {},
   "outputs": [],
   "source": [
    "database_dict = collections.defaultdict(dict)\n",
    "\n",
    "for year in [2015, 2030, 2050]:\n",
    "#for year in [2015]:\n",
    "    for scenario in ['BAU','RCP26','RCP37']:\n",
    "        if year == 2015 and scenario != 'BAU':\n",
    "            continue\n",
    "        db_name = 'ecoinvent_Remind_' + scenario + '_' + str(year)\n",
    "        database_dict[db_name] = {'year' : year , 'scenario' : scenario}\n",
    "\n",
    "#database_dict['test'] = {'year' : 2041 , 'scenario' : 'BAU'}"
   ]
  },
  {
   "cell_type": "code",
   "execution_count": null,
   "metadata": {},
   "outputs": [],
   "source": [
    "database_dict"
   ]
  },
  {
   "cell_type": "code",
   "execution_count": null,
   "metadata": {},
   "outputs": [],
   "source": [
    "databases"
   ]
  },
  {
   "cell_type": "markdown",
   "metadata": {},
   "source": [
    "# Modify all electricity generation and market datasets:"
   ]
  },
  {
   "cell_type": "markdown",
   "metadata": {},
   "source": [
    "This cell uses the Wurst functionality as well as the functions that we wrote in the notebook \"_Functions_to_modify_ecoinvent.ipynb\" to make the changes to ecoinvent:"
   ]
  },
  {
   "cell_type": "code",
   "execution_count": null,
   "metadata": {
    "scrolled": false
   },
   "outputs": [],
   "source": [
    "for key in pyprind.prog_bar(database_dict.keys()):\n",
    "    \n",
    "    db = extract_brightway2_databases(['Carma CCS','ecoinvent_3.5'])\n",
    "    default_global_location(db)\n",
    "    eimod.fix_unset_technosphere_and_production_exchange_locations(db)\n",
    "    #set_global_location_for_additional_datasets(db)\n",
    "    eimod.remove_nones(db)\n",
    "    eimod.rename_locations(db, eimod.fix_names)\n",
    "    #add_negative_CO2_flows_for_biomass_CCS(db)\n",
    "    \n",
    "    year = database_dict[key]['year']\n",
    "    scenario = database_dict[key]['scenario']\n",
    "    remind_data = eimod.get_remind_data(scenario)\n",
    "    print(key)\n",
    "       \n",
    "    #Electricity generation datasets:\n",
    "    print('Changing ecoinvent electricity generation datasets')\n",
    "    technology_changes = eimod.update_electricity_datasets_with_remind_data(db, remind_data, year, agg_func=np.average, update_efficiency = True, update_emissions = True)\n",
    "    \n",
    "    # Electricity markets:\n",
    "    print('Changing electricity Markets')\n",
    "    market_changes = eimod.update_electricity_markets(db, year, remind_data)\n",
    "    \n",
    "    #Electricity generation datasets from project Carma\n",
    "    print('Changing Carma electricity datasets')\n",
    "    eimod.modify_all_carma_electricity_datasets(db, remind_data, year, update_efficiency = True, update_emissions = True)\n",
    "    \n",
    "    print('Saving changes to excel')\n",
    "    tech_df = pd.DataFrame.from_dict(technology_changes)\n",
    "    tech_df.index = pd.MultiIndex.from_tuples(tech_df.index)\n",
    "    tech_df=tech_df.T\n",
    "    tech_df = tech_df.set_index([('meta data','remind technology'),('meta data','name'),('meta data','location')], drop=True).sort_index()\n",
    "    market_df = pd.DataFrame.from_dict(market_changes).T\n",
    "    market_df = market_df.set_index([('meta data','name'),('meta data','location')], drop=True).sort_index().T\n",
    "\n",
    "    writer = pd.ExcelWriter('electricity changes '+ str(year) + ' '+ scenario + '.xlsx')\n",
    "    market_df.to_excel(writer, sheet_name = 'markets')\n",
    "    for tech in tech_df.index.levels[0]:\n",
    "        tech_df.loc[tech].dropna(how='all', axis=1).swaplevel(i=0,j=1, axis=1).T.to_excel(writer, sheet_name = tech)\n",
    "    writer.save()\n",
    "    del tech_df\n",
    "    del market_df\n",
    "    del writer\n",
    "    \n",
    "    \n",
    "    eimod.rename_locations(db, eimod.fix_names_back)\n",
    "    if key in databases:\n",
    "        del databases[key]\n",
    "\n",
    "    write_brightway2_database(db, key)\n",
    "\n",
    "    lca = LCA({Database(key).random(): 1}, method=lcia_methods['CC'])\n",
    "    lca.lci()\n",
    "    lca.lcia()\n",
    "    print(\"Test LCA Score: {}\".format(lca.score))\n"
   ]
  },
  {
   "cell_type": "markdown",
   "metadata": {},
   "source": [
    "# create current version of ecoinvent with additional technologies added in:"
   ]
  },
  {
   "cell_type": "code",
   "execution_count": null,
   "metadata": {},
   "outputs": [],
   "source": [
    "key = 'ecoinvent_added_technologies'\n",
    "    \n",
    "db = extract_brightway2_databases(['Carma CCS','ecoinvent_3.5'])\n",
    "default_global_location(db)\n",
    "fix_unset_technosphere_and_production_exchange_locations(db)\n",
    "#set_global_location_for_additional_datasets(db)\n",
    "remove_nones(db)\n",
    "rename_locations(db, fix_names)\n",
    "add_negative_CO2_flows_for_biomass_CCS(db)\n",
    "    \n",
    "rename_locations(db, fix_names_back)\n",
    "if key in databases:\n",
    "    del databases[key]\n",
    "\n",
    "write_brightway2_database(db, key)\n",
    "del db\n",
    "    \n",
    "        \n",
    "lca = LCA({Database(key).random(): 1}, method=lcia_methods['CC'])\n",
    "lca.lci()\n",
    "lca.lcia()\n",
    "print(lca.score)"
   ]
  }
 ],
 "metadata": {
  "kernelspec": {
   "display_name": "Python 3",
   "language": "python",
   "name": "python3"
  },
  "language_info": {
   "codemirror_mode": {
    "name": "ipython",
    "version": 3
   },
   "file_extension": ".py",
   "mimetype": "text/x-python",
   "name": "python",
   "nbconvert_exporter": "python",
   "pygments_lexer": "ipython3",
   "version": "3.6.6"
  },
  "toc": {
   "colors": {
    "hover_highlight": "#DAA520",
    "running_highlight": "#FF0000",
    "selected_highlight": "#FFD700"
   },
   "moveMenuLeft": true,
   "nav_menu": {
    "height": "85px",
    "width": "252px"
   },
   "navigate_menu": true,
   "number_sections": true,
   "sideBar": true,
   "threshold": 4,
   "toc_cell": true,
   "toc_section_display": "block",
   "toc_window_display": false,
   "widenNotebook": false
  }
 },
 "nbformat": 4,
 "nbformat_minor": 2
}
