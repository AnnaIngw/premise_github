{
 "cells": [
  {
   "cell_type": "markdown",
   "metadata": {},
   "source": [
    "In this notebook we add carbon biosphere flows to the IPCC 2013 method so that we can have negative CO2 emissions from biomass CCS"
   ]
  },
  {
   "cell_type": "markdown",
   "metadata": {},
   "source": [
    "import useful libraries and set current project:"
   ]
  },
  {
   "cell_type": "code",
   "execution_count": null,
   "metadata": {},
   "outputs": [],
   "source": [
    "%run initialize_notebook.ipynb"
   ]
  },
  {
   "cell_type": "markdown",
   "metadata": {},
   "source": [
    "# Create IPCC 2013 method will all non-fossil CO2 characterised:"
   ]
  },
  {
   "cell_type": "code",
   "execution_count": null,
   "metadata": {},
   "outputs": [],
   "source": [
    "ipcc = Method(('IPCC 2013', 'climate change', 'GWP 100a'))\n",
    "gwp_data = ipcc.load()"
   ]
  },
  {
   "cell_type": "markdown",
   "metadata": {},
   "source": [
    "find non-fossil CO2 biosphere flows:"
   ]
  },
  {
   "cell_type": "code",
   "execution_count": null,
   "metadata": {},
   "outputs": [],
   "source": [
    "non_fossil = [x for x in get_many(Database(\"biosphere3\"), equals(\"name\", \"Carbon dioxide, non-fossil\"))]\n",
    "non_fossil"
   ]
  },
  {
   "cell_type": "code",
   "execution_count": null,
   "metadata": {},
   "outputs": [],
   "source": [
    "gwp_data.extend([(x.key, 1.) for x in non_fossil])"
   ]
  },
  {
   "cell_type": "markdown",
   "metadata": {},
   "source": [
    "Find CO2 in air biosphere flow"
   ]
  },
  {
   "cell_type": "code",
   "execution_count": null,
   "metadata": {},
   "outputs": [],
   "source": [
    "co2_in_air = get_one(Database(\"biosphere3\"), equals(\"name\", 'Carbon dioxide, in air'))"
   ]
  },
  {
   "cell_type": "code",
   "execution_count": null,
   "metadata": {},
   "outputs": [],
   "source": [
    "co2_in_air"
   ]
  },
  {
   "cell_type": "code",
   "execution_count": null,
   "metadata": {},
   "outputs": [],
   "source": [
    "gwp_data.append((co2_in_air.key, -1.))"
   ]
  },
  {
   "cell_type": "code",
   "execution_count": null,
   "metadata": {},
   "outputs": [],
   "source": [
    "round(pd.Series({get_activity(x)['name']: y for x, y in gwp_data}),2)"
   ]
  },
  {
   "cell_type": "code",
   "execution_count": null,
   "metadata": {},
   "outputs": [],
   "source": [
    "method = Method(('IPCC 2013', 'climate change', 'GWP 100a', 'Complete'))\n",
    "method.register()\n",
    "method.write(gwp_data)\n",
    "method.process()"
   ]
  },
  {
   "cell_type": "markdown",
   "metadata": {
    "collapsed": true
   },
   "source": [
    "# Create a new biosphere flow for non-fossil CO2 to geological storage."
   ]
  },
  {
   "cell_type": "code",
   "execution_count": null,
   "metadata": {},
   "outputs": [],
   "source": [
    "biosphere = Database('biosphere3')\n",
    "biosphere"
   ]
  },
  {
   "cell_type": "code",
   "execution_count": null,
   "metadata": {},
   "outputs": [],
   "source": [
    "new_flow = biosphere.new_activity('CO2 to geological storage, non-fossil', **{'name': 'CO2 to geological storage, non-fossil',\n",
    "                                                                                'unit': 'kilogram',\n",
    "                                                                                'type': 'storage',\n",
    "                                                                                'categories': ('geological storage',)})\n",
    "\n",
    "new_flow.save()"
   ]
  },
  {
   "cell_type": "code",
   "execution_count": null,
   "metadata": {},
   "outputs": [],
   "source": [
    "co2_to_storage = [x for x in Database(\"biosphere3\") if 'CO2 to geological storage, non-fossil' in x['name']][0]\n",
    "\n",
    "co2_to_storage"
   ]
  },
  {
   "cell_type": "markdown",
   "metadata": {},
   "source": [
    "Step 2: add characterization for this flow - we will copy a flow for non-fossil CO2 to soil or biomass stock, as it will have the same characterisation factors. "
   ]
  },
  {
   "cell_type": "code",
   "execution_count": null,
   "metadata": {},
   "outputs": [],
   "source": [
    "co2_to_soil = [x for x in Database(\"biosphere3\") if \"Carbon dioxide, to soil or biomass stock\" in str(x) and \"('soil',))\" in str(x)][0]\n",
    "co2_to_soil"
   ]
  },
  {
   "cell_type": "markdown",
   "metadata": {},
   "source": [
    "Here we have a list of methods that we want to add the flow to:\n"
   ]
  },
  {
   "cell_type": "code",
   "execution_count": null,
   "metadata": {},
   "outputs": [],
   "source": [
    "lcia_methods={\n",
    "    'CC':('IPCC 2013', 'climate change', 'GWP 100a'),\n",
    "    'TA':('ReCiPe Midpoint (H)', 'terrestrial acidification', 'TAP100'),\n",
    "    'POF':('ReCiPe Midpoint (H)','photochemical oxidant formation','POFP'),\n",
    "    'PMF':('ReCiPe Midpoint (H)', 'particulate matter formation', 'PMFP'),\n",
    "    'MD':('ReCiPe Midpoint (H)', 'metal depletion', 'MDP'),\n",
    "    'HT':('ReCiPe Midpoint (H)', 'human toxicity', 'HTPinf'),\n",
    "    'MET':('ReCiPe Midpoint (H)', 'marine ecotoxicity', 'METPinf'),\n",
    "    'ME':('ReCiPe Midpoint (H)', 'marine eutrophication', 'MEP'),\n",
    "    'FD':('ReCiPe Midpoint (H)', 'fossil depletion', 'FDP'),\n",
    "    'IR':('ReCiPe Midpoint (H)', 'ionising radiation', 'IRP_HE'),\n",
    "    'OD':('ReCiPe Midpoint (H)', 'ozone depletion', 'ODPinf'),\n",
    "    'FET':('ReCiPe Midpoint (H)', 'freshwater ecotoxicity', 'FETPinf'),\n",
    "    'TET':('ReCiPe Midpoint (H)', 'terrestrial ecotoxicity', 'TETPinf'),\n",
    "    'ALO':('ReCiPe Midpoint (H)', 'agricultural land occupation', 'ALOP'),\n",
    "    'NLT':('ReCiPe Midpoint (H)', 'natural land transformation', 'NLTP'),\n",
    "    'ULO':('ReCiPe Midpoint (H)', 'urban land occupation', 'ULOP'),\n",
    "    'WD':('ReCiPe Midpoint (H)', 'water depletion', 'WDP'),\n",
    "    'FE':('ReCiPe Midpoint (H)', 'freshwater eutrophication', 'FEP'),\n",
    "    'R_HH' : ('ReCiPe Endpoint (H,A)', 'human health', 'total'),\n",
    "    'R_EQ' : ('ReCiPe Endpoint (H,A)', 'ecosystem quality', 'total'),\n",
    "    'R_R' : ('ReCiPe Endpoint (H,A)', 'resources', 'total'),\n",
    "    'R_Total' : ('ReCiPe Endpoint (H,A)', 'total', 'total'),\n",
    "    \n",
    "    'CEDB': ('cumulative energy demand','biomass','renewable energy resources, biomass'),\n",
    "      'CEDF': ('cumulative energy demand','fossil','non-renewable energy resources, fossil'),\n",
    "      'CEDG': ('cumulative energy demand','geothermal','renewable energy resources, geothermal, converted'),\n",
    "      'CEDN': ('cumulative energy demand','nuclear','non-renewable energy resources, nuclear'),\n",
    "      'CEDFr': ('cumulative energy demand','primary forest','non-renewable energy resources, primary forest'),\n",
    "      'CEDS': ('cumulative energy demand','solar','renewable energy resources, solar, converted'),\n",
    "      'CEDH': ('cumulative energy demand','water','renewable energy resources, potential (in barrage water), converted'),\n",
    "      'CEDW': ('cumulative energy demand','wind','renewable energy resources, kinetic (in wind), converted')\n",
    "\n",
    "    }"
   ]
  },
  {
   "cell_type": "code",
   "execution_count": null,
   "metadata": {},
   "outputs": [],
   "source": [
    "for cat in lcia_methods:\n",
    "    method  = Method(lcia_methods[cat])\n",
    "    method_data = method.load()\n",
    "    #first make sure we don't already have the flow included:\n",
    "    if [x for x in method_data if co2_to_storage.key[1] in x[0][1]]:\n",
    "        print('Flow already present- you must have run this code already.')\n",
    "        continue\n",
    "    \n",
    "    else:\n",
    "        try:\n",
    "            characterized_flow = [x for x in method_data if co2_to_soil.key[1] in x[0][1]][0]\n",
    "        except:\n",
    "            continue\n",
    "        \n",
    "        method_data.extend([(co2_to_storage.key, characterized_flow[1]) ])\n",
    "            \n",
    "        print('Flow added to method: {}'.format(method.name))\n",
    "        print('Characterisation factor: {}'.format(characterized_flow[1]))\n",
    "        \n",
    "        orig_name = [x for x in method.name]\n",
    "        new_method = Method(tuple(orig_name +['CO2 storage']))\n",
    "        new_method.register()\n",
    "        new_method.write(method_data)\n",
    "        new_method.process()        "
   ]
  },
  {
   "cell_type": "code",
   "execution_count": null,
   "metadata": {},
   "outputs": [],
   "source": [
    "new_methods = [x for x in methods if 'CO2 storage' in str(x)]\n",
    "new_methods"
   ]
  },
  {
   "cell_type": "code",
   "execution_count": null,
   "metadata": {},
   "outputs": [],
   "source": [
    "Method(new_methods[0]).load()[10:]"
   ]
  },
  {
   "cell_type": "code",
   "execution_count": null,
   "metadata": {},
   "outputs": [],
   "source": []
  }
 ],
 "metadata": {
  "kernelspec": {
   "display_name": "Python 3",
   "language": "python",
   "name": "python3"
  },
  "language_info": {
   "codemirror_mode": {
    "name": "ipython",
    "version": 3
   },
   "file_extension": ".py",
   "mimetype": "text/x-python",
   "name": "python",
   "nbconvert_exporter": "python",
   "pygments_lexer": "ipython3",
   "version": "3.6.6"
  },
  "toc": {
   "colors": {
    "hover_highlight": "#DAA520",
    "running_highlight": "#FF0000",
    "selected_highlight": "#FFD700"
   },
   "moveMenuLeft": true,
   "nav_menu": {
    "height": "12px",
    "width": "252px"
   },
   "navigate_menu": true,
   "number_sections": true,
   "sideBar": true,
   "threshold": 4,
   "toc_cell": false,
   "toc_section_display": "block",
   "toc_window_display": false,
   "widenNotebook": false
  }
 },
 "nbformat": 4,
 "nbformat_minor": 2
}
