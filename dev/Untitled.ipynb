{
 "cells": [
  {
   "cell_type": "code",
   "execution_count": null,
   "id": "6d93e33a-b89e-4e56-bfb7-5a8a0a232053",
   "metadata": {},
   "outputs": [],
   "source": [
    "from premise import *\n",
    "import brightway2 as bw\n",
    "bw.projects.set_current(\"premise\")"
   ]
  }
 ],
 "metadata": {
  "kernelspec": {
   "display_name": "Python 3 (ipykernel)",
   "language": "python",
   "name": "python3"
  },
  "language_info": {
   "codemirror_mode": {
    "name": "ipython",
    "version": 3
   },
   "file_extension": ".py",
   "mimetype": "text/x-python",
   "name": "python",
   "nbconvert_exporter": "python",
   "pygments_lexer": "ipython3",
   "version": "3.9.12"
  }
 },
 "nbformat": 4,
 "nbformat_minor": 5
}
