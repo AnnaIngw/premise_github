{
 "cells": [
  {
   "cell_type": "code",
   "execution_count": 1,
   "id": "ce083c05-a99b-4e9b-94c3-1a87d4ee033c",
   "metadata": {},
   "outputs": [],
   "source": [
    "import brightway2 as bw\n",
    "from premise import *"
   ]
  },
  {
   "cell_type": "code",
   "execution_count": 2,
   "id": "941c72a5-6f3c-4c3c-833a-ebd48db59669",
   "metadata": {},
   "outputs": [],
   "source": [
    "bw.projects.set_current(\"premise\")"
   ]
  },
  {
   "cell_type": "code",
   "execution_count": 3,
   "id": "1e6ebbae-2743-4e76-ab3d-e7a5dd873539",
   "metadata": {},
   "outputs": [
    {
     "name": "stdout",
     "output_type": "stream",
     "text": [
      "+------------------------------------------------------------------+\n",
      "| Warning                                                          |\n",
      "+------------------------------------------------------------------+\n",
      "| Because some of the scenarios can yield LCI databases            |\n",
      "| containing net negative emission technologies (NET),             |\n",
      "| it is advised to account for biogenic CO2 flows when calculating |\n",
      "| Global Warming potential indicators.                             |\n",
      "| `premise_gwp` provides characterization factors for such flows.  |\n",
      "| It also provides factors for hydrogen emissions to air.          |\n",
      "|                                                                  |\n",
      "| Within your bw2 project:                                         |\n",
      "| from premise_gwp import add_premise_gwp                          |\n",
      "| add_premise_gwp()                                                |\n",
      "+------------------------------------------------------------------+\n",
      "\n",
      "//////////////////// EXTRACTING SOURCE DATABASE ////////////////////\n",
      "Done!\n",
      "\n",
      "////////////////// IMPORTING DEFAULT INVENTORIES ///////////////////\n",
      "Done!\n",
      "\n",
      "/////////////////// IMPORTING USER-DEFINED INVENTORIES ////////////////////\n",
      "Extracted 1 worksheets in 0.02 seconds\n",
      "Done!\n",
      "\n",
      "\n",
      "/////////////////////// EXTRACTING IAM DATA ////////////////////////\n",
      "Done!\n"
     ]
    }
   ],
   "source": [
    "ndb = NewDatabase(\n",
    "        scenarios = [\n",
    "            {\"model\":\"image\", \"pathway\":\"SSP2-Base\", \"year\":2020, \"exclude\": [\"update_two_wheelers\", \"update_buses\", \"update_cars\"]},\n",
    "        ],        \n",
    "        source_db=\"ecoinvent 3.8 cutoff\",\n",
    "        source_version=\"3.8\",\n",
    "        key='tUePmX_S5B8ieZkkM7WUU2CnO8SmShwmAeWK9x2rTFo=',\n",
    "        custom_scenario=[\n",
    "            {\n",
    "                \"inventories\": r\"inventory_fuel_cell.xlsx\",\n",
    "                \"scenario data\": r\"example.xlsx\",\n",
    "                \"config\": r\"config.yaml\"\n",
    "            }\n",
    "        ]\n",
    "    )"
   ]
  },
  {
   "cell_type": "code",
   "execution_count": 5,
   "id": "371a123b-c48f-4624-b26e-3171a147d897",
   "metadata": {},
   "outputs": [
    {
     "name": "stdout",
     "output_type": "stream",
     "text": [
      "{'location': 'RER', 'production amount': 1, 'reference product': 'Nafion dispersion solution', 'type': 'process', 'unit': 'kilogram', 'name': 'Nafion dispersion solution production', 'exchanges': [{'name': 'Nafion dispersion solution production', 'amount': 2.5, 'database': 'fuel_cell_stack_evangelisti', 'location': 'RER', 'unit': 'kilogram', 'type': 'production', 'reference product': 'Nafion dispersion solution', 'product': 'Nafion dispersion solution'}, {'name': 'isopropanol production', 'amount': 0.75, 'database': 'ecoinvent', 'location': 'RER', 'unit': 'kilogram', 'type': 'technosphere', 'reference product': 'isopropanol', 'product': 'isopropanol'}, {'name': 'tetrafluoroethylene film production, on glass', 'amount': 0.5789473684210527, 'database': 'ecoinvent', 'location': 'RER', 'unit': 'kilogram', 'type': 'technosphere', 'reference product': 'tetrafluoroethylene film, on glass', 'product': 'tetrafluoroethylene film, on glass'}, {'name': 'sulfuric acid production', 'amount': 0.42105263157894735, 'database': 'ecoinvent', 'location': 'RER', 'unit': 'kilogram', 'type': 'technosphere', 'reference product': 'sulfuric acid', 'product': 'sulfuric acid'}, {'name': 'market for water, ultrapure', 'amount': 0.75, 'database': 'ecoinvent', 'location': 'RER', 'unit': 'kilogram', 'type': 'technosphere', 'reference product': 'water, ultrapure', 'product': 'water, ultrapure'}], 'worksheet name': 'Sheet2', 'database': 'fuel_cell_stack_evangelisti', 'code': 'bf035f85d4e340e9b35da83493bec8c6'}\n"
     ]
    }
   ],
   "source": [
    "for ds in ndb.database:\n",
    "    if \"nafion dispersion\" in ds[\"name\"].lower():\n",
    "        print(ds)"
   ]
  },
  {
   "cell_type": "code",
   "execution_count": null,
   "id": "9060bfc4-d217-435b-b4aa-ae9f87f2a615",
   "metadata": {},
   "outputs": [],
   "source": []
  }
 ],
 "metadata": {
  "kernelspec": {
   "display_name": "Python 3 (ipykernel)",
   "language": "python",
   "name": "python3"
  },
  "language_info": {
   "codemirror_mode": {
    "name": "ipython",
    "version": 3
   },
   "file_extension": ".py",
   "mimetype": "text/x-python",
   "name": "python",
   "nbconvert_exporter": "python",
   "pygments_lexer": "ipython3",
   "version": "3.9.10"
  }
 },
 "nbformat": 4,
 "nbformat_minor": 5
}
