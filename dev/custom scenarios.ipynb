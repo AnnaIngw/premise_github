{
 "cells": [
  {
   "cell_type": "code",
   "execution_count": 1,
   "id": "ce083c05-a99b-4e9b-94c3-1a87d4ee033c",
   "metadata": {},
   "outputs": [],
   "source": [
    "import brightway2 as bw\n",
    "from premise import *"
   ]
  },
  {
   "cell_type": "code",
   "execution_count": 2,
   "id": "941c72a5-6f3c-4c3c-833a-ebd48db59669",
   "metadata": {},
   "outputs": [
    {
     "data": {
      "text/plain": [
       "Databases dictionary with 15 object(s):\n",
       "\tbiosphere3\n",
       "\tecoinvent 3.8 cutoff\n",
       "\tecoinvent_image_SSP2-Base_2020\n",
       "\tecoinvent_image_SSP2-Base_2030\n",
       "\tecoinvent_image_SSP2-Base_2040\n",
       "\tecoinvent_image_SSP2-Base_2050\n",
       "\tecoinvent_image_SSP2-RCP19_2030\n",
       "\tecoinvent_image_SSP2-RCP19_2040\n",
       "\tecoinvent_image_SSP2-RCP19_2050\n",
       "\tecoinvent_image_SSP2-RCP26_2030\n",
       "\tecoinvent_image_SSP2-RCP26_2040\n",
       "\tecoinvent_image_SSP2-RCP26_2050\n",
       "\tecoinvent_remind_SSP2-PkBudg900_2030\n",
       "\tecoinvent_remind_SSP2-PkBudg900_2040\n",
       "\tecoinvent_remind_SSP2-PkBudg900_2050"
      ]
     },
     "execution_count": 2,
     "metadata": {},
     "output_type": "execute_result"
    }
   ],
   "source": [
    "bw.projects.set_current(\"ei_38\")\n",
    "bw.databases"
   ]
  },
  {
   "cell_type": "code",
   "execution_count": 5,
   "id": "1e6ebbae-2743-4e76-ab3d-e7a5dd873539",
   "metadata": {},
   "outputs": [
    {
     "name": "stdout",
     "output_type": "stream",
     "text": [
      "+------------------------------------------------------------------+\n",
      "| Warning                                                          |\n",
      "+------------------------------------------------------------------+\n",
      "| Because some of the scenarios can yield LCI databases            |\n",
      "| containing net negative emission technologies (NET),             |\n",
      "| it is advised to account for biogenic CO2 flows when calculating |\n",
      "| Global Warming potential indicators.                             |\n",
      "| `premise_gwp` provides characterization factors for such flows.  |\n",
      "| It also provides factors for hydrogen emissions to air.          |\n",
      "|                                                                  |\n",
      "| Within your bw2 project:                                         |\n",
      "| from premise_gwp import add_premise_gwp                          |\n",
      "| add_premise_gwp()                                                |\n",
      "+------------------------------------------------------------------+\n",
      "\n",
      "//////////////////// EXTRACTING SOURCE DATABASE ////////////////////\n",
      "Done!\n",
      "\n",
      "////////////////// IMPORTING DEFAULT INVENTORIES ///////////////////\n",
      "Done!\n",
      "\n",
      "/////////////////////// EXTRACTING IAM DATA ////////////////////////\n",
      "Done!\n"
     ]
    }
   ],
   "source": [
    "ndb = NewDatabase(\n",
    "        scenarios = [\n",
    "            {\"model\":\"image\", \"pathway\":\"SSP2-Base\", \"year\":2050, \"exclude\": [\"update_two_wheelers\", \"update_buses\", \"update_cars\"]},\n",
    "            #{\"model\":\"image\", \"pathway\":\"SSP2-Base\", \"year\":2030, \"exclude\": [\"update_two_wheelers\", \"update_buses\", \"update_cars\"]},\n",
    "        ],        \n",
    "        source_db=\"ecoinvent 3.8 cutoff\",\n",
    "        source_version=\"3.8\",\n",
    "        key='tUePmX_S5B8ieZkkM7WUU2CnO8SmShwmAeWK9x2rTFo=',\n",
    "        custom_scenario=[\n",
    "            {\n",
    "                \"inventories\": r\"inventory_bread.xlsx\",\n",
    "                \"scenario data\": r\"example.xlsx\",\n",
    "                \"config\": r\"config.yaml\"\n",
    "            }\n",
    "        ]\n",
    "    )"
   ]
  },
  {
   "cell_type": "code",
   "execution_count": 6,
   "id": "371a123b-c48f-4624-b26e-3171a147d897",
   "metadata": {},
   "outputs": [
    {
     "name": "stdout",
     "output_type": "stream",
     "text": [
      "\n",
      "//////////////// IMPORTING USER-DEFINED INVENTORIES /////////////////\n",
      "Extracted 1 worksheets in 0.02 seconds\n",
      "Create custom markets.\n",
      "Relink to new markets.\n"
     ]
    }
   ],
   "source": [
    "ndb.update_custom_scenario()"
   ]
  },
  {
   "cell_type": "code",
   "execution_count": null,
   "id": "9060bfc4-d217-435b-b4aa-ae9f87f2a615",
   "metadata": {},
   "outputs": [
    {
     "name": "stdout",
     "output_type": "stream",
     "text": [
      "Write new database(s) to Brightway2.\n",
      "Prepare database 1.\n",
      "20893 datasets\n",
      "649034 exchanges\n",
      "0 unlinked exchanges\n",
      "  \n"
     ]
    },
    {
     "name": "stderr",
     "output_type": "stream",
     "text": [
      "Writing activities to SQLite3 database:\n",
      "0% [##############################] 100% | ETA: 00:00:00\n",
      "Total time elapsed: 00:01:53\n"
     ]
    },
    {
     "name": "stdout",
     "output_type": "stream",
     "text": [
      "Title: Writing activities to SQLite3 database:\n",
      "  Started: 03/15/2022 18:27:06\n",
      "  Finished: 03/15/2022 18:29:00\n",
      "  Total time elapsed: 00:01:53\n",
      "  CPU %: 65.50\n",
      "  Memory %: 19.08\n"
     ]
    }
   ],
   "source": [
    "ndb.write_db_to_brightway(name=[\"custom2\"])"
   ]
  },
  {
   "cell_type": "code",
   "execution_count": 10,
   "id": "5224d470-c15b-4bb2-a790-72ed5ccdcdec",
   "metadata": {},
   "outputs": [
    {
     "name": "stdout",
     "output_type": "stream",
     "text": [
      "BRA\n",
      "market for bread BRA 1\n",
      "CAN\n",
      "market for bread CAN 1\n",
      "CEU\n",
      "market for bread CEU 1\n",
      "CHN\n",
      "market for bread CHN 1\n",
      "EAF\n",
      "market for bread EAF 1\n",
      "INDIA\n",
      "market for bread INDIA 1\n",
      "INDO\n",
      "market for bread INDO 1\n",
      "KOR\n",
      "market for bread KOR 1\n",
      "ME\n",
      "market for bread ME 1\n",
      "MEX\n",
      "market for bread MEX 1\n",
      "NAF\n",
      "market for bread NAF 1\n",
      "OCE\n",
      "market for bread OCE 1\n",
      "RCAM\n",
      "market for bread RCAM 1\n",
      "RSAF\n",
      "market for bread RSAF 1\n",
      "RSAM\n",
      "market for bread RSAM 1\n",
      "RSAS\n",
      "market for bread RSAS 1\n",
      "RUS\n",
      "market for bread RUS 1\n",
      "SAF\n",
      "market for bread SAF 1\n",
      "SEAS\n",
      "market for bread SEAS 1\n",
      "STAN\n",
      "market for bread STAN 1\n",
      "TUR\n",
      "market for bread TUR 1\n",
      "UKR\n",
      "market for bread UKR 1\n",
      "USA\n",
      "market for bread USA 1\n",
      "WAF\n",
      "market for bread WAF 1\n",
      "WEU\n",
      "market for bread WEU 1\n",
      "World\n",
      "market for bread World 1\n"
     ]
    }
   ],
   "source": [
    "for ds in ndb.scenarios[0][\"database\"]:\n",
    "    if ds[\"name\"]==\"market for bread\":\n",
    "        print(ds[\"location\"])\n",
    "        for exc in ds[\"exchanges\"]:\n",
    "            print(exc[\"name\"], exc[\"location\"], exc[\"amount\"])"
   ]
  },
  {
   "cell_type": "code",
   "execution_count": null,
   "id": "6fa4df71-a43f-494c-b6ec-c6f92c013fa0",
   "metadata": {},
   "outputs": [],
   "source": []
  }
 ],
 "metadata": {
  "kernelspec": {
   "display_name": "Python 3 (ipykernel)",
   "language": "python",
   "name": "python3"
  },
  "language_info": {
   "codemirror_mode": {
    "name": "ipython",
    "version": 3
   },
   "file_extension": ".py",
   "mimetype": "text/x-python",
   "name": "python",
   "nbconvert_exporter": "python",
   "pygments_lexer": "ipython3",
   "version": "3.9.1"
  }
 },
 "nbformat": 4,
 "nbformat_minor": 5
}
