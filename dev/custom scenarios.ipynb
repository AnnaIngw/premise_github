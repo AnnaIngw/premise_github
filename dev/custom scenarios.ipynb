{
 "cells": [
  {
   "cell_type": "code",
   "execution_count": 1,
   "id": "ce083c05-a99b-4e9b-94c3-1a87d4ee033c",
   "metadata": {},
   "outputs": [],
   "source": [
    "import brightway2 as bw\n",
    "from premise import *"
   ]
  },
  {
   "cell_type": "code",
   "execution_count": 2,
   "id": "941c72a5-6f3c-4c3c-833a-ebd48db59669",
   "metadata": {},
   "outputs": [],
   "source": [
    "bw.projects.set_current(\"premise\")"
   ]
  },
  {
   "cell_type": "code",
   "execution_count": 3,
   "id": "1e6ebbae-2743-4e76-ab3d-e7a5dd873539",
   "metadata": {},
   "outputs": [
    {
     "name": "stdout",
     "output_type": "stream",
     "text": [
      "+------------------------------------------------------------------+\n",
      "| Warning                                                          |\n",
      "+------------------------------------------------------------------+\n",
      "| Because some of the scenarios can yield LCI databases            |\n",
      "| containing net negative emission technologies (NET),             |\n",
      "| it is advised to account for biogenic CO2 flows when calculating |\n",
      "| Global Warming potential indicators.                             |\n",
      "| `premise_gwp` provides characterization factors for such flows.  |\n",
      "| It also provides factors for hydrogen emissions to air.          |\n",
      "|                                                                  |\n",
      "| Within your bw2 project:                                         |\n",
      "| from premise_gwp import add_premise_gwp                          |\n",
      "| add_premise_gwp()                                                |\n",
      "+------------------------------------------------------------------+\n",
      "\n",
      "//////////////////// EXTRACTING SOURCE DATABASE ////////////////////\n",
      "Done!\n",
      "\n",
      "////////////////// IMPORTING DEFAULT INVENTORIES ///////////////////\n",
      "Done!\n",
      "\n",
      "/////////////////////// EXTRACTING IAM DATA ////////////////////////\n",
      "Done!\n"
     ]
    }
   ],
   "source": [
    "ndb = NewDatabase(\n",
    "        scenarios = [\n",
    "            {\"model\":\"image\", \"pathway\":\"SSP2-Base\", \"year\":2050, \"exclude\": [\"update_two_wheelers\", \"update_buses\", \"update_cars\"]},\n",
    "            {\"model\":\"image\", \"pathway\":\"SSP2-RCP26\", \"year\":2030, \"exclude\": [\"update_two_wheelers\", \"update_buses\", \"update_cars\"]},\n",
    "        ],        \n",
    "        source_db=\"ecoinvent 3.8 cutoff\",\n",
    "        source_version=\"3.8\",\n",
    "        key='tUePmX_S5B8ieZkkM7WUU2CnO8SmShwmAeWK9x2rTFo=',\n",
    "        custom_scenario=[\n",
    "            {\n",
    "                \"inventories\": r\"inventory_bread.xlsx\",\n",
    "                \"scenario data\": r\"example.xlsx\",\n",
    "                \"config\": r\"config.yaml\"\n",
    "            }\n",
    "        ]\n",
    "    )"
   ]
  },
  {
   "cell_type": "code",
   "execution_count": 4,
   "id": "371a123b-c48f-4624-b26e-3171a147d897",
   "metadata": {},
   "outputs": [
    {
     "name": "stdout",
     "output_type": "stream",
     "text": [
      "\n",
      "//////////////// IMPORTING USER-DEFINED INVENTORIES /////////////////\n",
      "Extracted 1 worksheets in 0.01 seconds\n",
      "bread production, activated dough development\n",
      "[['electricity'], {'CAN': 1.027027027027027, 'CEU': 1.027027027027027, 'CHN': 1.0285714285714287, 'EAF': 1.027777777777778, 'INDIA': 1.0294117647058822, 'INDO': 1.0285714285714287, 'JAP': 1.027027027027027, 'KOR': 1.027027027027027, 'ME': 1.0285714285714287, 'MEX': 1.027777777777778, 'NAF': 1.027777777777778, 'OCE': 1.027027027027027, 'RCAM': 1.027777777777778, 'RSAF': 1.027777777777778, 'RSAM': 1.027777777777778, 'RSAS': 1.0285714285714287, 'RUS': 1.0285714285714287, 'SAF': 1.027777777777778, 'SEAS': 1.0285714285714287, 'STAN': 1.0285714285714287, 'TUR': 1.0285714285714287, 'UKR': 1.0285714285714287, 'USA': 1.027027027027027, 'WAF': 1.027777777777778, 'WEU': 1.027027027027027}, [['salt'], {'CAN': 1.3400956406250006, 'CEU': 1.3400956406250006, 'CHN': 1.3400956406250006, 'EAF': 1.3400956406250006, 'INDIA': 1.3400956406250006, 'INDO': 1.3400956406250006, 'JAP': 1.3400956406250006, 'KOR': 1.3400956406250006, 'ME': 1.3400956406250006, 'MEX': 1.3400956406250006, 'NAF': 1.3400956406250006, 'OCE': 1.3400956406250006, 'RCAM': 1.3400956406250006, 'RSAF': 1.3400956406250006, 'RSAM': 1.3400956406250006, 'RSAS': 1.3400956406250006, 'RUS': 1.3400956406250006, 'SAF': 1.3400956406250006, 'SEAS': 1.3400956406250006, 'STAN': 1.3400956406250006, 'TUR': 1.3400956406250006, 'UKR': 1.3400956406250006, 'USA': 1.3400956406250006, 'WAF': 1.3400956406250006, 'WEU': 1.3400956406250006}]]\n",
      "bread production, straight dough method\n",
      "[[[], {'BRA': 1.0571428571428572, 'CAN': 1.0555555555555556, 'CEU': 1.0555555555555556, 'CHN': 1.0588235294117645, 'EAF': 1.0571428571428572, 'INDIA': 1.0606060606060606, 'INDO': 1.0588235294117645, 'JAP': 1.0555555555555556, 'KOR': 1.0555555555555556, 'ME': 1.0588235294117645, 'MEX': 1.0571428571428572, 'NAF': 1.0571428571428572, 'OCE': 1.0555555555555556, 'RCAM': 1.0571428571428572, 'RSAF': 1.0571428571428572, 'RSAM': 1.0571428571428572, 'RSAS': 1.0588235294117645, 'RUS': 1.0588235294117645, 'SAF': 1.0571428571428572, 'SEAS': 1.0588235294117645, 'STAN': 1.0588235294117645, 'TUR': 1.0588235294117645, 'UKR': 1.0588235294117645, 'WAF': 1.0571428571428572, 'WEU': 1.0555555555555556}]]\n",
      "bread production, delayed salt method\n",
      "[[[], {'BRA': 1.0571428571428572, 'CAN': 1.0555555555555556, 'CEU': 1.0555555555555556, 'CHN': 1.0588235294117645, 'EAF': 1.0571428571428572, 'INDIA': 1.0606060606060606, 'INDO': 1.0588235294117645, 'JAP': 1.0555555555555556, 'KOR': 1.0555555555555556, 'ME': 1.0588235294117645, 'MEX': 1.0571428571428572, 'NAF': 1.0571428571428572, 'OCE': 1.0555555555555556, 'RCAM': 1.0571428571428572, 'RSAF': 1.0571428571428572, 'RSAM': 1.0571428571428572, 'RSAS': 1.0588235294117645, 'RUS': 1.0588235294117645, 'SAF': 1.0571428571428572, 'SEAS': 1.0588235294117645, 'STAN': 1.0588235294117645, 'TUR': 1.0588235294117645, 'UKR': 1.0588235294117645, 'WAF': 1.0571428571428572}]]\n",
      "bread production, straight dough method\n",
      "[[], {'BRA': 1.0571428571428572, 'CAN': 1.0555555555555556, 'CEU': 1.0555555555555556, 'CHN': 1.0588235294117645, 'EAF': 1.0571428571428572, 'INDIA': 1.0606060606060606, 'INDO': 1.0588235294117645, 'JAP': 1.0555555555555556, 'KOR': 1.0555555555555556, 'ME': 1.0588235294117645, 'MEX': 1.0571428571428572, 'NAF': 1.0571428571428572, 'OCE': 1.0555555555555556, 'RCAM': 1.0571428571428572, 'RSAF': 1.0571428571428572, 'RSAM': 1.0571428571428572, 'RSAS': 1.0588235294117645, 'RUS': 1.0588235294117645, 'SAF': 1.0571428571428572, 'SEAS': 1.0588235294117645, 'STAN': 1.0588235294117645, 'TUR': 1.0588235294117645, 'UKR': 1.0588235294117645, 'WAF': 1.0571428571428572, 'WEU': 1.0555555555555556}]\n"
     ]
    },
    {
     "ename": "KeyError",
     "evalue": "'new efficiency'",
     "output_type": "error",
     "traceback": [
      "\u001b[0;31m---------------------------------------------------------------------------\u001b[0m",
      "\u001b[0;31mKeyError\u001b[0m                                  Traceback (most recent call last)",
      "Input \u001b[0;32mIn [4]\u001b[0m, in \u001b[0;36m<cell line: 2>\u001b[0;34m()\u001b[0m\n\u001b[1;32m      1\u001b[0m \u001b[38;5;66;03m#ndb.update_electricity()\u001b[39;00m\n\u001b[0;32m----> 2\u001b[0m \u001b[43mndb\u001b[49m\u001b[38;5;241;43m.\u001b[39;49m\u001b[43mupdate_custom_scenario\u001b[49m\u001b[43m(\u001b[49m\u001b[43m)\u001b[49m\n",
      "File \u001b[0;32m~/GitHub/premise/premise/ecoinvent_modification.py:904\u001b[0m, in \u001b[0;36mNewDatabase.update_custom_scenario\u001b[0;34m(self)\u001b[0m\n\u001b[1;32m    892\u001b[0m scenario[\u001b[38;5;124m\"\u001b[39m\u001b[38;5;124mdatabase\u001b[39m\u001b[38;5;124m\"\u001b[39m]\u001b[38;5;241m.\u001b[39mextend(data)\n\u001b[1;32m    894\u001b[0m custom \u001b[38;5;241m=\u001b[39m Custom(\n\u001b[1;32m    895\u001b[0m     database\u001b[38;5;241m=\u001b[39mscenario[\u001b[38;5;124m\"\u001b[39m\u001b[38;5;124mdatabase\u001b[39m\u001b[38;5;124m\"\u001b[39m],\n\u001b[1;32m    896\u001b[0m     model\u001b[38;5;241m=\u001b[39mscenario[\u001b[38;5;124m\"\u001b[39m\u001b[38;5;124mmodel\u001b[39m\u001b[38;5;124m\"\u001b[39m],\n\u001b[0;32m   (...)\u001b[0m\n\u001b[1;32m    902\u001b[0m     custom_data\u001b[38;5;241m=\u001b[39mscenario[\u001b[38;5;124m\"\u001b[39m\u001b[38;5;124mcustom data\u001b[39m\u001b[38;5;124m\"\u001b[39m],\n\u001b[1;32m    903\u001b[0m )\n\u001b[0;32m--> 904\u001b[0m \u001b[43mcustom\u001b[49m\u001b[38;5;241;43m.\u001b[39;49m\u001b[43mregionalize_imported_inventories\u001b[49m\u001b[43m(\u001b[49m\u001b[43m)\u001b[49m\n\u001b[1;32m    905\u001b[0m scenario[\u001b[38;5;124m\"\u001b[39m\u001b[38;5;124mdatabase\u001b[39m\u001b[38;5;124m\"\u001b[39m] \u001b[38;5;241m=\u001b[39m custom\u001b[38;5;241m.\u001b[39mdatabase\n\u001b[1;32m    906\u001b[0m custom\u001b[38;5;241m.\u001b[39mcreate_custom_markets()\n",
      "File \u001b[0;32m~/GitHub/premise/premise/custom.py:460\u001b[0m, in \u001b[0;36mCustom.regionalize_imported_inventories\u001b[0;34m(self)\u001b[0m\n\u001b[1;32m    452\u001b[0m new_acts \u001b[38;5;241m=\u001b[39m \u001b[38;5;28mself\u001b[39m\u001b[38;5;241m.\u001b[39mfetch_proxies(\n\u001b[1;32m    453\u001b[0m     name\u001b[38;5;241m=\u001b[39mds[\u001b[38;5;124m\"\u001b[39m\u001b[38;5;124mname\u001b[39m\u001b[38;5;124m\"\u001b[39m],\n\u001b[1;32m    454\u001b[0m     ref_prod\u001b[38;5;241m=\u001b[39mds[\u001b[38;5;124m\"\u001b[39m\u001b[38;5;124mreference product\u001b[39m\u001b[38;5;124m\"\u001b[39m],\n\u001b[1;32m    455\u001b[0m     relink\u001b[38;5;241m=\u001b[39m\u001b[38;5;28;01mTrue\u001b[39;00m,\n\u001b[1;32m    456\u001b[0m     regions\u001b[38;5;241m=\u001b[39mds\u001b[38;5;241m.\u001b[39mget(\u001b[38;5;124m\"\u001b[39m\u001b[38;5;124mregions\u001b[39m\u001b[38;5;124m\"\u001b[39m, \u001b[38;5;28mself\u001b[39m\u001b[38;5;241m.\u001b[39mregions),\n\u001b[1;32m    457\u001b[0m )\n\u001b[1;32m    459\u001b[0m \u001b[38;5;66;03m# adjust efficiency\u001b[39;00m\n\u001b[0;32m--> 460\u001b[0m new_acts \u001b[38;5;241m=\u001b[39m {k: \u001b[38;5;28mself\u001b[39m\u001b[38;5;241m.\u001b[39madjust_efficiency(v) \u001b[38;5;28;01mfor\u001b[39;00m k, v \u001b[38;5;129;01min\u001b[39;00m new_acts\u001b[38;5;241m.\u001b[39mitems()}\n\u001b[1;32m    462\u001b[0m \u001b[38;5;28mself\u001b[39m\u001b[38;5;241m.\u001b[39mdatabase\u001b[38;5;241m.\u001b[39mextend(new_acts\u001b[38;5;241m.\u001b[39mvalues())\n\u001b[1;32m    464\u001b[0m \u001b[38;5;28;01mif\u001b[39;00m \u001b[38;5;124m\"\u001b[39m\u001b[38;5;124mreplaces\u001b[39m\u001b[38;5;124m\"\u001b[39m \u001b[38;5;129;01min\u001b[39;00m ds:\n",
      "File \u001b[0;32m~/GitHub/premise/premise/custom.py:460\u001b[0m, in \u001b[0;36m<dictcomp>\u001b[0;34m(.0)\u001b[0m\n\u001b[1;32m    452\u001b[0m new_acts \u001b[38;5;241m=\u001b[39m \u001b[38;5;28mself\u001b[39m\u001b[38;5;241m.\u001b[39mfetch_proxies(\n\u001b[1;32m    453\u001b[0m     name\u001b[38;5;241m=\u001b[39mds[\u001b[38;5;124m\"\u001b[39m\u001b[38;5;124mname\u001b[39m\u001b[38;5;124m\"\u001b[39m],\n\u001b[1;32m    454\u001b[0m     ref_prod\u001b[38;5;241m=\u001b[39mds[\u001b[38;5;124m\"\u001b[39m\u001b[38;5;124mreference product\u001b[39m\u001b[38;5;124m\"\u001b[39m],\n\u001b[1;32m    455\u001b[0m     relink\u001b[38;5;241m=\u001b[39m\u001b[38;5;28;01mTrue\u001b[39;00m,\n\u001b[1;32m    456\u001b[0m     regions\u001b[38;5;241m=\u001b[39mds\u001b[38;5;241m.\u001b[39mget(\u001b[38;5;124m\"\u001b[39m\u001b[38;5;124mregions\u001b[39m\u001b[38;5;124m\"\u001b[39m, \u001b[38;5;28mself\u001b[39m\u001b[38;5;241m.\u001b[39mregions),\n\u001b[1;32m    457\u001b[0m )\n\u001b[1;32m    459\u001b[0m \u001b[38;5;66;03m# adjust efficiency\u001b[39;00m\n\u001b[0;32m--> 460\u001b[0m new_acts \u001b[38;5;241m=\u001b[39m {k: \u001b[38;5;28;43mself\u001b[39;49m\u001b[38;5;241;43m.\u001b[39;49m\u001b[43madjust_efficiency\u001b[49m\u001b[43m(\u001b[49m\u001b[43mv\u001b[49m\u001b[43m)\u001b[49m \u001b[38;5;28;01mfor\u001b[39;00m k, v \u001b[38;5;129;01min\u001b[39;00m new_acts\u001b[38;5;241m.\u001b[39mitems()}\n\u001b[1;32m    462\u001b[0m \u001b[38;5;28mself\u001b[39m\u001b[38;5;241m.\u001b[39mdatabase\u001b[38;5;241m.\u001b[39mextend(new_acts\u001b[38;5;241m.\u001b[39mvalues())\n\u001b[1;32m    464\u001b[0m \u001b[38;5;28;01mif\u001b[39;00m \u001b[38;5;124m\"\u001b[39m\u001b[38;5;124mreplaces\u001b[39m\u001b[38;5;124m\"\u001b[39m \u001b[38;5;129;01min\u001b[39;00m ds:\n",
      "File \u001b[0;32m~/GitHub/premise/premise/custom.py:436\u001b[0m, in \u001b[0;36mCustom.adjust_efficiency\u001b[0;34m(self, dataset)\u001b[0m\n\u001b[1;32m    420\u001b[0m                 filters \u001b[38;5;241m=\u001b[39m x[\u001b[38;5;241m0\u001b[39m]\n\u001b[1;32m    421\u001b[0m                 wurst\u001b[38;5;241m.\u001b[39mchange_exchanges_by_constant_factor(\n\u001b[1;32m    422\u001b[0m                     dataset,\n\u001b[1;32m    423\u001b[0m                     scaling_factor,\n\u001b[0;32m   (...)\u001b[0m\n\u001b[1;32m    433\u001b[0m                     \u001b[38;5;28;01melse\u001b[39;00m [],\n\u001b[1;32m    434\u001b[0m                 )\n\u001b[0;32m--> 436\u001b[0m     \u001b[38;5;28;01mdel\u001b[39;00m dataset[\u001b[38;5;124m\"\u001b[39m\u001b[38;5;124mnew efficiency\u001b[39m\u001b[38;5;124m\"\u001b[39m]\n\u001b[1;32m    438\u001b[0m \u001b[38;5;28;01mreturn\u001b[39;00m dataset\n",
      "\u001b[0;31mKeyError\u001b[0m: 'new efficiency'"
     ]
    }
   ],
   "source": [
    "#ndb.update_electricity()\n",
    "ndb.update_custom_scenario()"
   ]
  },
  {
   "cell_type": "code",
   "execution_count": 5,
   "id": "9060bfc4-d217-435b-b4aa-ae9f87f2a615",
   "metadata": {},
   "outputs": [
    {
     "name": "stdout",
     "output_type": "stream",
     "text": [
      "Write new database(s) to Brightway2.\n",
      "Prepare database 1.\n",
      "24160 datasets\n",
      "684365 exchanges\n",
      "0 unlinked exchanges\n",
      "  \n"
     ]
    },
    {
     "name": "stderr",
     "output_type": "stream",
     "text": [
      "Writing activities to SQLite3 database:\n",
      "0% [##############################] 100% | ETA: 00:00:00\n",
      "Total time elapsed: 00:00:35\n"
     ]
    },
    {
     "name": "stdout",
     "output_type": "stream",
     "text": [
      "Title: Writing activities to SQLite3 database:\n",
      "  Started: 03/16/2022 21:04:08\n",
      "  Finished: 03/16/2022 21:04:44\n",
      "  Total time elapsed: 00:00:35\n",
      "  CPU %: 2.20\n",
      "  Memory %: 11.62\n",
      "Created database: custom12\n"
     ]
    }
   ],
   "source": [
    "ndb.write_db_to_brightway(name=[\"custom12\"])"
   ]
  },
  {
   "cell_type": "code",
   "execution_count": 8,
   "id": "6fa4df71-a43f-494c-b6ec-c6f92c013fa0",
   "metadata": {},
   "outputs": [
    {
     "data": {
      "text/plain": [
       "'CHN'"
      ]
     },
     "execution_count": 8,
     "metadata": {},
     "output_type": "execute_result"
    }
   ],
   "source": [
    "from premise.transformation import BaseTransformation\n",
    "\n",
    "b = BaseTransformation(\n",
    "    database = ndb.database,\n",
    "    iam_data = ndb.scenarios[0][\"iam data\"],\n",
    "    model = \"image\",\n",
    "    pathway=\"hjkl\",\n",
    "    year=1990\n",
    "\n",
    ")\n",
    "b.ecoinvent_to_iam_loc[\"CN\"]"
   ]
  },
  {
   "cell_type": "code",
   "execution_count": 7,
   "id": "d1add320-6f89-4c6c-92f4-8d0b42c5bc37",
   "metadata": {},
   "outputs": [
    {
     "name": "stdout",
     "output_type": "stream",
     "text": [
      "bread production, activated dough development RER ['market group for electricity, low voltage']\n",
      "bread production, activated dough development CAN ['market group for electricity, low voltage']\n",
      "bread production, activated dough development CEU ['market group for electricity, low voltage']\n",
      "bread production, activated dough development CHN ['market group for electricity, low voltage']\n",
      "bread production, activated dough development EAF ['market group for electricity, low voltage']\n",
      "bread production, activated dough development INDIA ['market group for electricity, low voltage']\n",
      "bread production, activated dough development INDO ['market group for electricity, low voltage']\n",
      "bread production, activated dough development JAP ['market group for electricity, low voltage']\n",
      "bread production, activated dough development KOR ['market group for electricity, low voltage']\n",
      "bread production, activated dough development ME ['market group for electricity, low voltage']\n",
      "bread production, activated dough development MEX ['market group for electricity, low voltage']\n",
      "bread production, activated dough development NAF ['market group for electricity, low voltage']\n",
      "bread production, activated dough development OCE ['market group for electricity, low voltage']\n",
      "bread production, activated dough development RCAM ['market group for electricity, low voltage']\n",
      "bread production, activated dough development RSAF ['market group for electricity, low voltage']\n",
      "bread production, activated dough development RSAM ['market group for electricity, low voltage']\n",
      "bread production, activated dough development RSAS ['market group for electricity, low voltage']\n",
      "bread production, activated dough development RUS ['market group for electricity, low voltage']\n",
      "bread production, activated dough development SAF ['market group for electricity, low voltage']\n",
      "bread production, activated dough development SEAS ['market group for electricity, low voltage']\n",
      "bread production, activated dough development STAN ['market group for electricity, low voltage']\n",
      "bread production, activated dough development TUR ['market group for electricity, low voltage']\n",
      "bread production, activated dough development UKR ['market group for electricity, low voltage']\n",
      "bread production, activated dough development USA ['market group for electricity, low voltage']\n",
      "bread production, activated dough development WAF ['market group for electricity, low voltage']\n",
      "bread production, activated dough development WEU ['market group for electricity, low voltage']\n"
     ]
    }
   ],
   "source": [
    "for ds in ndb.scenarios[0][\"database\"]:\n",
    "    if \"biosphere filters\" in ds:\n",
    "        print(ds[\"name\"], ds[\"location\"], ds[\"technosphere filters\"])"
   ]
  },
  {
   "cell_type": "code",
   "execution_count": null,
   "id": "61735783-2877-4be8-aa16-e81bb49a64aa",
   "metadata": {},
   "outputs": [],
   "source": []
  },
  {
   "cell_type": "code",
   "execution_count": null,
   "id": "243b3285-9501-4be9-96e8-595cedf39385",
   "metadata": {},
   "outputs": [],
   "source": []
  }
 ],
 "metadata": {
  "kernelspec": {
   "display_name": "Python 3 (ipykernel)",
   "language": "python",
   "name": "python3"
  },
  "language_info": {
   "codemirror_mode": {
    "name": "ipython",
    "version": 3
   },
   "file_extension": ".py",
   "mimetype": "text/x-python",
   "name": "python",
   "nbconvert_exporter": "python",
   "pygments_lexer": "ipython3",
   "version": "3.9.10"
  }
 },
 "nbformat": 4,
 "nbformat_minor": 5
}
