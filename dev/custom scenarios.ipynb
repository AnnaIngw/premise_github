{
 "cells": [
  {
   "cell_type": "code",
   "execution_count": 1,
   "id": "ce083c05-a99b-4e9b-94c3-1a87d4ee033c",
   "metadata": {},
   "outputs": [],
   "source": [
    "import brightway2 as bw\n",
    "from premise import *"
   ]
  },
  {
   "cell_type": "code",
   "execution_count": 2,
   "id": "941c72a5-6f3c-4c3c-833a-ebd48db59669",
   "metadata": {},
   "outputs": [],
   "source": [
    "bw.projects.set_current(\"premise\")"
   ]
  },
  {
   "cell_type": "code",
   "execution_count": 3,
   "id": "1e6ebbae-2743-4e76-ab3d-e7a5dd873539",
   "metadata": {},
   "outputs": [
    {
     "name": "stdout",
     "output_type": "stream",
     "text": [
      "+------------------------------------------------------------------+\n",
      "| Warning                                                          |\n",
      "+------------------------------------------------------------------+\n",
      "| Because some of the scenarios can yield LCI databases            |\n",
      "| containing net negative emission technologies (NET),             |\n",
      "| it is advised to account for biogenic CO2 flows when calculating |\n",
      "| Global Warming potential indicators.                             |\n",
      "| `premise_gwp` provides characterization factors for such flows.  |\n",
      "| It also provides factors for hydrogen emissions to air.          |\n",
      "|                                                                  |\n",
      "| Within your bw2 project:                                         |\n",
      "| from premise_gwp import add_premise_gwp                          |\n",
      "| add_premise_gwp()                                                |\n",
      "+------------------------------------------------------------------+\n",
      "\n",
      "//////////////////// EXTRACTING SOURCE DATABASE ////////////////////\n",
      "Done!\n",
      "\n",
      "////////////////// IMPORTING DEFAULT INVENTORIES ///////////////////\n",
      "Done!\n",
      "\n",
      "/////////////////////// EXTRACTING IAM DATA ////////////////////////\n",
      "Done!\n"
     ]
    }
   ],
   "source": [
    "ndb = NewDatabase(\n",
    "        scenarios = [\n",
    "            {\"model\":\"image\", \"pathway\":\"SSP2-Base\", \"year\":2050, \"exclude\": [\"update_two_wheelers\", \"update_buses\", \"update_cars\"]},\n",
    "            #{\"model\":\"image\", \"pathway\":\"SSP2-Base\", \"year\":2030, \"exclude\": [\"update_two_wheelers\", \"update_buses\", \"update_cars\"]},\n",
    "        ],        \n",
    "        source_db=\"ecoinvent 3.8 cutoff\",\n",
    "        source_version=\"3.8\",\n",
    "        key='tUePmX_S5B8ieZkkM7WUU2CnO8SmShwmAeWK9x2rTFo=',\n",
    "        custom_scenario=[\n",
    "            {\n",
    "                \"inventories\": r\"inventory_bread.xlsx\",\n",
    "                \"scenario data\": r\"example.xlsx\",\n",
    "                \"config\": r\"config.yaml\"\n",
    "            }\n",
    "        ]\n",
    "    )"
   ]
  },
  {
   "cell_type": "code",
   "execution_count": 4,
   "id": "371a123b-c48f-4624-b26e-3171a147d897",
   "metadata": {},
   "outputs": [
    {
     "name": "stdout",
     "output_type": "stream",
     "text": [
      "\n",
      "/////////////////////////// ELECTRICITY ////////////////////////////\n",
      "Update natural gas extraction datasets.\n",
      "Update efficiency of solar PV.\n",
      "Log of changes in photovoltaics efficiencies saved in /Users/romain/GitHub/premise/premise/data/logs\n",
      "Create biomass markets.\n",
      "Empty old electricity datasets\n",
      "Create high voltage markets.\n",
      "Create medium voltage markets.\n",
      "Create low voltage markets.\n",
      "Log of deleted electricity markets saved in /Users/romain/GitHub/premise/premise/data/logs\n",
      "Log of created electricity markets saved in /Users/romain/GitHub/premise/premise/data/logs\n",
      "Done!\n",
      "Adjust efficiency of power plants...\n",
      "Log of changes in power plants efficiencies saved in /Users/romain/GitHub/premise/premise/data/logs\n",
      "Rescale inventories and emissions for Oil CC CCS\n",
      "Rescale inventories and emissions for Coal CHP CCS\n",
      "Rescale inventories and emissions for Biomass ST\n",
      "Rescale inventories and emissions for Coal PC\n",
      "Rescale inventories and emissions for Biomass IGCC\n",
      "Rescale inventories and emissions for Biomass IGCC CCS\n",
      "Rescale inventories and emissions for Coal IGCC CCS\n",
      "Rescale inventories and emissions for Gas OC\n",
      "Rescale inventories and emissions for Nuclear\n",
      "Rescale inventories and emissions for Oil ST\n",
      "Rescale inventories and emissions for Oil CHP CCS\n",
      "Rescale inventories and emissions for Coal IGCC\n",
      "Rescale inventories and emissions for Gas CHP CCS\n",
      "Rescale inventories and emissions for Biomass CHP\n",
      "Rescale inventories and emissions for Gas CHP\n",
      "Rescale inventories and emissions for Gas CC CCS\n",
      "Rescale inventories and emissions for Oil CHP\n",
      "Rescale inventories and emissions for Coal CHP\n",
      "Rescale inventories and emissions for Gas CC\n",
      "Rescale inventories and emissions for Oil CC\n",
      "Rescale inventories and emissions for Biomass CHP CCS\n",
      "\n",
      "//////////////// IMPORTING USER-DEFINED INVENTORIES /////////////////\n",
      "Extracted 1 worksheets in 0.01 seconds\n",
      "The following biosphere exchange cannot be found and will be deleted: Water\n",
      "The following biosphere exchange cannot be found and will be deleted: Water\n",
      "The following biosphere exchange cannot be found and will be deleted: Water\n",
      "Relink to new markets.\n",
      "Create custom markets.\n",
      "Relink to new markets.\n"
     ]
    }
   ],
   "source": [
    "ndb.update_electricity()\n",
    "ndb.update_custom_scenario()"
   ]
  },
  {
   "cell_type": "code",
   "execution_count": 5,
   "id": "9060bfc4-d217-435b-b4aa-ae9f87f2a615",
   "metadata": {},
   "outputs": [
    {
     "name": "stdout",
     "output_type": "stream",
     "text": [
      "Write new database(s) to Brightway2.\n",
      "Prepare database 1.\n",
      "24160 datasets\n",
      "684290 exchanges\n",
      "0 unlinked exchanges\n",
      "  \n"
     ]
    },
    {
     "name": "stderr",
     "output_type": "stream",
     "text": [
      "Writing activities to SQLite3 database:\n",
      "0% [##############################] 100% | ETA: 00:00:00\n",
      "Total time elapsed: 00:00:34\n"
     ]
    },
    {
     "name": "stdout",
     "output_type": "stream",
     "text": [
      "Title: Writing activities to SQLite3 database:\n",
      "  Started: 03/16/2022 13:25:57\n",
      "  Finished: 03/16/2022 13:26:32\n",
      "  Total time elapsed: 00:00:34\n",
      "  CPU %: 2.10\n",
      "  Memory %: 11.39\n",
      "Created database: custom10\n"
     ]
    }
   ],
   "source": [
    "ndb.write_db_to_brightway(name=[\"custom10\"])"
   ]
  },
  {
   "cell_type": "code",
   "execution_count": 8,
   "id": "6fa4df71-a43f-494c-b6ec-c6f92c013fa0",
   "metadata": {},
   "outputs": [
    {
     "data": {
      "text/plain": [
       "'CHN'"
      ]
     },
     "execution_count": 8,
     "metadata": {},
     "output_type": "execute_result"
    }
   ],
   "source": [
    "from premise.transformation import BaseTransformation\n",
    "\n",
    "b = BaseTransformation(\n",
    "    database = ndb.database,\n",
    "    iam_data = ndb.scenarios[0][\"iam data\"],\n",
    "    model = \"image\",\n",
    "    pathway=\"hjkl\",\n",
    "    year=1990\n",
    "\n",
    ")\n",
    "b.ecoinvent_to_iam_loc[\"CN\"]"
   ]
  },
  {
   "cell_type": "code",
   "execution_count": null,
   "id": "d1add320-6f89-4c6c-92f4-8d0b42c5bc37",
   "metadata": {},
   "outputs": [],
   "source": []
  },
  {
   "cell_type": "code",
   "execution_count": null,
   "id": "61735783-2877-4be8-aa16-e81bb49a64aa",
   "metadata": {},
   "outputs": [],
   "source": []
  },
  {
   "cell_type": "code",
   "execution_count": null,
   "id": "243b3285-9501-4be9-96e8-595cedf39385",
   "metadata": {},
   "outputs": [],
   "source": []
  }
 ],
 "metadata": {
  "kernelspec": {
   "display_name": "Python 3 (ipykernel)",
   "language": "python",
   "name": "python3"
  },
  "language_info": {
   "codemirror_mode": {
    "name": "ipython",
    "version": 3
   },
   "file_extension": ".py",
   "mimetype": "text/x-python",
   "name": "python",
   "nbconvert_exporter": "python",
   "pygments_lexer": "ipython3",
   "version": "3.9.10"
  }
 },
 "nbformat": 4,
 "nbformat_minor": 5
}
