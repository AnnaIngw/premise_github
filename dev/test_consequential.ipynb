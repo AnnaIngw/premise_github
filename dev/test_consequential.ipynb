{
 "cells": [
  {
   "cell_type": "code",
   "execution_count": 1,
   "id": "3419e0bc-6adb-4a9a-aeac-9fd038bab3ff",
   "metadata": {},
   "outputs": [],
   "source": [
    "from premise import *\n",
    "import bw2data, bw2io, bw2calc\n",
    "bw2data.projects.set_current(\"ei39\")"
   ]
  },
  {
   "cell_type": "code",
   "execution_count": 2,
   "id": "75325140-2dba-4ce0-8344-b4752b5d359c",
   "metadata": {},
   "outputs": [],
   "source": [
    "args = {\"range time\": 2, \"duration\": False, \"foresight\": False, \"lead time\": True, \"capital replacement rate\": False,\n",
    "\"measurement\": 0, \"weighted slope start\": 0.75, \"weighted slope end\": 1.00}"
   ]
  },
  {
   "cell_type": "code",
   "execution_count": 3,
   "id": "45f15df4-57b9-4adb-aa05-247a6118dc3e",
   "metadata": {},
   "outputs": [],
   "source": [
    "scenaria=[\n",
    "{\"model\":\"remind\",\"pathway\":\"SSP1-Base\",\"year\":2030},\n",
    "{\"model\":\"remind\",\"pathway\":\"SSP2-Base\",\"year\":2030},\n",
    "{\"model\":\"remind\",\"pathway\":\"SSP5-Base\",\"year\":2030},\n",
    "{\"model\":\"remind\",\"pathway\":\"SSP1-Base\",\"year\":2040},\n",
    "{\"model\":\"remind\",\"pathway\":\"SSP2-Base\",\"year\":2040},\n",
    "# {\"model\":\"remind\",\"pathway\":\"SSP5-Base\",\"year\":2040},\n",
    "# {\"model\":\"remind\",\"pathway\":\"SSP1-Base\",\"year\":2050},\n",
    "# {\"model\":\"remind\",\"pathway\":\"SSP2-Base\",\"year\":2050},\n",
    "# {\"model\":\"remind\",\"pathway\":\"SSP5-Base\",\"year\":2050},\n",
    "]"
   ]
  },
  {
   "cell_type": "code",
   "execution_count": 4,
   "id": "1297da17-ab2c-4011-b25c-56b07ff79584",
   "metadata": {},
   "outputs": [
    {
     "name": "stdout",
     "output_type": "stream",
     "text": [
      "\n",
      "//////////////////// EXTRACTING SOURCE DATABASE ////////////////////\n",
      "Done!\n",
      "\n",
      "////////////////// IMPORTING DEFAULT INVENTORIES ///////////////////\n",
      "Done!\n",
      "\n",
      "/////////////////////// EXTRACTING IAM DATA ////////////////////////\n",
      "Done!\n",
      "`update_all()` will skip the following steps:\n",
      "update_two_wheelers(), update_cars(), and update_buses()\n",
      "If you want to update these steps, please run them separately afterwards.\n",
      "Extracted 1 worksheets in 5.76 seconds\n",
      "Migrating to 3.8 first\n",
      "Applying strategy: migrate_datasets\n",
      "Applying strategy: migrate_exchanges\n",
      "Applying strategy: migrate_datasets\n",
      "Applying strategy: migrate_exchanges\n",
      "Applying strategy: migrate_datasets\n",
      "Applying strategy: migrate_exchanges\n",
      "Anomalies found: check the change report.\n",
      "Done!\n",
      "Anomalies found: check the change report.\n",
      "Done!\n",
      "Extracted 1 worksheets in 5.56 seconds\n",
      "Migrating to 3.8 first\n",
      "Applying strategy: migrate_datasets\n",
      "Applying strategy: migrate_exchanges\n",
      "Applying strategy: migrate_datasets\n",
      "Applying strategy: migrate_exchanges\n",
      "Applying strategy: migrate_datasets\n",
      "Applying strategy: migrate_exchanges\n",
      "Anomalies found: check the change report.\n",
      "Done!\n",
      "Anomalies found: check the change report.\n",
      "Done!\n",
      "Extracted 1 worksheets in 5.23 seconds\n",
      "Migrating to 3.8 first\n",
      "Applying strategy: migrate_datasets\n",
      "Applying strategy: migrate_exchanges\n",
      "Applying strategy: migrate_datasets\n",
      "Applying strategy: migrate_exchanges\n",
      "Applying strategy: migrate_datasets\n",
      "Applying strategy: migrate_exchanges\n",
      "Anomalies found: check the change report.\n",
      "Done!\n",
      "Anomalies found: check the change report.\n",
      "Done!\n",
      "Extracted 1 worksheets in 5.82 seconds\n",
      "Migrating to 3.8 first\n",
      "Applying strategy: migrate_datasets\n",
      "Applying strategy: migrate_exchanges\n",
      "Applying strategy: migrate_datasets\n",
      "Applying strategy: migrate_exchanges\n",
      "Applying strategy: migrate_datasets\n",
      "Applying strategy: migrate_exchanges\n",
      "Anomalies found: check the change report.\n",
      "Done!\n",
      "Anomalies found: check the change report.\n",
      "Done!\n",
      "Done!\n",
      "\n"
     ]
    },
    {
     "ename": "NameError",
     "evalue": "name 'names' is not defined",
     "output_type": "error",
     "traceback": [
      "\u001b[0;31m---------------------------------------------------------------------------\u001b[0m",
      "\u001b[0;31mNameError\u001b[0m                                 Traceback (most recent call last)",
      "Cell \u001b[0;32mIn[4], line 14\u001b[0m\n\u001b[1;32m      2\u001b[0m ndb \u001b[38;5;241m=\u001b[39m NewDatabase(\n\u001b[1;32m      3\u001b[0m     scenarios\u001b[38;5;241m=\u001b[39mscenaria,\n\u001b[1;32m      4\u001b[0m     source_db\u001b[38;5;241m=\u001b[39m\u001b[38;5;124m\"\u001b[39m\u001b[38;5;124mecoinvent 3.9.1 consequential\u001b[39m\u001b[38;5;124m\"\u001b[39m, \u001b[38;5;66;03m# <-- Must point to the consequential database.\u001b[39;00m\n\u001b[0;32m   (...)\u001b[0m\n\u001b[1;32m     11\u001b[0m     quiet\u001b[38;5;241m=\u001b[39m\u001b[38;5;28;01mTrue\u001b[39;00m,\n\u001b[1;32m     12\u001b[0m )\n\u001b[1;32m     13\u001b[0m ndb\u001b[38;5;241m.\u001b[39mupdate_all()\n\u001b[0;32m---> 14\u001b[0m ndb\u001b[38;5;241m.\u001b[39mwrite_db_to_brightway(\u001b[43mnames\u001b[49m)\n",
      "\u001b[0;31mNameError\u001b[0m: name 'names' is not defined"
     ]
    }
   ],
   "source": [
    "#clear_cache()\n",
    "ndb = NewDatabase(\n",
    "    scenarios=scenaria,\n",
    "    source_db=\"ecoinvent 3.9.1 consequential\", # <-- Must point to the consequential database.\n",
    "    source_version=\"3.9.1\",\n",
    "    source_type=\"brightway\",\n",
    "    #source_file_path=\"/home/misc/Documents/ecoinvent 3.9.1_consequential_ecoSpold02/datasets/\",\n",
    "    key='tUePmX_S5B8ieZkkM7WUU2CnO8SmShwmAeWK9x2rTFo=',\n",
    "    system_model=\"consequential\", # <-- Must specify \"consequential\"\n",
    "    system_args=args, # Optional. Arguments.\n",
    "    quiet=True,\n",
    ")\n",
    "ndb.update_all()\n",
    "ndb.write_db_to_brightway(names)"
   ]
  },
  {
   "cell_type": "code",
   "execution_count": null,
   "id": "b6e2790e-55b1-4ffb-be84-0d9673e92d48",
   "metadata": {},
   "outputs": [
    {
     "name": "stdout",
     "output_type": "stream",
     "text": [
      "Write new database(s) to Brightway.\n",
      "Running all checks...\n",
      "Anomalies found: check the change report.\n",
      "Running all checks...\n",
      "Anomalies found: check the change report.\n",
      "Running all checks...\n",
      "Anomalies found: check the change report.\n",
      "Running all checks...\n",
      "Anomalies found: check the change report.\n",
      "Running all checks...\n",
      "Anomalies found: check the change report.\n"
     ]
    }
   ],
   "source": [
    "ndb.write_db_to_brightway()"
   ]
  },
  {
   "cell_type": "code",
   "execution_count": 8,
   "id": "4966c9f8-bad0-4e49-a1fb-4b061c374c35",
   "metadata": {},
   "outputs": [
    {
     "name": "stdout",
     "output_type": "stream",
     "text": [
      "market for electricity, for reuse in municipal waste incineration only 1.0 GB production\n",
      "electricity, from municipal waste incineration to generic market for electricity, medium voltage 1.0 GB technosphere\n"
     ]
    }
   ],
   "source": [
    "for ds in ndb.database:\n",
    "    if ds[\"name\"] == \"market for electricity, for reuse in municipal waste incineration only\" and ds[\"location\"] == \"GB\":\n",
    "        for e in ds[\"exchanges\"]:\n",
    "            print(e[\"name\"], e[\"amount\"], e.get(\"location\"), e[\"type\"])"
   ]
  },
  {
   "cell_type": "code",
   "execution_count": null,
   "id": "993b6b4c-097f-4752-be2a-47b729a95562",
   "metadata": {},
   "outputs": [],
   "source": []
  }
 ],
 "metadata": {
  "kernelspec": {
   "display_name": "Python 3 (ipykernel)",
   "language": "python",
   "name": "python3"
  },
  "language_info": {
   "codemirror_mode": {
    "name": "ipython",
    "version": 3
   },
   "file_extension": ".py",
   "mimetype": "text/x-python",
   "name": "python",
   "nbconvert_exporter": "python",
   "pygments_lexer": "ipython3",
   "version": "3.10.13"
  }
 },
 "nbformat": 4,
 "nbformat_minor": 5
}
