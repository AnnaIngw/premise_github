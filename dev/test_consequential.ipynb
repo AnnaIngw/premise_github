{
 "cells": [
  {
   "cell_type": "code",
   "execution_count": 1,
   "id": "3419e0bc-6adb-4a9a-aeac-9fd038bab3ff",
   "metadata": {},
   "outputs": [],
   "source": [
    "from premise import *\n",
    "import bw2data, bw2io, bw2calc\n",
    "bw2data.projects.set_current(\"ei39\")"
   ]
  },
  {
   "cell_type": "code",
   "execution_count": 2,
   "id": "75325140-2dba-4ce0-8344-b4752b5d359c",
   "metadata": {},
   "outputs": [],
   "source": [
    "args = {\"range time\": 2, \"duration\": False, \"foresight\": False, \"lead time\": True, \"capital replacement rate\": False,\n",
    "\"measurement\": 0, \"weighted slope start\": 0.75, \"weighted slope end\": 1.00}"
   ]
  },
  {
   "cell_type": "code",
   "execution_count": 3,
   "id": "45f15df4-57b9-4adb-aa05-247a6118dc3e",
   "metadata": {},
   "outputs": [],
   "source": [
    "scenaria=[\n",
    "{\"model\":\"remind\",\"pathway\":\"SSP1-Base\",\"year\":2030},\n",
    "{\"model\":\"remind\",\"pathway\":\"SSP2-Base\",\"year\":2030},\n",
    "{\"model\":\"remind\",\"pathway\":\"SSP5-Base\",\"year\":2030},\n",
    "{\"model\":\"remind\",\"pathway\":\"SSP1-Base\",\"year\":2040},\n",
    "{\"model\":\"remind\",\"pathway\":\"SSP2-Base\",\"year\":2040},\n",
    "# {\"model\":\"remind\",\"pathway\":\"SSP5-Base\",\"year\":2040},\n",
    "# {\"model\":\"remind\",\"pathway\":\"SSP1-Base\",\"year\":2050},\n",
    "# {\"model\":\"remind\",\"pathway\":\"SSP2-Base\",\"year\":2050},\n",
    "# {\"model\":\"remind\",\"pathway\":\"SSP5-Base\",\"year\":2050},\n",
    "]"
   ]
  },
  {
   "cell_type": "code",
   "execution_count": 4,
   "id": "1297da17-ab2c-4011-b25c-56b07ff79584",
   "metadata": {},
   "outputs": [
    {
     "name": "stdout",
     "output_type": "stream",
     "text": [
      "\n",
      "//////////////////// EXTRACTING SOURCE DATABASE ////////////////////\n",
      "Done!\n",
      "\n",
      "////////////////// IMPORTING DEFAULT INVENTORIES ///////////////////\n",
      "Done!\n",
      "\n",
      "/////////////////////// EXTRACTING IAM DATA ////////////////////////\n",
      "Done!\n",
      "`update_all()` will skip the following steps:\n",
      "update_two_wheelers(), update_cars(), and update_buses()\n",
      "If you want to update these steps, please run them separately afterwards.\n",
      "Extracted 1 worksheets in 5.76 seconds\n",
      "Migrating to 3.8 first\n",
      "Applying strategy: migrate_datasets\n",
      "Applying strategy: migrate_exchanges\n",
      "Applying strategy: migrate_datasets\n",
      "Applying strategy: migrate_exchanges\n",
      "Applying strategy: migrate_datasets\n",
      "Applying strategy: migrate_exchanges\n",
      "Anomalies found: check the change report.\n",
      "Done!\n",
      "Anomalies found: check the change report.\n",
      "Done!\n",
      "Extracted 1 worksheets in 5.56 seconds\n",
      "Migrating to 3.8 first\n",
      "Applying strategy: migrate_datasets\n",
      "Applying strategy: migrate_exchanges\n",
      "Applying strategy: migrate_datasets\n",
      "Applying strategy: migrate_exchanges\n",
      "Applying strategy: migrate_datasets\n",
      "Applying strategy: migrate_exchanges\n",
      "Anomalies found: check the change report.\n",
      "Done!\n",
      "Anomalies found: check the change report.\n",
      "Done!\n",
      "Extracted 1 worksheets in 5.23 seconds\n",
      "Migrating to 3.8 first\n",
      "Applying strategy: migrate_datasets\n",
      "Applying strategy: migrate_exchanges\n",
      "Applying strategy: migrate_datasets\n",
      "Applying strategy: migrate_exchanges\n",
      "Applying strategy: migrate_datasets\n",
      "Applying strategy: migrate_exchanges\n",
      "Anomalies found: check the change report.\n",
      "Done!\n",
      "Anomalies found: check the change report.\n",
      "Done!\n",
      "Extracted 1 worksheets in 5.82 seconds\n",
      "Migrating to 3.8 first\n",
      "Applying strategy: migrate_datasets\n",
      "Applying strategy: migrate_exchanges\n",
      "Applying strategy: migrate_datasets\n",
      "Applying strategy: migrate_exchanges\n",
      "Applying strategy: migrate_datasets\n",
      "Applying strategy: migrate_exchanges\n",
      "Anomalies found: check the change report.\n",
      "Done!\n",
      "Anomalies found: check the change report.\n",
      "Done!\n",
      "Done!\n",
      "\n"
     ]
    },
    {
     "ename": "NameError",
     "evalue": "name 'names' is not defined",
     "output_type": "error",
     "traceback": [
      "\u001b[0;31m---------------------------------------------------------------------------\u001b[0m",
      "\u001b[0;31mNameError\u001b[0m                                 Traceback (most recent call last)",
      "Cell \u001b[0;32mIn[4], line 14\u001b[0m\n\u001b[1;32m      2\u001b[0m ndb \u001b[38;5;241m=\u001b[39m NewDatabase(\n\u001b[1;32m      3\u001b[0m     scenarios\u001b[38;5;241m=\u001b[39mscenaria,\n\u001b[1;32m      4\u001b[0m     source_db\u001b[38;5;241m=\u001b[39m\u001b[38;5;124m\"\u001b[39m\u001b[38;5;124mecoinvent 3.9.1 consequential\u001b[39m\u001b[38;5;124m\"\u001b[39m, \u001b[38;5;66;03m# <-- Must point to the consequential database.\u001b[39;00m\n\u001b[0;32m   (...)\u001b[0m\n\u001b[1;32m     11\u001b[0m     quiet\u001b[38;5;241m=\u001b[39m\u001b[38;5;28;01mTrue\u001b[39;00m,\n\u001b[1;32m     12\u001b[0m )\n\u001b[1;32m     13\u001b[0m ndb\u001b[38;5;241m.\u001b[39mupdate_all()\n\u001b[0;32m---> 14\u001b[0m ndb\u001b[38;5;241m.\u001b[39mwrite_db_to_brightway(\u001b[43mnames\u001b[49m)\n",
      "\u001b[0;31mNameError\u001b[0m: name 'names' is not defined"
     ]
    }
   ],
   "source": [
    "#clear_cache()\n",
    "ndb = NewDatabase(\n",
    "    scenarios=scenaria,\n",
    "    source_db=\"ecoinvent 3.9.1 consequential\", # <-- Must point to the consequential database.\n",
    "    source_version=\"3.9.1\",\n",
    "    source_type=\"brightway\",\n",
    "    #source_file_path=\"/home/misc/Documents/ecoinvent 3.9.1_consequential_ecoSpold02/datasets/\",\n",
    "    key='tUePmX_S5B8ieZkkM7WUU2CnO8SmShwmAeWK9x2rTFo=',\n",
    "    system_model=\"consequential\", # <-- Must specify \"consequential\"\n",
    "    system_args=args, # Optional. Arguments.\n",
    "    quiet=True,\n",
    ")\n",
    "ndb.update_all()\n",
    "ndb.write_db_to_brightway(names)"
   ]
  },
  {
   "cell_type": "code",
   "execution_count": 5,
   "id": "b6e2790e-55b1-4ffb-be84-0d9673e92d48",
   "metadata": {},
   "outputs": [
    {
     "name": "stdout",
     "output_type": "stream",
     "text": [
      "Write new database(s) to Brightway.\n",
      "Running all checks...\n",
      "Anomalies found: check the change report.\n",
      "Running all checks...\n",
      "Anomalies found: check the change report.\n",
      "Running all checks...\n",
      "Anomalies found: check the change report.\n",
      "Running all checks...\n",
      "Anomalies found: check the change report.\n",
      "Running all checks...\n",
      "Anomalies found: check the change report.\n"
     ]
    },
    {
     "name": "stderr",
     "output_type": "stream",
     "text": [
      "Writing activities to SQLite3 database:\n",
      "0% [##############################] 100% | ETA: 00:00:00\n",
      "Total time elapsed: 00:00:36\n"
     ]
    },
    {
     "name": "stdout",
     "output_type": "stream",
     "text": [
      "Title: Writing activities to SQLite3 database:\n",
      "  Started: 12/07/2023 17:17:29\n",
      "  Finished: 12/07/2023 17:18:06\n",
      "  Total time elapsed: 00:00:36\n",
      "  CPU %: 91.20\n",
      "  Memory %: 17.20\n",
      "Created database: ecoinvent_consequential_3.9_remind_SSP1-Base_2030\n"
     ]
    },
    {
     "name": "stderr",
     "output_type": "stream",
     "text": [
      "Writing activities to SQLite3 database:\n",
      "0% [##############################] 100% | ETA: 00:00:00\n",
      "Total time elapsed: 00:00:33\n"
     ]
    },
    {
     "name": "stdout",
     "output_type": "stream",
     "text": [
      "Title: Writing activities to SQLite3 database:\n",
      "  Started: 12/07/2023 17:26:05\n",
      "  Finished: 12/07/2023 17:26:38\n",
      "  Total time elapsed: 00:00:33\n",
      "  CPU %: 93.50\n",
      "  Memory %: 17.44\n",
      "Created database: ecoinvent_consequential_3.9_remind_SSP2-Base_2030\n"
     ]
    },
    {
     "name": "stderr",
     "output_type": "stream",
     "text": [
      "Writing activities to SQLite3 database:\n",
      "0% [##############################] 100% | ETA: 00:00:00\n",
      "Total time elapsed: 00:00:34\n"
     ]
    },
    {
     "name": "stdout",
     "output_type": "stream",
     "text": [
      "Title: Writing activities to SQLite3 database:\n",
      "  Started: 12/07/2023 17:34:39\n",
      "  Finished: 12/07/2023 17:35:13\n",
      "  Total time elapsed: 00:00:34\n",
      "  CPU %: 93.50\n",
      "  Memory %: 15.00\n",
      "Created database: ecoinvent_consequential_3.9_remind_SSP5-Base_2030\n"
     ]
    },
    {
     "ename": "KeyboardInterrupt",
     "evalue": "",
     "output_type": "error",
     "traceback": [
      "\u001b[0;31m---------------------------------------------------------------------------\u001b[0m",
      "\u001b[0;31mKeyboardInterrupt\u001b[0m                         Traceback (most recent call last)",
      "File \u001b[0;32m/opt/homebrew/Caskroom/miniforge/base/envs/premise_env/lib/python3.10/site-packages/bw2data/backends/peewee/database.py:144\u001b[0m, in \u001b[0;36mSQLiteBackend._drop_indices\u001b[0;34m(self)\u001b[0m\n\u001b[1;32m    143\u001b[0m sqlite3_lci_db\u001b[38;5;241m.\u001b[39mexecute_sql(\u001b[38;5;124m'\u001b[39m\u001b[38;5;124mDROP INDEX IF EXISTS \u001b[39m\u001b[38;5;124m\"\u001b[39m\u001b[38;5;124mactivitydataset_key\u001b[39m\u001b[38;5;124m\"\u001b[39m\u001b[38;5;124m'\u001b[39m)\n\u001b[0;32m--> 144\u001b[0m \u001b[43msqlite3_lci_db\u001b[49m\u001b[38;5;241;43m.\u001b[39;49m\u001b[43mexecute_sql\u001b[49m\u001b[43m(\u001b[49m\u001b[38;5;124;43m'\u001b[39;49m\u001b[38;5;124;43mDROP INDEX IF EXISTS \u001b[39;49m\u001b[38;5;124;43m\"\u001b[39;49m\u001b[38;5;124;43mexchangedataset_input\u001b[39;49m\u001b[38;5;124;43m\"\u001b[39;49m\u001b[38;5;124;43m'\u001b[39;49m\u001b[43m)\u001b[49m\n\u001b[1;32m    145\u001b[0m sqlite3_lci_db\u001b[38;5;241m.\u001b[39mexecute_sql(\u001b[38;5;124m'\u001b[39m\u001b[38;5;124mDROP INDEX IF EXISTS \u001b[39m\u001b[38;5;124m\"\u001b[39m\u001b[38;5;124mexchangedataset_output\u001b[39m\u001b[38;5;124m\"\u001b[39m\u001b[38;5;124m'\u001b[39m)\n",
      "File \u001b[0;32m/opt/homebrew/Caskroom/miniforge/base/envs/premise_env/lib/python3.10/site-packages/bw2data/sqlite.py:50\u001b[0m, in \u001b[0;36mSubstitutableDatabase.execute_sql\u001b[0;34m(self, *args, **kwargs)\u001b[0m\n\u001b[1;32m     49\u001b[0m \u001b[38;5;28;01mdef\u001b[39;00m \u001b[38;5;21mexecute_sql\u001b[39m(\u001b[38;5;28mself\u001b[39m, \u001b[38;5;241m*\u001b[39margs, \u001b[38;5;241m*\u001b[39m\u001b[38;5;241m*\u001b[39mkwargs):\n\u001b[0;32m---> 50\u001b[0m     \u001b[38;5;28;01mreturn\u001b[39;00m \u001b[38;5;28;43mself\u001b[39;49m\u001b[38;5;241;43m.\u001b[39;49m\u001b[43mdb\u001b[49m\u001b[38;5;241;43m.\u001b[39;49m\u001b[43mexecute_sql\u001b[49m\u001b[43m(\u001b[49m\u001b[38;5;241;43m*\u001b[39;49m\u001b[43margs\u001b[49m\u001b[43m,\u001b[49m\u001b[43m \u001b[49m\u001b[38;5;241;43m*\u001b[39;49m\u001b[38;5;241;43m*\u001b[39;49m\u001b[43mkwargs\u001b[49m\u001b[43m)\u001b[49m\n",
      "File \u001b[0;32m/opt/homebrew/Caskroom/miniforge/base/envs/premise_env/lib/python3.10/site-packages/peewee.py:3252\u001b[0m, in \u001b[0;36mDatabase.execute_sql\u001b[0;34m(self, sql, params, commit)\u001b[0m\n\u001b[1;32m   3251\u001b[0m     cursor \u001b[38;5;241m=\u001b[39m \u001b[38;5;28mself\u001b[39m\u001b[38;5;241m.\u001b[39mcursor()\n\u001b[0;32m-> 3252\u001b[0m     \u001b[43mcursor\u001b[49m\u001b[38;5;241;43m.\u001b[39;49m\u001b[43mexecute\u001b[49m\u001b[43m(\u001b[49m\u001b[43msql\u001b[49m\u001b[43m,\u001b[49m\u001b[43m \u001b[49m\u001b[43mparams\u001b[49m\u001b[43m \u001b[49m\u001b[38;5;129;43;01mor\u001b[39;49;00m\u001b[43m \u001b[49m\u001b[43m(\u001b[49m\u001b[43m)\u001b[49m\u001b[43m)\u001b[49m\n\u001b[1;32m   3253\u001b[0m \u001b[38;5;28;01mreturn\u001b[39;00m cursor\n",
      "\u001b[0;31mKeyboardInterrupt\u001b[0m: ",
      "\nDuring handling of the above exception, another exception occurred:\n",
      "\u001b[0;31mKeyboardInterrupt\u001b[0m                         Traceback (most recent call last)",
      "Cell \u001b[0;32mIn[5], line 1\u001b[0m\n\u001b[0;32m----> 1\u001b[0m \u001b[43mndb\u001b[49m\u001b[38;5;241;43m.\u001b[39;49m\u001b[43mwrite_db_to_brightway\u001b[49m\u001b[43m(\u001b[49m\u001b[43m)\u001b[49m\n",
      "File \u001b[0;32m~/GitHub/premise/premise/ecoinvent_modification.py:1475\u001b[0m, in \u001b[0;36mNewDatabase.write_db_to_brightway\u001b[0;34m(self, name)\u001b[0m\n\u001b[1;32m   1467\u001b[0m     _prepare_database(\n\u001b[1;32m   1468\u001b[0m         scenario\u001b[38;5;241m=\u001b[39mscenario,\n\u001b[1;32m   1469\u001b[0m         db_name\u001b[38;5;241m=\u001b[39mname[s],\n\u001b[1;32m   1470\u001b[0m         original_database\u001b[38;5;241m=\u001b[39m\u001b[38;5;28mself\u001b[39m\u001b[38;5;241m.\u001b[39mdatabase,\n\u001b[1;32m   1471\u001b[0m         keep_uncertainty_data\u001b[38;5;241m=\u001b[39m\u001b[38;5;28mself\u001b[39m\u001b[38;5;241m.\u001b[39mkeep_uncertainty_data,\n\u001b[1;32m   1472\u001b[0m     )\n\u001b[1;32m   1474\u001b[0m \u001b[38;5;28;01mfor\u001b[39;00m scen, scenario \u001b[38;5;129;01min\u001b[39;00m \u001b[38;5;28menumerate\u001b[39m(\u001b[38;5;28mself\u001b[39m\u001b[38;5;241m.\u001b[39mscenarios):\n\u001b[0;32m-> 1475\u001b[0m     \u001b[43mwrite_brightway_database\u001b[49m\u001b[43m(\u001b[49m\n\u001b[1;32m   1476\u001b[0m \u001b[43m        \u001b[49m\u001b[43mscenario\u001b[49m\u001b[43m[\u001b[49m\u001b[38;5;124;43m\"\u001b[39;49m\u001b[38;5;124;43mdatabase\u001b[39;49m\u001b[38;5;124;43m\"\u001b[39;49m\u001b[43m]\u001b[49m\u001b[43m,\u001b[49m\n\u001b[1;32m   1477\u001b[0m \u001b[43m        \u001b[49m\u001b[43mname\u001b[49m\u001b[43m[\u001b[49m\u001b[43mscen\u001b[49m\u001b[43m]\u001b[49m\u001b[43m,\u001b[49m\n\u001b[1;32m   1478\u001b[0m \u001b[43m    \u001b[49m\u001b[43m)\u001b[49m\n\u001b[1;32m   1479\u001b[0m \u001b[38;5;66;03m# generate scenario report\u001b[39;00m\n\u001b[1;32m   1480\u001b[0m \u001b[38;5;28mself\u001b[39m\u001b[38;5;241m.\u001b[39mgenerate_scenario_report()\n",
      "File \u001b[0;32m~/GitHub/premise/premise/brightway2.py:31\u001b[0m, in \u001b[0;36mwrite_brightway_database\u001b[0;34m(data, name)\u001b[0m\n\u001b[1;32m     29\u001b[0m link_internal(data)\n\u001b[1;32m     30\u001b[0m check_internal_linking(data)\n\u001b[0;32m---> 31\u001b[0m \u001b[43mBW2Importer\u001b[49m\u001b[43m(\u001b[49m\u001b[43mname\u001b[49m\u001b[43m,\u001b[49m\u001b[43m \u001b[49m\u001b[43mdata\u001b[49m\u001b[43m)\u001b[49m\u001b[38;5;241;43m.\u001b[39;49m\u001b[43mwrite_database\u001b[49m\u001b[43m(\u001b[49m\u001b[43m)\u001b[49m\n",
      "File \u001b[0;32m~/GitHub/premise/premise/brightway2.py:22\u001b[0m, in \u001b[0;36mBW2Importer.write_database\u001b[0;34m(self)\u001b[0m\n\u001b[1;32m     20\u001b[0m     \u001b[38;5;28mprint\u001b[39m(\u001b[38;5;124mf\u001b[39m\u001b[38;5;124m\"\u001b[39m\u001b[38;5;124mDatabase \u001b[39m\u001b[38;5;132;01m{\u001b[39;00m\u001b[38;5;28mself\u001b[39m\u001b[38;5;241m.\u001b[39mdb_name\u001b[38;5;132;01m}\u001b[39;00m\u001b[38;5;124m already exists: it will be overwritten.\u001b[39m\u001b[38;5;124m\"\u001b[39m)\n\u001b[1;32m     21\u001b[0m     \u001b[38;5;28;01mdel\u001b[39;00m databases[\u001b[38;5;28mself\u001b[39m\u001b[38;5;241m.\u001b[39mdb_name]\n\u001b[0;32m---> 22\u001b[0m \u001b[38;5;28;43msuper\u001b[39;49m\u001b[43m(\u001b[49m\u001b[43m)\u001b[49m\u001b[38;5;241;43m.\u001b[39;49m\u001b[43mwrite_database\u001b[49m\u001b[43m(\u001b[49m\u001b[43m)\u001b[49m\n",
      "File \u001b[0;32m/opt/homebrew/Caskroom/miniforge/base/envs/premise_env/lib/python3.10/site-packages/bw2io/importers/base_lci.py:269\u001b[0m, in \u001b[0;36mLCIImporter.write_database\u001b[0;34m(self, data, delete_existing, backend, activate_parameters, **kwargs)\u001b[0m\n\u001b[1;32m    266\u001b[0m \u001b[38;5;28mself\u001b[39m\u001b[38;5;241m.\u001b[39mwrite_database_parameters(activate_parameters, delete_existing)\n\u001b[1;32m    268\u001b[0m existing\u001b[38;5;241m.\u001b[39mupdate(data)\n\u001b[0;32m--> 269\u001b[0m \u001b[43mdb\u001b[49m\u001b[38;5;241;43m.\u001b[39;49m\u001b[43mwrite\u001b[49m\u001b[43m(\u001b[49m\u001b[43mexisting\u001b[49m\u001b[43m)\u001b[49m\n\u001b[1;32m    271\u001b[0m \u001b[38;5;28;01mif\u001b[39;00m activate_parameters:\n\u001b[1;32m    272\u001b[0m     \u001b[38;5;28mself\u001b[39m\u001b[38;5;241m.\u001b[39m_write_activity_parameters(activity_parameters)\n",
      "File \u001b[0;32m/opt/homebrew/Caskroom/miniforge/base/envs/premise_env/lib/python3.10/site-packages/bw2data/project.py:358\u001b[0m, in \u001b[0;36mwritable_project\u001b[0;34m(wrapped, instance, args, kwargs)\u001b[0m\n\u001b[1;32m    356\u001b[0m \u001b[38;5;28;01mif\u001b[39;00m projects\u001b[38;5;241m.\u001b[39mread_only:\n\u001b[1;32m    357\u001b[0m     \u001b[38;5;28;01mraise\u001b[39;00m ReadOnlyProject(READ_ONLY_PROJECT)\n\u001b[0;32m--> 358\u001b[0m \u001b[38;5;28;01mreturn\u001b[39;00m \u001b[43mwrapped\u001b[49m\u001b[43m(\u001b[49m\u001b[38;5;241;43m*\u001b[39;49m\u001b[43margs\u001b[49m\u001b[43m,\u001b[49m\u001b[43m \u001b[49m\u001b[38;5;241;43m*\u001b[39;49m\u001b[38;5;241;43m*\u001b[39;49m\u001b[43mkwargs\u001b[49m\u001b[43m)\u001b[49m\n",
      "File \u001b[0;32m/opt/homebrew/Caskroom/miniforge/base/envs/premise_env/lib/python3.10/site-packages/bw2data/backends/peewee/database.py:260\u001b[0m, in \u001b[0;36mSQLiteBackend.write\u001b[0;34m(self, data, process)\u001b[0m\n\u001b[1;32m    258\u001b[0m \u001b[38;5;28;01mif\u001b[39;00m data:\n\u001b[1;32m    259\u001b[0m     \u001b[38;5;28;01mtry\u001b[39;00m:\n\u001b[0;32m--> 260\u001b[0m         \u001b[38;5;28;43mself\u001b[39;49m\u001b[38;5;241;43m.\u001b[39;49m\u001b[43m_efficient_write_many_data\u001b[49m\u001b[43m(\u001b[49m\u001b[43mdata\u001b[49m\u001b[43m)\u001b[49m\n\u001b[1;32m    261\u001b[0m     \u001b[38;5;28;01mexcept\u001b[39;00m:\n\u001b[1;32m    262\u001b[0m         \u001b[38;5;66;03m# Purge all data from database, then reraise\u001b[39;00m\n\u001b[1;32m    263\u001b[0m         \u001b[38;5;28mself\u001b[39m\u001b[38;5;241m.\u001b[39mdelete(warn\u001b[38;5;241m=\u001b[39m\u001b[38;5;28;01mFalse\u001b[39;00m)\n",
      "File \u001b[0;32m/opt/homebrew/Caskroom/miniforge/base/envs/premise_env/lib/python3.10/site-packages/bw2data/backends/peewee/database.py:189\u001b[0m, in \u001b[0;36mSQLiteBackend._efficient_write_many_data\u001b[0;34m(self, data, indices)\u001b[0m\n\u001b[1;32m    187\u001b[0m be_complicated \u001b[38;5;241m=\u001b[39m \u001b[38;5;28mlen\u001b[39m(data) \u001b[38;5;241m>\u001b[39m\u001b[38;5;241m=\u001b[39m \u001b[38;5;241m100\u001b[39m \u001b[38;5;129;01mand\u001b[39;00m indices\n\u001b[1;32m    188\u001b[0m \u001b[38;5;28;01mif\u001b[39;00m be_complicated:\n\u001b[0;32m--> 189\u001b[0m     \u001b[38;5;28;43mself\u001b[39;49m\u001b[38;5;241;43m.\u001b[39;49m\u001b[43m_drop_indices\u001b[49m\u001b[43m(\u001b[49m\u001b[43m)\u001b[49m\n\u001b[1;32m    190\u001b[0m sqlite3_lci_db\u001b[38;5;241m.\u001b[39mdb\u001b[38;5;241m.\u001b[39mautocommit \u001b[38;5;241m=\u001b[39m \u001b[38;5;28;01mFalse\u001b[39;00m\n\u001b[1;32m    191\u001b[0m \u001b[38;5;28;01mtry\u001b[39;00m:\n",
      "File \u001b[0;32m/opt/homebrew/Caskroom/miniforge/base/envs/premise_env/lib/python3.10/site-packages/bw2data/backends/peewee/database.py:142\u001b[0m, in \u001b[0;36mSQLiteBackend._drop_indices\u001b[0;34m(self)\u001b[0m\n\u001b[1;32m    141\u001b[0m \u001b[38;5;28;01mdef\u001b[39;00m \u001b[38;5;21m_drop_indices\u001b[39m(\u001b[38;5;28mself\u001b[39m):\n\u001b[0;32m--> 142\u001b[0m     \u001b[38;5;28;01mwith\u001b[39;00m sqlite3_lci_db\u001b[38;5;241m.\u001b[39mtransaction():\n\u001b[1;32m    143\u001b[0m         sqlite3_lci_db\u001b[38;5;241m.\u001b[39mexecute_sql(\u001b[38;5;124m'\u001b[39m\u001b[38;5;124mDROP INDEX IF EXISTS \u001b[39m\u001b[38;5;124m\"\u001b[39m\u001b[38;5;124mactivitydataset_key\u001b[39m\u001b[38;5;124m\"\u001b[39m\u001b[38;5;124m'\u001b[39m)\n\u001b[1;32m    144\u001b[0m         sqlite3_lci_db\u001b[38;5;241m.\u001b[39mexecute_sql(\u001b[38;5;124m'\u001b[39m\u001b[38;5;124mDROP INDEX IF EXISTS \u001b[39m\u001b[38;5;124m\"\u001b[39m\u001b[38;5;124mexchangedataset_input\u001b[39m\u001b[38;5;124m\"\u001b[39m\u001b[38;5;124m'\u001b[39m)\n",
      "File \u001b[0;32m/opt/homebrew/Caskroom/miniforge/base/envs/premise_env/lib/python3.10/site-packages/peewee.py:4434\u001b[0m, in \u001b[0;36m_transaction.__exit__\u001b[0;34m(self, exc_type, exc_val, exc_tb)\u001b[0m\n\u001b[1;32m   4432\u001b[0m \u001b[38;5;28;01mtry\u001b[39;00m:\n\u001b[1;32m   4433\u001b[0m     \u001b[38;5;28;01mif\u001b[39;00m exc_type \u001b[38;5;129;01mand\u001b[39;00m depth \u001b[38;5;241m==\u001b[39m \u001b[38;5;241m1\u001b[39m:\n\u001b[0;32m-> 4434\u001b[0m         \u001b[38;5;28;43mself\u001b[39;49m\u001b[38;5;241;43m.\u001b[39;49m\u001b[43mrollback\u001b[49m\u001b[43m(\u001b[49m\u001b[38;5;28;43;01mFalse\u001b[39;49;00m\u001b[43m)\u001b[49m\n\u001b[1;32m   4435\u001b[0m     \u001b[38;5;28;01melif\u001b[39;00m depth \u001b[38;5;241m==\u001b[39m \u001b[38;5;241m1\u001b[39m:\n\u001b[1;32m   4436\u001b[0m         \u001b[38;5;28;01mtry\u001b[39;00m:\n",
      "File \u001b[0;32m/opt/homebrew/Caskroom/miniforge/base/envs/premise_env/lib/python3.10/site-packages/peewee.py:4420\u001b[0m, in \u001b[0;36m_transaction.rollback\u001b[0;34m(self, begin)\u001b[0m\n\u001b[1;32m   4419\u001b[0m \u001b[38;5;28;01mdef\u001b[39;00m \u001b[38;5;21mrollback\u001b[39m(\u001b[38;5;28mself\u001b[39m, begin\u001b[38;5;241m=\u001b[39m\u001b[38;5;28;01mTrue\u001b[39;00m):\n\u001b[0;32m-> 4420\u001b[0m     \u001b[38;5;28;43mself\u001b[39;49m\u001b[38;5;241;43m.\u001b[39;49m\u001b[43mdb\u001b[49m\u001b[38;5;241;43m.\u001b[39;49m\u001b[43mrollback\u001b[49m\u001b[43m(\u001b[49m\u001b[43m)\u001b[49m\n\u001b[1;32m   4421\u001b[0m     \u001b[38;5;28;01mif\u001b[39;00m begin:\n\u001b[1;32m   4422\u001b[0m         \u001b[38;5;28mself\u001b[39m\u001b[38;5;241m.\u001b[39m_begin()\n",
      "File \u001b[0;32m/opt/homebrew/Caskroom/miniforge/base/envs/premise_env/lib/python3.10/site-packages/peewee.py:3781\u001b[0m, in \u001b[0;36mSqliteDatabase.rollback\u001b[0;34m(self)\u001b[0m\n\u001b[1;32m   3779\u001b[0m \u001b[38;5;28;01mdef\u001b[39;00m \u001b[38;5;21mrollback\u001b[39m(\u001b[38;5;28mself\u001b[39m):\n\u001b[1;32m   3780\u001b[0m     \u001b[38;5;28;01mwith\u001b[39;00m __exception_wrapper__:\n\u001b[0;32m-> 3781\u001b[0m         \u001b[38;5;28;01mreturn\u001b[39;00m \u001b[38;5;28;43mself\u001b[39;49m\u001b[38;5;241;43m.\u001b[39;49m\u001b[43m_state\u001b[49m\u001b[38;5;241;43m.\u001b[39;49m\u001b[43mconn\u001b[49m\u001b[38;5;241;43m.\u001b[39;49m\u001b[43mrollback\u001b[49m\u001b[43m(\u001b[49m\u001b[43m)\u001b[49m\n",
      "\u001b[0;31mKeyboardInterrupt\u001b[0m: "
     ]
    }
   ],
   "source": [
    "ndb.write_db_to_brightway()"
   ]
  },
  {
   "cell_type": "code",
   "execution_count": 8,
   "id": "4966c9f8-bad0-4e49-a1fb-4b061c374c35",
   "metadata": {},
   "outputs": [
    {
     "name": "stdout",
     "output_type": "stream",
     "text": [
      "market for electricity, for reuse in municipal waste incineration only 1.0 GB production\n",
      "electricity, from municipal waste incineration to generic market for electricity, medium voltage 1.0 GB technosphere\n"
     ]
    }
   ],
   "source": [
    "for ds in ndb.database:\n",
    "    if ds[\"name\"] == \"market for electricity, for reuse in municipal waste incineration only\" and ds[\"location\"] == \"GB\":\n",
    "        for e in ds[\"exchanges\"]:\n",
    "            print(e[\"name\"], e[\"amount\"], e.get(\"location\"), e[\"type\"])"
   ]
  },
  {
   "cell_type": "code",
   "execution_count": null,
   "id": "993b6b4c-097f-4752-be2a-47b729a95562",
   "metadata": {},
   "outputs": [],
   "source": []
  }
 ],
 "metadata": {
  "kernelspec": {
   "display_name": "Python 3 (ipykernel)",
   "language": "python",
   "name": "python3"
  },
  "language_info": {
   "codemirror_mode": {
    "name": "ipython",
    "version": 3
   },
   "file_extension": ".py",
   "mimetype": "text/x-python",
   "name": "python",
   "nbconvert_exporter": "python",
   "pygments_lexer": "ipython3",
   "version": "3.10.13"
  }
 },
 "nbformat": 4,
 "nbformat_minor": 5
}
